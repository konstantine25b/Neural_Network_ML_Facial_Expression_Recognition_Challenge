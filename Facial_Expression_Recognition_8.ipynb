{
  "cells": [
    {
      "cell_type": "markdown",
      "source": [
        "# Experiment 8"
      ],
      "metadata": {
        "id": "OTQQdmnjbD9m"
      }
    },
    {
      "cell_type": "code",
      "execution_count": 1,
      "metadata": {
        "vscode": {
          "languageId": "plaintext"
        },
        "colab": {
          "base_uri": "https://localhost:8080/"
        },
        "id": "4-3_dUYIbDH-",
        "outputId": "15be9953-f9ba-446c-9c5d-f283e2d0666d"
      },
      "outputs": [
        {
          "output_type": "stream",
          "name": "stdout",
          "text": [
            "Drive already mounted at /content/drive; to attempt to forcibly remount, call drive.mount(\"/content/drive\", force_remount=True).\n"
          ]
        }
      ],
      "source": [
        "!pip install kaggle wandb onnx -Uq\n",
        "from google.colab import drive\n",
        "drive.mount('/content/drive')"
      ]
    },
    {
      "cell_type": "code",
      "source": [
        "! mkdir ~/.kaggle"
      ],
      "metadata": {
        "id": "7SsMqQ5wcYPl",
        "colab": {
          "base_uri": "https://localhost:8080/"
        },
        "outputId": "be283556-c1e4-45c9-aa7c-4cbc586f5be0"
      },
      "execution_count": 2,
      "outputs": [
        {
          "output_type": "stream",
          "name": "stdout",
          "text": [
            "mkdir: cannot create directory ‘/root/.kaggle’: File exists\n"
          ]
        }
      ]
    },
    {
      "cell_type": "code",
      "source": [
        "!cp /content/drive/MyDrive/ColabNotebooks/kaggle_API_credentials/kaggle.json ~/.kaggle/kaggle.json"
      ],
      "metadata": {
        "id": "L3iBU6lGcZxf"
      },
      "execution_count": 3,
      "outputs": []
    },
    {
      "cell_type": "code",
      "source": [
        "! chmod 600 ~/.kaggle/kaggle.json"
      ],
      "metadata": {
        "id": "ESuHkY-TccFX"
      },
      "execution_count": 4,
      "outputs": []
    },
    {
      "cell_type": "code",
      "source": [
        "!kaggle competitions download -c challenges-in-representation-learning-facial-expression-recognition-challenge"
      ],
      "metadata": {
        "colab": {
          "base_uri": "https://localhost:8080/"
        },
        "id": "7taRfgywchiZ",
        "outputId": "0343737a-47ef-4a2f-b027-7154c5d876f6"
      },
      "execution_count": 5,
      "outputs": [
        {
          "output_type": "stream",
          "name": "stdout",
          "text": [
            "challenges-in-representation-learning-facial-expression-recognition-challenge.zip: Skipping, found more recently modified local copy (use --force to force download)\n"
          ]
        }
      ]
    },
    {
      "cell_type": "code",
      "source": [
        "! unzip challenges-in-representation-learning-facial-expression-recognition-challenge.zip"
      ],
      "metadata": {
        "colab": {
          "base_uri": "https://localhost:8080/"
        },
        "id": "VHC28BQHcjXZ",
        "outputId": "196fc047-af00-41d3-af35-35ce34d7a83b"
      },
      "execution_count": 6,
      "outputs": [
        {
          "output_type": "stream",
          "name": "stdout",
          "text": [
            "Archive:  challenges-in-representation-learning-facial-expression-recognition-challenge.zip\n",
            "replace example_submission.csv? [y]es, [n]o, [A]ll, [N]one, [r]ename: y\n",
            "  inflating: example_submission.csv  \n",
            "replace fer2013.tar.gz? [y]es, [n]o, [A]ll, [N]one, [r]ename: y\n",
            "  inflating: fer2013.tar.gz          y\n",
            "y\n",
            "y\n",
            "\n",
            "replace icml_face_data.csv? [y]es, [n]o, [A]ll, [N]one, [r]ename:   inflating: icml_face_data.csv      y\n",
            "y\n",
            "y\n",
            "\n",
            "replace test.csv? [y]es, [n]o, [A]ll, [N]one, [r]ename:   inflating: test.csv                \n",
            "replace train.csv? [y]es, [n]o, [A]ll, [N]one, [r]ename:   inflating: train.csv               y\n",
            "y\n",
            "\n"
          ]
        }
      ]
    },
    {
      "cell_type": "code",
      "source": [
        "!pip install wandb onnx -Uq"
      ],
      "metadata": {
        "id": "of5s7_N5clDK"
      },
      "execution_count": 7,
      "outputs": []
    },
    {
      "cell_type": "markdown",
      "source": [
        "# data"
      ],
      "metadata": {
        "id": "dSlQwB2PcnZL"
      }
    },
    {
      "cell_type": "code",
      "source": [
        "import torch\n",
        "import torch.nn as nn\n",
        "import torch.optim as optim\n",
        "import torch.nn.functional as F\n",
        "from torch.utils.data import Dataset, DataLoader, random_split\n",
        "import torchvision.transforms as transforms\n",
        "import pandas as pd\n",
        "import numpy as np\n",
        "import matplotlib.pyplot as plt\n",
        "import seaborn as sns\n",
        "from sklearn.metrics import classification_report, confusion_matrix\n",
        "import wandb\n",
        "from tqdm import tqdm\n",
        "import warnings\n",
        "warnings.filterwarnings('ignore')"
      ],
      "metadata": {
        "id": "20zdIE3QcnJM"
      },
      "execution_count": 8,
      "outputs": []
    },
    {
      "cell_type": "code",
      "source": [
        "device = torch.device('cuda' if torch.cuda.is_available() else 'cpu')\n",
        "print(f\"Using device: {device}\")"
      ],
      "metadata": {
        "colab": {
          "base_uri": "https://localhost:8080/"
        },
        "id": "57qUiSyzczhX",
        "outputId": "7a3ea227-056a-49f2-d2a5-33391c2e1ae5"
      },
      "execution_count": 9,
      "outputs": [
        {
          "output_type": "stream",
          "name": "stdout",
          "text": [
            "Using device: cuda\n"
          ]
        }
      ]
    },
    {
      "cell_type": "code",
      "source": [
        "wandb.login()"
      ],
      "metadata": {
        "colab": {
          "base_uri": "https://localhost:8080/"
        },
        "id": "UfgvGR1rdJCr",
        "outputId": "cf9d73bc-4bc8-4646-9d85-0957815cdd3e"
      },
      "execution_count": 10,
      "outputs": [
        {
          "output_type": "stream",
          "name": "stderr",
          "text": [
            "\u001b[34m\u001b[1mwandb\u001b[0m: Currently logged in as: \u001b[33mkonstantine25b\u001b[0m (\u001b[33mkonstantine25b-free-university-of-tbilisi-\u001b[0m) to \u001b[32mhttps://api.wandb.ai\u001b[0m. Use \u001b[1m`wandb login --relogin`\u001b[0m to force relogin\n"
          ]
        },
        {
          "output_type": "execute_result",
          "data": {
            "text/plain": [
              "True"
            ]
          },
          "metadata": {},
          "execution_count": 10
        }
      ]
    },
    {
      "cell_type": "code",
      "source": [
        "class FER2013Dataset(Dataset):\n",
        "    def __init__(self, data_source, transform=None):\n",
        "        if isinstance(data_source, str):\n",
        "           self.data = pd.read_csv(data_source)\n",
        "        else:\n",
        "           self.data = data_source\n",
        "        self.transform = transform\n",
        "\n",
        "    def __len__(self):\n",
        "        return len(self.data)\n",
        "\n",
        "    def __getitem__(self, idx):\n",
        "        pixels = self.data.iloc[idx]['pixels']\n",
        "        emotion = self.data.iloc[idx]['emotion']\n",
        "\n",
        "        image = np.array([int(pixel) for pixel in pixels.split()]).reshape(48, 48)\n",
        "        image = image.astype(np.float32) / 255.0\n",
        "\n",
        "        if self.transform:\n",
        "            image = self.transform(image)\n",
        "        else:\n",
        "            image = torch.FloatTensor(image).unsqueeze(0)\n",
        "\n",
        "        return image, emotion"
      ],
      "metadata": {
        "id": "6xbTLnU2dLUn"
      },
      "execution_count": 11,
      "outputs": []
    },
    {
      "cell_type": "code",
      "source": [
        "def get_transforms():\n",
        "    train_transform = transforms.Compose([\n",
        "        transforms.ToPILImage(),\n",
        "        transforms.Pad(4),\n",
        "        transforms.RandomCrop(48),\n",
        "        transforms.RandomHorizontalFlip(p=0.3),\n",
        "        transforms.RandomRotation(10),\n",
        "        transforms.ToTensor(),\n",
        "        transforms.Normalize((0.5,), (0.5,))\n",
        "    ])\n",
        "\n",
        "    val_test_transform = transforms.Compose([\n",
        "        transforms.ToPILImage(),\n",
        "        transforms.ToTensor(),\n",
        "        transforms.Normalize((0.5,), (0.5,))\n",
        "    ])\n",
        "\n",
        "    return train_transform, val_test_transform"
      ],
      "metadata": {
        "id": "kOZ6iMB1dNP4"
      },
      "execution_count": 12,
      "outputs": []
    },
    {
      "cell_type": "code",
      "source": [
        "def create_train_val_test_splits(csv_file):\n",
        "    data = pd.read_csv(csv_file)\n",
        "\n",
        "    train_size = int(0.72 * len(data))\n",
        "    val_size = int(0.18 * len(data))\n",
        "    test_size = len(data) - train_size - val_size\n",
        "\n",
        "    train_data = data.iloc[:train_size]\n",
        "    val_data = data.iloc[train_size:train_size + val_size]\n",
        "    test_data = data.iloc[train_size + val_size:]\n",
        "\n",
        "    return train_data, val_data, test_data"
      ],
      "metadata": {
        "id": "fZfqrQ08dTBZ"
      },
      "execution_count": 13,
      "outputs": []
    },
    {
      "cell_type": "code",
      "source": [
        "def create_dataloaders(csv_file, batch_size=64):\n",
        "    train_transform, val_test_transform = get_transforms()\n",
        "\n",
        "    train_data, val_data, test_data = create_train_val_test_splits(csv_file)\n",
        "\n",
        "    train_dataset = FER2013Dataset(train_data, transform=train_transform)\n",
        "    val_dataset = FER2013Dataset(val_data, transform=val_test_transform)\n",
        "    test_dataset = FER2013Dataset(test_data, transform=val_test_transform)\n",
        "\n",
        "    train_loader = DataLoader(train_dataset, batch_size=batch_size, shuffle=True, num_workers=2)\n",
        "    val_loader = DataLoader(val_dataset, batch_size=batch_size, shuffle=False, num_workers=2)\n",
        "    test_loader = DataLoader(test_dataset, batch_size=batch_size, shuffle=False, num_workers=2)\n",
        "\n",
        "    return train_loader, val_loader, test_loader"
      ],
      "metadata": {
        "id": "KJyM8jC8dU66"
      },
      "execution_count": 14,
      "outputs": []
    },
    {
      "cell_type": "code",
      "source": [
        "class BasicResidualBlock(nn.Module):\n",
        "    def __init__(self, in_channels, out_channels, stride=1):\n",
        "        super(BasicResidualBlock, self).__init__()\n",
        "        self.conv1 = nn.Conv2d(in_channels, out_channels, kernel_size=3, stride=stride, padding=1, bias=False)\n",
        "        self.bn1 = nn.BatchNorm2d(out_channels)\n",
        "        self.conv2 = nn.Conv2d(out_channels, out_channels, kernel_size=3, stride=1, padding=1, bias=False)\n",
        "        self.bn2 = nn.BatchNorm2d(out_channels)\n",
        "\n",
        "        self.shortcut = nn.Sequential()\n",
        "        if stride != 1 or in_channels != out_channels:\n",
        "            self.shortcut = nn.Sequential(\n",
        "                nn.Conv2d(in_channels, out_channels, kernel_size=1, stride=stride, bias=False),\n",
        "                nn.BatchNorm2d(out_channels)\n",
        "            )\n",
        "\n",
        "    def forward(self, x):\n",
        "        out = F.relu(self.bn1(self.conv1(x)))\n",
        "        out = self.bn2(self.conv2(out))\n",
        "        out += self.shortcut(x)\n",
        "        out = F.relu(out)\n",
        "        return out"
      ],
      "metadata": {
        "id": "J6oYHy7BdgSw"
      },
      "execution_count": 15,
      "outputs": []
    },
    {
      "cell_type": "code",
      "source": [
        "class EnhancedCNN(nn.Module):\n",
        "    def __init__(self, dropout_rate=0.3, hidden_dim=128):\n",
        "        super(EnhancedCNN, self).__init__()\n",
        "\n",
        "        self.conv1 = nn.Conv2d(1, 32, kernel_size=3, padding=1)\n",
        "        self.bn1 = nn.BatchNorm2d(32)\n",
        "        self.pool1 = nn.MaxPool2d(kernel_size=2)\n",
        "\n",
        "        self.conv2 = nn.Conv2d(32, 64, kernel_size=3, padding=1)\n",
        "        self.bn2 = nn.BatchNorm2d(64)\n",
        "        self.pool2 = nn.MaxPool2d(kernel_size=2)\n",
        "\n",
        "        self.resnet_block = BasicResidualBlock(64, 128, stride=2)\n",
        "\n",
        "        self.conv3 = nn.Conv2d(128, 128, kernel_size=3, padding=1)\n",
        "        self.bn3 = nn.BatchNorm2d(128)\n",
        "        self.pool3 = nn.MaxPool2d(kernel_size=2)\n",
        "\n",
        "        self.fc1 = nn.Linear(128 * 3 * 3, hidden_dim)\n",
        "        self.bn4 = nn.BatchNorm1d(hidden_dim)\n",
        "        self.dropout1 = nn.Dropout(dropout_rate)\n",
        "        self.fc2 = nn.Linear(hidden_dim, 7)\n",
        "\n",
        "    def forward(self, x):\n",
        "        x = self.pool1(F.relu(self.bn1(self.conv1(x))))\n",
        "        x = self.pool2(F.relu(self.bn2(self.conv2(x))))\n",
        "\n",
        "        x = self.resnet_block(x)\n",
        "\n",
        "        x = self.pool3(F.relu(self.bn3(self.conv3(x))))\n",
        "\n",
        "        x = x.view(x.size(0), -1)\n",
        "        x = F.relu(self.bn4(self.fc1(x)))\n",
        "        x = self.dropout1(x)\n",
        "        x = self.fc2(x)\n",
        "\n",
        "        return x"
      ],
      "metadata": {
        "id": "CA1Rcwa8diO9"
      },
      "execution_count": 16,
      "outputs": []
    },
    {
      "cell_type": "code",
      "source": [
        "def test_overfitting():\n",
        "    print(\"Testing enhanced CNN with ResNet block on small dataset...\")\n",
        "\n",
        "    model = EnhancedCNN(dropout_rate=0.0).to(device)\n",
        "    criterion = nn.CrossEntropyLoss()\n",
        "    optimizer = optim.Adam(model.parameters(), lr=0.001)\n",
        "\n",
        "    train_loader, _, _ = create_dataloaders('train.csv', batch_size=32)\n",
        "\n",
        "    small_batch = []\n",
        "    for i, (data, target) in enumerate(train_loader):\n",
        "        small_batch.extend(list(zip(data, target)))\n",
        "        if len(small_batch) >= 20:\n",
        "            break\n",
        "\n",
        "    small_batch = small_batch[:20]\n",
        "\n",
        "    for epoch in range(30):\n",
        "        model.train()\n",
        "        total_loss = 0\n",
        "        correct = 0\n",
        "\n",
        "        batch_data = []\n",
        "        batch_targets = []\n",
        "\n",
        "        for data, target in small_batch:\n",
        "            batch_data.append(data)\n",
        "            batch_targets.append(target)\n",
        "\n",
        "        batch_data = torch.stack(batch_data).to(device)\n",
        "        batch_targets = torch.tensor(batch_targets).to(device)\n",
        "\n",
        "        optimizer.zero_grad()\n",
        "        output = model(batch_data)\n",
        "        loss = criterion(output, batch_targets)\n",
        "        loss.backward()\n",
        "        optimizer.step()\n",
        "\n",
        "        total_loss = loss.item()\n",
        "        pred = output.argmax(dim=1)\n",
        "        correct = pred.eq(batch_targets).sum().item()\n",
        "\n",
        "        accuracy = 100. * correct / len(small_batch)\n",
        "\n",
        "        print(f\"Overfit Epoch {epoch+1}/30, Loss: {total_loss:.4f}, Acc: {accuracy:.2f}%\")\n",
        "\n",
        "        if accuracy >= 95.0:\n",
        "            print(\"Enhanced CNN can overfit successfully!\")\n",
        "            break\n",
        "\n",
        "    print(\"Overfitting test completed.\\n\")"
      ],
      "metadata": {
        "id": "zq09k-FsdlMp"
      },
      "execution_count": 17,
      "outputs": []
    },
    {
      "cell_type": "code",
      "source": [
        "def compute_loss(loader, model, criterion, device):\n",
        "    model.eval()\n",
        "    total_loss = 0\n",
        "    correct = 0\n",
        "    total = 0\n",
        "\n",
        "    with torch.no_grad():\n",
        "        for data, target in loader:\n",
        "            data, target = data.to(device), target.to(device)\n",
        "            output = model(data)\n",
        "            loss = criterion(output, target)\n",
        "\n",
        "            total_loss += loss.item()\n",
        "            pred = output.argmax(dim=1)\n",
        "            correct += pred.eq(target).sum().item()\n",
        "            total += target.size(0)\n",
        "\n",
        "    return total_loss / len(loader), 100. * correct / total"
      ],
      "metadata": {
        "id": "L_qtXEbndp0D"
      },
      "execution_count": 18,
      "outputs": []
    },
    {
      "cell_type": "code",
      "source": [
        "def train_model(config=None):\n",
        "    with wandb.init(project=\"Facial_Expression_Recognition_8\", config=config):\n",
        "        config = wandb.config\n",
        "\n",
        "        model = EnhancedCNN(dropout_rate=config.dropout_rate, hidden_dim=config.hidden_dim).to(device)\n",
        "        train_loader, val_loader, test_loader = create_dataloaders('train.csv', config.batch_size)\n",
        "\n",
        "        criterion = nn.CrossEntropyLoss()\n",
        "        optimizer = optim.Adam(model.parameters(), lr=config.learning_rate, weight_decay=config.weight_decay)\n",
        "\n",
        "        scheduler = optim.lr_scheduler.ReduceLROnPlateau(optimizer, 'max', patience=3, factor=0.5, verbose=True)\n",
        "\n",
        "        best_val_acc = 0\n",
        "        best_model_path = f\"best_model_{wandb.run.id}.pt\"\n",
        "        patience_counter = 0\n",
        "\n",
        "        wandb.watch(model, log=\"gradients\", log_freq=100)\n",
        "\n",
        "        for epoch in range(config.epochs):\n",
        "            model.train()\n",
        "            train_loss = 0\n",
        "            train_correct = 0\n",
        "            train_total = 0\n",
        "\n",
        "            progress_bar = tqdm(train_loader, desc=f'Epoch {epoch+1}/{config.epochs} [Train]')\n",
        "\n",
        "            for batch_idx, (data, target) in enumerate(progress_bar):\n",
        "                data, target = data.to(device), target.to(device)\n",
        "\n",
        "                optimizer.zero_grad()\n",
        "                output = model(data)\n",
        "                loss = criterion(output, target)\n",
        "                loss.backward()\n",
        "                optimizer.step()\n",
        "\n",
        "                train_loss += loss.item()\n",
        "                pred = output.argmax(dim=1)\n",
        "                train_correct += pred.eq(target).sum().item()\n",
        "                train_total += target.size(0)\n",
        "\n",
        "                if batch_idx % 50 == 0:\n",
        "                    wandb.log({\n",
        "                        \"batch_loss\": loss.item(),\n",
        "                        \"learning_rate\": optimizer.param_groups[0]['lr'],\n",
        "                        \"epoch\": epoch\n",
        "                    })\n",
        "\n",
        "                progress_bar.set_postfix({\n",
        "                    'loss': f'{loss.item():.3f}',\n",
        "                    'acc': f'{100.*train_correct/train_total:.1f}%'\n",
        "                })\n",
        "\n",
        "            train_acc = 100. * train_correct / train_total\n",
        "            train_loss = train_loss / len(train_loader)\n",
        "\n",
        "            val_loss, val_acc = compute_loss(val_loader, model, criterion, device)\n",
        "\n",
        "            scheduler.step(val_acc)\n",
        "\n",
        "            wandb.log({\n",
        "                \"epoch\": epoch,\n",
        "                \"train_loss\": train_loss,\n",
        "                \"train_accuracy\": train_acc,\n",
        "                \"val_loss\": val_loss,\n",
        "                \"val_accuracy\": val_acc,\n",
        "                \"train_val_gap\": train_acc - val_acc\n",
        "            })\n",
        "\n",
        "            print(f\"Epoch {epoch+1}/{config.epochs}, Train Loss: {train_loss:.4f}, Train Acc: {train_acc:.2f}%, Val Loss: {val_loss:.4f}, Val Acc: {val_acc:.2f}%\")\n",
        "\n",
        "            if val_acc > best_val_acc:\n",
        "                best_val_acc = val_acc\n",
        "                patience_counter = 0\n",
        "\n",
        "                torch.save({\n",
        "                    'model_state_dict': model.state_dict(),\n",
        "                    'model_config': {\n",
        "                        'dropout_rate': config.dropout_rate,\n",
        "                        'hidden_dim': config.hidden_dim\n",
        "                    },\n",
        "                    'training_config': dict(config),\n",
        "                    'val_accuracy': val_acc,\n",
        "                    'epoch': epoch\n",
        "                }, best_model_path)\n",
        "\n",
        "                model_artifact = wandb.Artifact(\n",
        "                    name=f\"best_model_{wandb.run.name}\",\n",
        "                    type=\"model\",\n",
        "                    description=f\"Best enhanced CNN model with validation accuracy: {val_acc:.2f}%\"\n",
        "                )\n",
        "                model_artifact.add_file(best_model_path)\n",
        "                wandb.log_artifact(model_artifact)\n",
        "\n",
        "                print(f\"New best model saved with validation accuracy: {val_acc:.2f}%\")\n",
        "            else:\n",
        "                patience_counter += 1\n",
        "\n",
        "            if patience_counter >= config.patience:\n",
        "                print(f\"Early stopping triggered after {epoch+1} epochs\")\n",
        "                break\n",
        "\n",
        "        wandb.log({\"best_val_accuracy\": best_val_acc})\n",
        "        print(f\"Training completed. Best validation accuracy: {best_val_acc:.2f}%\")\n",
        "\n",
        "        return best_val_acc\n"
      ],
      "metadata": {
        "id": "ROrFJZ1ndr1F"
      },
      "execution_count": 19,
      "outputs": []
    },
    {
      "cell_type": "code",
      "source": [
        "def evaluate_model_on_testset(model_path, test_loader):\n",
        "    checkpoint = torch.load(model_path, map_location=device)\n",
        "\n",
        "    model_config = checkpoint['model_config']\n",
        "    model = EnhancedCNN(\n",
        "        dropout_rate=model_config['dropout_rate'],\n",
        "        hidden_dim=model_config['hidden_dim']\n",
        "    ).to(device)\n",
        "\n",
        "    model.load_state_dict(checkpoint['model_state_dict'])\n",
        "\n",
        "    criterion = nn.CrossEntropyLoss()\n",
        "    test_loss, test_acc = compute_loss(test_loader, model, criterion, device)\n",
        "\n",
        "    print(f\"Test Accuracy: {test_acc:.2f}%\")\n",
        "    print(f\"Test Loss: {test_loss:.4f}\")\n",
        "\n",
        "    model.eval()\n",
        "    all_preds = []\n",
        "    all_targets = []\n",
        "\n",
        "    with torch.no_grad():\n",
        "        for data, target in test_loader:\n",
        "            data, target = data.to(device), target.to(device)\n",
        "            output = model(data)\n",
        "            pred = output.argmax(dim=1)\n",
        "            all_preds.extend(pred.cpu().numpy())\n",
        "            all_targets.extend(target.cpu().numpy())\n",
        "\n",
        "    emotion_labels = ['Angry', 'Disgust', 'Fear', 'Happy', 'Sad', 'Surprise', 'Neutral']\n",
        "\n",
        "    print(\"\\nClassification Report:\")\n",
        "    print(classification_report(all_targets, all_preds, target_names=emotion_labels))\n",
        "\n",
        "    cm = confusion_matrix(all_targets, all_preds)\n",
        "\n",
        "    plt.figure(figsize=(12, 10))\n",
        "    sns.heatmap(cm, annot=True, fmt='d', cmap='Blues',\n",
        "                xticklabels=emotion_labels, yticklabels=emotion_labels)\n",
        "    plt.title('Confusion Matrix - Facial Expression Recognition (Enhanced CNN)')\n",
        "    plt.ylabel('True Label')\n",
        "    plt.xlabel('Predicted Label')\n",
        "    plt.tight_layout()\n",
        "    plt.show()\n",
        "\n",
        "    return test_acc, all_preds, all_targets\n"
      ],
      "metadata": {
        "id": "gdzh6TwQdvF8"
      },
      "execution_count": 20,
      "outputs": []
    },
    {
      "cell_type": "code",
      "source": [
        "sweep_config = {\n",
        "    'method': 'bayes',\n",
        "    'metric': {\n",
        "        'name': 'best_val_accuracy',\n",
        "        'goal': 'maximize'\n",
        "    },\n",
        "    'parameters': {\n",
        "        'learning_rate': {\n",
        "            'distribution': 'log_uniform_values',\n",
        "            'min': 0.0001,\n",
        "            'max': 0.01\n",
        "        },\n",
        "        'batch_size': {\n",
        "            'values': [32, 64]\n",
        "        },\n",
        "        'dropout_rate': {\n",
        "            'distribution': 'uniform',\n",
        "            'min': 0.2,\n",
        "            'max': 0.5\n",
        "        },\n",
        "        'weight_decay': {\n",
        "            'distribution': 'log_uniform_values',\n",
        "            'min': 1e-5,\n",
        "            'max': 1e-3\n",
        "        },\n",
        "        'hidden_dim': {\n",
        "            'values': [128, 256]\n",
        "        },\n",
        "        'epochs': {\n",
        "            'value': 8\n",
        "        },\n",
        "        'patience': {\n",
        "            'value': 5\n",
        "        }\n",
        "    }\n",
        "}"
      ],
      "metadata": {
        "id": "EDSlgtWWdyen"
      },
      "execution_count": 21,
      "outputs": []
    },
    {
      "cell_type": "code",
      "source": [
        "test_overfitting()"
      ],
      "metadata": {
        "colab": {
          "base_uri": "https://localhost:8080/"
        },
        "id": "mucXX15Fd2yy",
        "outputId": "fb3fc9d6-a583-4b48-cb34-7b250de8b5ec"
      },
      "execution_count": 22,
      "outputs": [
        {
          "output_type": "stream",
          "name": "stdout",
          "text": [
            "Testing enhanced CNN with ResNet block on small dataset...\n",
            "Overfit Epoch 1/30, Loss: 1.9614, Acc: 15.00%\n",
            "Overfit Epoch 2/30, Loss: 0.6638, Acc: 100.00%\n",
            "Enhanced CNN can overfit successfully!\n",
            "Overfitting test completed.\n",
            "\n"
          ]
        }
      ]
    },
    {
      "cell_type": "code",
      "source": [
        "sweep_id = wandb.sweep(sweep_config, project=\"Facial_Expression_Recognition_8\")"
      ],
      "metadata": {
        "colab": {
          "base_uri": "https://localhost:8080/"
        },
        "id": "8YtmoV1jgllM",
        "outputId": "ffcd4700-aad1-435d-fe1a-9bd6928bb29b"
      },
      "execution_count": 23,
      "outputs": [
        {
          "output_type": "stream",
          "name": "stdout",
          "text": [
            "Create sweep with ID: lc6mrgl9\n",
            "Sweep URL: https://wandb.ai/konstantine25b-free-university-of-tbilisi-/Facial_Expression_Recognition_8/sweeps/lc6mrgl9\n"
          ]
        }
      ]
    },
    {
      "cell_type": "code",
      "source": [
        "print(\"Running enhanced CNN hyperparameter sweep...\")\n",
        "wandb.agent(sweep_id, train_model, count=5)"
      ],
      "metadata": {
        "colab": {
          "base_uri": "https://localhost:8080/",
          "height": 1000
        },
        "id": "n6AUcOavgnoT",
        "outputId": "99bbe2ed-0f0a-4e0d-f2e2-c9735ea4a104"
      },
      "execution_count": 24,
      "outputs": [
        {
          "metadata": {
            "tags": null
          },
          "name": "stdout",
          "output_type": "stream",
          "text": [
            "Running enhanced CNN hyperparameter sweep...\n"
          ]
        },
        {
          "metadata": {
            "tags": null
          },
          "name": "stderr",
          "output_type": "stream",
          "text": [
            "\u001b[34m\u001b[1mwandb\u001b[0m: Agent Starting Run: vwx2z668 with config:\n",
            "\u001b[34m\u001b[1mwandb\u001b[0m: \tbatch_size: 64\n",
            "\u001b[34m\u001b[1mwandb\u001b[0m: \tdropout_rate: 0.337528658373042\n",
            "\u001b[34m\u001b[1mwandb\u001b[0m: \tepochs: 8\n",
            "\u001b[34m\u001b[1mwandb\u001b[0m: \thidden_dim: 256\n",
            "\u001b[34m\u001b[1mwandb\u001b[0m: \tlearning_rate: 0.002132563918843244\n",
            "\u001b[34m\u001b[1mwandb\u001b[0m: \tpatience: 5\n",
            "\u001b[34m\u001b[1mwandb\u001b[0m: \tweight_decay: 0.00017690014034959468\n"
          ]
        },
        {
          "data": {
            "text/html": [
              "Ignoring project 'Facial_Expression_Recognition_8' when running a sweep."
            ],
            "text/plain": [
              "<IPython.core.display.HTML object>"
            ]
          },
          "metadata": {},
          "output_type": "display_data"
        },
        {
          "data": {
            "text/html": [
              "Tracking run with wandb version 0.19.11"
            ],
            "text/plain": [
              "<IPython.core.display.HTML object>"
            ]
          },
          "metadata": {},
          "output_type": "display_data"
        },
        {
          "data": {
            "text/html": [
              "Run data is saved locally in <code>/content/wandb/run-20250602_101803-vwx2z668</code>"
            ],
            "text/plain": [
              "<IPython.core.display.HTML object>"
            ]
          },
          "metadata": {},
          "output_type": "display_data"
        },
        {
          "data": {
            "text/html": [
              "Syncing run <strong><a href='https://wandb.ai/konstantine25b-free-university-of-tbilisi-/Facial_Expression_Recognition_8/runs/vwx2z668' target=\"_blank\">restful-sweep-1</a></strong> to <a href='https://wandb.ai/konstantine25b-free-university-of-tbilisi-/Facial_Expression_Recognition_8' target=\"_blank\">Weights & Biases</a> (<a href='https://wandb.me/developer-guide' target=\"_blank\">docs</a>)<br>Sweep page: <a href='https://wandb.ai/konstantine25b-free-university-of-tbilisi-/Facial_Expression_Recognition_8/sweeps/lc6mrgl9' target=\"_blank\">https://wandb.ai/konstantine25b-free-university-of-tbilisi-/Facial_Expression_Recognition_8/sweeps/lc6mrgl9</a>"
            ],
            "text/plain": [
              "<IPython.core.display.HTML object>"
            ]
          },
          "metadata": {},
          "output_type": "display_data"
        },
        {
          "data": {
            "text/html": [
              " View project at <a href='https://wandb.ai/konstantine25b-free-university-of-tbilisi-/Facial_Expression_Recognition_8' target=\"_blank\">https://wandb.ai/konstantine25b-free-university-of-tbilisi-/Facial_Expression_Recognition_8</a>"
            ],
            "text/plain": [
              "<IPython.core.display.HTML object>"
            ]
          },
          "metadata": {},
          "output_type": "display_data"
        },
        {
          "data": {
            "text/html": [
              " View sweep at <a href='https://wandb.ai/konstantine25b-free-university-of-tbilisi-/Facial_Expression_Recognition_8/sweeps/lc6mrgl9' target=\"_blank\">https://wandb.ai/konstantine25b-free-university-of-tbilisi-/Facial_Expression_Recognition_8/sweeps/lc6mrgl9</a>"
            ],
            "text/plain": [
              "<IPython.core.display.HTML object>"
            ]
          },
          "metadata": {},
          "output_type": "display_data"
        },
        {
          "data": {
            "text/html": [
              " View run at <a href='https://wandb.ai/konstantine25b-free-university-of-tbilisi-/Facial_Expression_Recognition_8/runs/vwx2z668' target=\"_blank\">https://wandb.ai/konstantine25b-free-university-of-tbilisi-/Facial_Expression_Recognition_8/runs/vwx2z668</a>"
            ],
            "text/plain": [
              "<IPython.core.display.HTML object>"
            ]
          },
          "metadata": {},
          "output_type": "display_data"
        },
        {
          "metadata": {
            "tags": null
          },
          "name": "stderr",
          "output_type": "stream",
          "text": [
            "Epoch 1/8 [Train]: 100%|██████████| 323/323 [00:25<00:00, 12.61it/s, loss=1.640, acc=34.2%]\n"
          ]
        },
        {
          "metadata": {
            "tags": null
          },
          "name": "stdout",
          "output_type": "stream",
          "text": [
            "Epoch 1/8, Train Loss: 1.6595, Train Acc: 34.21%, Val Loss: 1.4650, Val Acc: 44.18%\n",
            "New best model saved with validation accuracy: 44.18%\n"
          ]
        },
        {
          "metadata": {
            "tags": null
          },
          "name": "stderr",
          "output_type": "stream",
          "text": [
            "Epoch 2/8 [Train]: 100%|██████████| 323/323 [00:27<00:00, 11.72it/s, loss=1.406, acc=45.3%]\n"
          ]
        },
        {
          "metadata": {
            "tags": null
          },
          "name": "stdout",
          "output_type": "stream",
          "text": [
            "Epoch 2/8, Train Loss: 1.4137, Train Acc: 45.26%, Val Loss: 1.3356, Val Acc: 50.24%\n",
            "New best model saved with validation accuracy: 50.24%\n"
          ]
        },
        {
          "metadata": {
            "tags": null
          },
          "name": "stderr",
          "output_type": "stream",
          "text": [
            "Epoch 3/8 [Train]: 100%|██████████| 323/323 [00:25<00:00, 12.57it/s, loss=1.236, acc=49.2%]\n"
          ]
        },
        {
          "metadata": {
            "tags": null
          },
          "name": "stdout",
          "output_type": "stream",
          "text": [
            "Epoch 3/8, Train Loss: 1.3218, Train Acc: 49.19%, Val Loss: 1.2195, Val Acc: 53.69%\n",
            "New best model saved with validation accuracy: 53.69%\n"
          ]
        },
        {
          "metadata": {
            "tags": null
          },
          "name": "stderr",
          "output_type": "stream",
          "text": [
            "Epoch 4/8 [Train]: 100%|██████████| 323/323 [00:25<00:00, 12.52it/s, loss=1.129, acc=51.0%]\n"
          ]
        },
        {
          "metadata": {
            "tags": null
          },
          "name": "stdout",
          "output_type": "stream",
          "text": [
            "Epoch 4/8, Train Loss: 1.2709, Train Acc: 51.01%, Val Loss: 1.1964, Val Acc: 54.19%\n",
            "New best model saved with validation accuracy: 54.19%\n"
          ]
        },
        {
          "metadata": {
            "tags": null
          },
          "name": "stderr",
          "output_type": "stream",
          "text": [
            "Epoch 5/8 [Train]: 100%|██████████| 323/323 [00:25<00:00, 12.56it/s, loss=1.441, acc=52.7%]\n"
          ]
        },
        {
          "metadata": {
            "tags": null
          },
          "name": "stdout",
          "output_type": "stream",
          "text": [
            "Epoch 5/8, Train Loss: 1.2395, Train Acc: 52.70%, Val Loss: 1.1499, Val Acc: 56.30%\n",
            "New best model saved with validation accuracy: 56.30%\n"
          ]
        },
        {
          "metadata": {
            "tags": null
          },
          "name": "stderr",
          "output_type": "stream",
          "text": [
            "Epoch 6/8 [Train]: 100%|██████████| 323/323 [00:25<00:00, 12.84it/s, loss=1.241, acc=53.6%]\n"
          ]
        },
        {
          "metadata": {
            "tags": null
          },
          "name": "stdout",
          "output_type": "stream",
          "text": [
            "Epoch 6/8, Train Loss: 1.2109, Train Acc: 53.55%, Val Loss: 1.1721, Val Acc: 55.37%\n"
          ]
        },
        {
          "metadata": {
            "tags": null
          },
          "name": "stderr",
          "output_type": "stream",
          "text": [
            "Epoch 7/8 [Train]: 100%|██████████| 323/323 [00:25<00:00, 12.83it/s, loss=1.235, acc=54.3%]\n"
          ]
        },
        {
          "metadata": {
            "tags": null
          },
          "name": "stdout",
          "output_type": "stream",
          "text": [
            "Epoch 7/8, Train Loss: 1.1968, Train Acc: 54.34%, Val Loss: 1.1427, Val Acc: 57.15%\n",
            "New best model saved with validation accuracy: 57.15%\n"
          ]
        },
        {
          "metadata": {
            "tags": null
          },
          "name": "stderr",
          "output_type": "stream",
          "text": [
            "Epoch 8/8 [Train]: 100%|██████████| 323/323 [00:25<00:00, 12.92it/s, loss=1.293, acc=55.1%]\n"
          ]
        },
        {
          "metadata": {
            "tags": null
          },
          "name": "stdout",
          "output_type": "stream",
          "text": [
            "Epoch 8/8, Train Loss: 1.1789, Train Acc: 55.12%, Val Loss: 1.1269, Val Acc: 57.62%\n",
            "New best model saved with validation accuracy: 57.62%\n",
            "Training completed. Best validation accuracy: 57.62%\n"
          ]
        },
        {
          "data": {
            "text/html": [],
            "text/plain": [
              "<IPython.core.display.HTML object>"
            ]
          },
          "metadata": {},
          "output_type": "display_data"
        },
        {
          "data": {
            "text/html": [
              "<br>    <style><br>        .wandb-row {<br>            display: flex;<br>            flex-direction: row;<br>            flex-wrap: wrap;<br>            justify-content: flex-start;<br>            width: 100%;<br>        }<br>        .wandb-col {<br>            display: flex;<br>            flex-direction: column;<br>            flex-basis: 100%;<br>            flex: 1;<br>            padding: 10px;<br>        }<br>    </style><br><div class=\"wandb-row\"><div class=\"wandb-col\"><h3>Run history:</h3><br/><table class=\"wandb\"><tr><td>batch_loss</td><td>█▆▆▆▄▃▃▅▃▄▂▄▃▂▁▃▃▂▃▃▂▂▂▂▂▂▃▂▃▃▃▂▂▁▄▂▂▃▂▂</td></tr><tr><td>best_val_accuracy</td><td>▁</td></tr><tr><td>epoch</td><td>▁▁▁▁▁▁▂▂▂▂▂▃▃▃▃▄▄▄▄▅▅▅▅▆▆▆▆▆▆▇▇▇▇▇██████</td></tr><tr><td>learning_rate</td><td>▁▁▁▁▁▁▁▁▁▁▁▁▁▁▁▁▁▁▁▁▁▁▁▁▁▁▁▁▁▁▁▁▁▁▁▁▁▁▁▁</td></tr><tr><td>train_accuracy</td><td>▁▅▆▇▇▇██</td></tr><tr><td>train_loss</td><td>█▄▃▂▂▁▁▁</td></tr><tr><td>train_val_gap</td><td>▁▅▆▇▆█▇▇</td></tr><tr><td>val_accuracy</td><td>▁▄▆▆▇▇██</td></tr><tr><td>val_loss</td><td>█▅▃▂▁▂▁▁</td></tr></table><br/></div><div class=\"wandb-col\"><h3>Run summary:</h3><br/><table class=\"wandb\"><tr><td>batch_loss</td><td>1.14121</td></tr><tr><td>best_val_accuracy</td><td>57.61564</td></tr><tr><td>epoch</td><td>7</td></tr><tr><td>learning_rate</td><td>0.00213</td></tr><tr><td>train_accuracy</td><td>55.11853</td></tr><tr><td>train_loss</td><td>1.1789</td></tr><tr><td>train_val_gap</td><td>-2.49711</td></tr><tr><td>val_accuracy</td><td>57.61564</td></tr><tr><td>val_loss</td><td>1.1269</td></tr></table><br/></div></div>"
            ],
            "text/plain": [
              "<IPython.core.display.HTML object>"
            ]
          },
          "metadata": {},
          "output_type": "display_data"
        },
        {
          "data": {
            "text/html": [
              " View run <strong style=\"color:#cdcd00\">restful-sweep-1</strong> at: <a href='https://wandb.ai/konstantine25b-free-university-of-tbilisi-/Facial_Expression_Recognition_8/runs/vwx2z668' target=\"_blank\">https://wandb.ai/konstantine25b-free-university-of-tbilisi-/Facial_Expression_Recognition_8/runs/vwx2z668</a><br> View project at: <a href='https://wandb.ai/konstantine25b-free-university-of-tbilisi-/Facial_Expression_Recognition_8' target=\"_blank\">https://wandb.ai/konstantine25b-free-university-of-tbilisi-/Facial_Expression_Recognition_8</a><br>Synced 5 W&B file(s), 0 media file(s), 14 artifact file(s) and 0 other file(s)"
            ],
            "text/plain": [
              "<IPython.core.display.HTML object>"
            ]
          },
          "metadata": {},
          "output_type": "display_data"
        },
        {
          "data": {
            "text/html": [
              "Find logs at: <code>./wandb/run-20250602_101803-vwx2z668/logs</code>"
            ],
            "text/plain": [
              "<IPython.core.display.HTML object>"
            ]
          },
          "metadata": {},
          "output_type": "display_data"
        },
        {
          "metadata": {
            "tags": null
          },
          "name": "stderr",
          "output_type": "stream",
          "text": [
            "\u001b[34m\u001b[1mwandb\u001b[0m: Agent Starting Run: g3ekz9xj with config:\n",
            "\u001b[34m\u001b[1mwandb\u001b[0m: \tbatch_size: 32\n",
            "\u001b[34m\u001b[1mwandb\u001b[0m: \tdropout_rate: 0.43849976155038006\n",
            "\u001b[34m\u001b[1mwandb\u001b[0m: \tepochs: 8\n",
            "\u001b[34m\u001b[1mwandb\u001b[0m: \thidden_dim: 128\n",
            "\u001b[34m\u001b[1mwandb\u001b[0m: \tlearning_rate: 0.00015287156081747542\n",
            "\u001b[34m\u001b[1mwandb\u001b[0m: \tpatience: 5\n",
            "\u001b[34m\u001b[1mwandb\u001b[0m: \tweight_decay: 0.00014084112339665596\n"
          ]
        },
        {
          "data": {
            "text/html": [
              "Ignoring project 'Facial_Expression_Recognition_8' when running a sweep."
            ],
            "text/plain": [
              "<IPython.core.display.HTML object>"
            ]
          },
          "metadata": {},
          "output_type": "display_data"
        },
        {
          "data": {
            "text/html": [
              "Tracking run with wandb version 0.19.11"
            ],
            "text/plain": [
              "<IPython.core.display.HTML object>"
            ]
          },
          "metadata": {},
          "output_type": "display_data"
        },
        {
          "data": {
            "text/html": [
              "Run data is saved locally in <code>/content/wandb/run-20250602_102222-g3ekz9xj</code>"
            ],
            "text/plain": [
              "<IPython.core.display.HTML object>"
            ]
          },
          "metadata": {},
          "output_type": "display_data"
        },
        {
          "data": {
            "text/html": [
              "Syncing run <strong><a href='https://wandb.ai/konstantine25b-free-university-of-tbilisi-/Facial_Expression_Recognition_8/runs/g3ekz9xj' target=\"_blank\">soft-sweep-2</a></strong> to <a href='https://wandb.ai/konstantine25b-free-university-of-tbilisi-/Facial_Expression_Recognition_8' target=\"_blank\">Weights & Biases</a> (<a href='https://wandb.me/developer-guide' target=\"_blank\">docs</a>)<br>Sweep page: <a href='https://wandb.ai/konstantine25b-free-university-of-tbilisi-/Facial_Expression_Recognition_8/sweeps/lc6mrgl9' target=\"_blank\">https://wandb.ai/konstantine25b-free-university-of-tbilisi-/Facial_Expression_Recognition_8/sweeps/lc6mrgl9</a>"
            ],
            "text/plain": [
              "<IPython.core.display.HTML object>"
            ]
          },
          "metadata": {},
          "output_type": "display_data"
        },
        {
          "data": {
            "text/html": [
              " View project at <a href='https://wandb.ai/konstantine25b-free-university-of-tbilisi-/Facial_Expression_Recognition_8' target=\"_blank\">https://wandb.ai/konstantine25b-free-university-of-tbilisi-/Facial_Expression_Recognition_8</a>"
            ],
            "text/plain": [
              "<IPython.core.display.HTML object>"
            ]
          },
          "metadata": {},
          "output_type": "display_data"
        },
        {
          "data": {
            "text/html": [
              " View sweep at <a href='https://wandb.ai/konstantine25b-free-university-of-tbilisi-/Facial_Expression_Recognition_8/sweeps/lc6mrgl9' target=\"_blank\">https://wandb.ai/konstantine25b-free-university-of-tbilisi-/Facial_Expression_Recognition_8/sweeps/lc6mrgl9</a>"
            ],
            "text/plain": [
              "<IPython.core.display.HTML object>"
            ]
          },
          "metadata": {},
          "output_type": "display_data"
        },
        {
          "data": {
            "text/html": [
              " View run at <a href='https://wandb.ai/konstantine25b-free-university-of-tbilisi-/Facial_Expression_Recognition_8/runs/g3ekz9xj' target=\"_blank\">https://wandb.ai/konstantine25b-free-university-of-tbilisi-/Facial_Expression_Recognition_8/runs/g3ekz9xj</a>"
            ],
            "text/plain": [
              "<IPython.core.display.HTML object>"
            ]
          },
          "metadata": {},
          "output_type": "display_data"
        },
        {
          "metadata": {
            "tags": null
          },
          "name": "stderr",
          "output_type": "stream",
          "text": [
            "Epoch 1/8 [Train]: 100%|██████████| 646/646 [00:27<00:00, 23.76it/s, loss=1.515, acc=29.4%]\n"
          ]
        },
        {
          "metadata": {
            "tags": null
          },
          "name": "stdout",
          "output_type": "stream",
          "text": [
            "Epoch 1/8, Train Loss: 1.7670, Train Acc: 29.40%, Val Loss: 1.5395, Val Acc: 41.34%\n",
            "New best model saved with validation accuracy: 41.34%\n"
          ]
        },
        {
          "metadata": {
            "tags": null
          },
          "name": "stderr",
          "output_type": "stream",
          "text": [
            "Epoch 2/8 [Train]: 100%|██████████| 646/646 [00:26<00:00, 24.75it/s, loss=1.706, acc=39.7%]\n"
          ]
        },
        {
          "metadata": {
            "tags": null
          },
          "name": "stdout",
          "output_type": "stream",
          "text": [
            "Epoch 2/8, Train Loss: 1.5571, Train Acc: 39.72%, Val Loss: 1.4384, Val Acc: 45.21%\n",
            "New best model saved with validation accuracy: 45.21%\n"
          ]
        },
        {
          "metadata": {
            "tags": null
          },
          "name": "stderr",
          "output_type": "stream",
          "text": [
            "Epoch 3/8 [Train]: 100%|██████████| 646/646 [00:27<00:00, 23.91it/s, loss=1.608, acc=43.9%]\n"
          ]
        },
        {
          "metadata": {
            "tags": null
          },
          "name": "stdout",
          "output_type": "stream",
          "text": [
            "Epoch 3/8, Train Loss: 1.4579, Train Acc: 43.89%, Val Loss: 1.3476, Val Acc: 49.43%\n",
            "New best model saved with validation accuracy: 49.43%\n"
          ]
        },
        {
          "metadata": {
            "tags": null
          },
          "name": "stderr",
          "output_type": "stream",
          "text": [
            "Epoch 4/8 [Train]: 100%|██████████| 646/646 [00:27<00:00, 23.23it/s, loss=1.254, acc=46.5%]\n"
          ]
        },
        {
          "metadata": {
            "tags": null
          },
          "name": "stdout",
          "output_type": "stream",
          "text": [
            "Epoch 4/8, Train Loss: 1.3987, Train Acc: 46.46%, Val Loss: 1.3034, Val Acc: 51.21%\n",
            "New best model saved with validation accuracy: 51.21%\n"
          ]
        },
        {
          "metadata": {
            "tags": null
          },
          "name": "stderr",
          "output_type": "stream",
          "text": [
            "Epoch 5/8 [Train]: 100%|██████████| 646/646 [00:27<00:00, 23.10it/s, loss=1.501, acc=48.5%]\n"
          ]
        },
        {
          "metadata": {
            "tags": null
          },
          "name": "stdout",
          "output_type": "stream",
          "text": [
            "Epoch 5/8, Train Loss: 1.3480, Train Acc: 48.46%, Val Loss: 1.2572, Val Acc: 52.97%\n",
            "New best model saved with validation accuracy: 52.97%\n"
          ]
        },
        {
          "metadata": {
            "tags": null
          },
          "name": "stderr",
          "output_type": "stream",
          "text": [
            "Epoch 6/8 [Train]: 100%|██████████| 646/646 [00:27<00:00, 23.14it/s, loss=1.107, acc=49.9%]\n"
          ]
        },
        {
          "metadata": {
            "tags": null
          },
          "name": "stdout",
          "output_type": "stream",
          "text": [
            "Epoch 6/8, Train Loss: 1.3165, Train Acc: 49.93%, Val Loss: 1.2075, Val Acc: 54.94%\n",
            "New best model saved with validation accuracy: 54.94%\n"
          ]
        },
        {
          "metadata": {
            "tags": null
          },
          "name": "stderr",
          "output_type": "stream",
          "text": [
            "Epoch 7/8 [Train]: 100%|██████████| 646/646 [00:28<00:00, 22.92it/s, loss=1.211, acc=50.8%]\n"
          ]
        },
        {
          "metadata": {
            "tags": null
          },
          "name": "stdout",
          "output_type": "stream",
          "text": [
            "Epoch 7/8, Train Loss: 1.2915, Train Acc: 50.77%, Val Loss: 1.1860, Val Acc: 55.22%\n",
            "New best model saved with validation accuracy: 55.22%\n"
          ]
        },
        {
          "metadata": {
            "tags": null
          },
          "name": "stderr",
          "output_type": "stream",
          "text": [
            "Epoch 8/8 [Train]: 100%|██████████| 646/646 [00:28<00:00, 22.82it/s, loss=1.031, acc=51.8%]\n"
          ]
        },
        {
          "metadata": {
            "tags": null
          },
          "name": "stdout",
          "output_type": "stream",
          "text": [
            "Epoch 8/8, Train Loss: 1.2662, Train Acc: 51.76%, Val Loss: 1.1717, Val Acc: 56.51%\n",
            "New best model saved with validation accuracy: 56.51%\n",
            "Training completed. Best validation accuracy: 56.51%\n"
          ]
        },
        {
          "data": {
            "text/html": [],
            "text/plain": [
              "<IPython.core.display.HTML object>"
            ]
          },
          "metadata": {},
          "output_type": "display_data"
        },
        {
          "data": {
            "text/html": [
              "<br>    <style><br>        .wandb-row {<br>            display: flex;<br>            flex-direction: row;<br>            flex-wrap: wrap;<br>            justify-content: flex-start;<br>            width: 100%;<br>        }<br>        .wandb-col {<br>            display: flex;<br>            flex-direction: column;<br>            flex-basis: 100%;<br>            flex: 1;<br>            padding: 10px;<br>        }<br>    </style><br><div class=\"wandb-row\"><div class=\"wandb-col\"><h3>Run history:</h3><br/><table class=\"wandb\"><tr><td>batch_loss</td><td>▇▆█▆▆▅▅▄▅▄▄▃▄▂▃▄▄▃▅▅▃▃▃▃▅▁▂▃▃▂▃▂▂▂▄▃▁▂▂▃</td></tr><tr><td>best_val_accuracy</td><td>▁</td></tr><tr><td>epoch</td><td>▁▁▁▁▁▂▂▂▂▂▃▃▃▃▃▃▃▄▄▄▄▅▅▅▅▅▅▆▆▆▆▆▆▇▇▇████</td></tr><tr><td>learning_rate</td><td>▁▁▁▁▁▁▁▁▁▁▁▁▁▁▁▁▁▁▁▁▁▁▁▁▁▁▁▁▁▁▁▁▁▁▁▁▁▁▁▁</td></tr><tr><td>train_accuracy</td><td>▁▄▆▆▇▇██</td></tr><tr><td>train_loss</td><td>█▅▄▃▂▂▁▁</td></tr><tr><td>train_val_gap</td><td>▁▇▇██▇██</td></tr><tr><td>val_accuracy</td><td>▁▃▅▆▆▇▇█</td></tr><tr><td>val_loss</td><td>█▆▄▄▃▂▁▁</td></tr></table><br/></div><div class=\"wandb-col\"><h3>Run summary:</h3><br/><table class=\"wandb\"><tr><td>batch_loss</td><td>1.39629</td></tr><tr><td>best_val_accuracy</td><td>56.51248</td></tr><tr><td>epoch</td><td>7</td></tr><tr><td>learning_rate</td><td>0.00015</td></tr><tr><td>train_accuracy</td><td>51.76101</td></tr><tr><td>train_loss</td><td>1.26621</td></tr><tr><td>train_val_gap</td><td>-4.75148</td></tr><tr><td>val_accuracy</td><td>56.51248</td></tr><tr><td>val_loss</td><td>1.17174</td></tr></table><br/></div></div>"
            ],
            "text/plain": [
              "<IPython.core.display.HTML object>"
            ]
          },
          "metadata": {},
          "output_type": "display_data"
        },
        {
          "data": {
            "text/html": [
              " View run <strong style=\"color:#cdcd00\">soft-sweep-2</strong> at: <a href='https://wandb.ai/konstantine25b-free-university-of-tbilisi-/Facial_Expression_Recognition_8/runs/g3ekz9xj' target=\"_blank\">https://wandb.ai/konstantine25b-free-university-of-tbilisi-/Facial_Expression_Recognition_8/runs/g3ekz9xj</a><br> View project at: <a href='https://wandb.ai/konstantine25b-free-university-of-tbilisi-/Facial_Expression_Recognition_8' target=\"_blank\">https://wandb.ai/konstantine25b-free-university-of-tbilisi-/Facial_Expression_Recognition_8</a><br>Synced 5 W&B file(s), 0 media file(s), 16 artifact file(s) and 0 other file(s)"
            ],
            "text/plain": [
              "<IPython.core.display.HTML object>"
            ]
          },
          "metadata": {},
          "output_type": "display_data"
        },
        {
          "data": {
            "text/html": [
              "Find logs at: <code>./wandb/run-20250602_102222-g3ekz9xj/logs</code>"
            ],
            "text/plain": [
              "<IPython.core.display.HTML object>"
            ]
          },
          "metadata": {},
          "output_type": "display_data"
        },
        {
          "metadata": {
            "tags": null
          },
          "name": "stderr",
          "output_type": "stream",
          "text": [
            "\u001b[34m\u001b[1mwandb\u001b[0m: Agent Starting Run: 37qfk9h8 with config:\n",
            "\u001b[34m\u001b[1mwandb\u001b[0m: \tbatch_size: 32\n",
            "\u001b[34m\u001b[1mwandb\u001b[0m: \tdropout_rate: 0.34604517298519144\n",
            "\u001b[34m\u001b[1mwandb\u001b[0m: \tepochs: 8\n",
            "\u001b[34m\u001b[1mwandb\u001b[0m: \thidden_dim: 128\n",
            "\u001b[34m\u001b[1mwandb\u001b[0m: \tlearning_rate: 0.0001090786630661674\n",
            "\u001b[34m\u001b[1mwandb\u001b[0m: \tpatience: 5\n",
            "\u001b[34m\u001b[1mwandb\u001b[0m: \tweight_decay: 7.051750904324007e-05\n"
          ]
        },
        {
          "data": {
            "text/html": [
              "Ignoring project 'Facial_Expression_Recognition_8' when running a sweep."
            ],
            "text/plain": [
              "<IPython.core.display.HTML object>"
            ]
          },
          "metadata": {},
          "output_type": "display_data"
        },
        {
          "data": {
            "text/html": [
              "Tracking run with wandb version 0.19.11"
            ],
            "text/plain": [
              "<IPython.core.display.HTML object>"
            ]
          },
          "metadata": {},
          "output_type": "display_data"
        },
        {
          "data": {
            "text/html": [
              "Run data is saved locally in <code>/content/wandb/run-20250602_102652-37qfk9h8</code>"
            ],
            "text/plain": [
              "<IPython.core.display.HTML object>"
            ]
          },
          "metadata": {},
          "output_type": "display_data"
        },
        {
          "data": {
            "text/html": [
              "Syncing run <strong><a href='https://wandb.ai/konstantine25b-free-university-of-tbilisi-/Facial_Expression_Recognition_8/runs/37qfk9h8' target=\"_blank\">fearless-sweep-3</a></strong> to <a href='https://wandb.ai/konstantine25b-free-university-of-tbilisi-/Facial_Expression_Recognition_8' target=\"_blank\">Weights & Biases</a> (<a href='https://wandb.me/developer-guide' target=\"_blank\">docs</a>)<br>Sweep page: <a href='https://wandb.ai/konstantine25b-free-university-of-tbilisi-/Facial_Expression_Recognition_8/sweeps/lc6mrgl9' target=\"_blank\">https://wandb.ai/konstantine25b-free-university-of-tbilisi-/Facial_Expression_Recognition_8/sweeps/lc6mrgl9</a>"
            ],
            "text/plain": [
              "<IPython.core.display.HTML object>"
            ]
          },
          "metadata": {},
          "output_type": "display_data"
        },
        {
          "data": {
            "text/html": [
              " View project at <a href='https://wandb.ai/konstantine25b-free-university-of-tbilisi-/Facial_Expression_Recognition_8' target=\"_blank\">https://wandb.ai/konstantine25b-free-university-of-tbilisi-/Facial_Expression_Recognition_8</a>"
            ],
            "text/plain": [
              "<IPython.core.display.HTML object>"
            ]
          },
          "metadata": {},
          "output_type": "display_data"
        },
        {
          "data": {
            "text/html": [
              " View sweep at <a href='https://wandb.ai/konstantine25b-free-university-of-tbilisi-/Facial_Expression_Recognition_8/sweeps/lc6mrgl9' target=\"_blank\">https://wandb.ai/konstantine25b-free-university-of-tbilisi-/Facial_Expression_Recognition_8/sweeps/lc6mrgl9</a>"
            ],
            "text/plain": [
              "<IPython.core.display.HTML object>"
            ]
          },
          "metadata": {},
          "output_type": "display_data"
        },
        {
          "data": {
            "text/html": [
              " View run at <a href='https://wandb.ai/konstantine25b-free-university-of-tbilisi-/Facial_Expression_Recognition_8/runs/37qfk9h8' target=\"_blank\">https://wandb.ai/konstantine25b-free-university-of-tbilisi-/Facial_Expression_Recognition_8/runs/37qfk9h8</a>"
            ],
            "text/plain": [
              "<IPython.core.display.HTML object>"
            ]
          },
          "metadata": {},
          "output_type": "display_data"
        },
        {
          "metadata": {
            "tags": null
          },
          "name": "stderr",
          "output_type": "stream",
          "text": [
            "Epoch 1/8 [Train]: 100%|██████████| 646/646 [00:28<00:00, 22.51it/s, loss=1.603, acc=28.8%]\n"
          ]
        },
        {
          "metadata": {
            "tags": null
          },
          "name": "stdout",
          "output_type": "stream",
          "text": [
            "Epoch 1/8, Train Loss: 1.7660, Train Acc: 28.83%, Val Loss: 1.5655, Val Acc: 40.20%\n",
            "New best model saved with validation accuracy: 40.20%\n"
          ]
        },
        {
          "metadata": {
            "tags": null
          },
          "name": "stderr",
          "output_type": "stream",
          "text": [
            "Epoch 2/8 [Train]: 100%|██████████| 646/646 [00:28<00:00, 22.39it/s, loss=1.815, acc=38.4%]\n"
          ]
        },
        {
          "metadata": {
            "tags": null
          },
          "name": "stdout",
          "output_type": "stream",
          "text": [
            "Epoch 2/8, Train Loss: 1.5816, Train Acc: 38.39%, Val Loss: 1.4319, Val Acc: 46.00%\n",
            "New best model saved with validation accuracy: 46.00%\n"
          ]
        },
        {
          "metadata": {
            "tags": null
          },
          "name": "stderr",
          "output_type": "stream",
          "text": [
            "Epoch 3/8 [Train]: 100%|██████████| 646/646 [00:29<00:00, 22.14it/s, loss=1.854, acc=43.2%]\n"
          ]
        },
        {
          "metadata": {
            "tags": null
          },
          "name": "stdout",
          "output_type": "stream",
          "text": [
            "Epoch 3/8, Train Loss: 1.4767, Train Acc: 43.17%, Val Loss: 1.3509, Val Acc: 49.43%\n",
            "New best model saved with validation accuracy: 49.43%\n"
          ]
        },
        {
          "metadata": {
            "tags": null
          },
          "name": "stderr",
          "output_type": "stream",
          "text": [
            "Epoch 4/8 [Train]: 100%|██████████| 646/646 [00:28<00:00, 22.89it/s, loss=1.559, acc=46.1%]\n"
          ]
        },
        {
          "metadata": {
            "tags": null
          },
          "name": "stdout",
          "output_type": "stream",
          "text": [
            "Epoch 4/8, Train Loss: 1.4137, Train Acc: 46.06%, Val Loss: 1.2941, Val Acc: 51.65%\n",
            "New best model saved with validation accuracy: 51.65%\n"
          ]
        },
        {
          "metadata": {
            "tags": null
          },
          "name": "stderr",
          "output_type": "stream",
          "text": [
            "Epoch 5/8 [Train]: 100%|██████████| 646/646 [00:27<00:00, 23.64it/s, loss=1.334, acc=48.0%]\n"
          ]
        },
        {
          "metadata": {
            "tags": null
          },
          "name": "stdout",
          "output_type": "stream",
          "text": [
            "Epoch 5/8, Train Loss: 1.3674, Train Acc: 47.98%, Val Loss: 1.2549, Val Acc: 53.20%\n",
            "New best model saved with validation accuracy: 53.20%\n"
          ]
        },
        {
          "metadata": {
            "tags": null
          },
          "name": "stderr",
          "output_type": "stream",
          "text": [
            "Epoch 6/8 [Train]: 100%|██████████| 646/646 [00:26<00:00, 24.07it/s, loss=1.547, acc=49.3%]\n"
          ]
        },
        {
          "metadata": {
            "tags": null
          },
          "name": "stdout",
          "output_type": "stream",
          "text": [
            "Epoch 6/8, Train Loss: 1.3298, Train Acc: 49.28%, Val Loss: 1.2224, Val Acc: 54.62%\n",
            "New best model saved with validation accuracy: 54.62%\n"
          ]
        },
        {
          "metadata": {
            "tags": null
          },
          "name": "stderr",
          "output_type": "stream",
          "text": [
            "Epoch 7/8 [Train]: 100%|██████████| 646/646 [00:27<00:00, 23.52it/s, loss=1.233, acc=50.7%]\n"
          ]
        },
        {
          "metadata": {
            "tags": null
          },
          "name": "stdout",
          "output_type": "stream",
          "text": [
            "Epoch 7/8, Train Loss: 1.3017, Train Acc: 50.75%, Val Loss: 1.2215, Val Acc: 53.76%\n"
          ]
        },
        {
          "metadata": {
            "tags": null
          },
          "name": "stderr",
          "output_type": "stream",
          "text": [
            "Epoch 8/8 [Train]: 100%|██████████| 646/646 [00:28<00:00, 22.86it/s, loss=1.461, acc=51.6%]\n"
          ]
        },
        {
          "metadata": {
            "tags": null
          },
          "name": "stdout",
          "output_type": "stream",
          "text": [
            "Epoch 8/8, Train Loss: 1.2779, Train Acc: 51.64%, Val Loss: 1.1866, Val Acc: 55.37%\n",
            "New best model saved with validation accuracy: 55.37%\n",
            "Training completed. Best validation accuracy: 55.37%\n"
          ]
        },
        {
          "data": {
            "text/html": [],
            "text/plain": [
              "<IPython.core.display.HTML object>"
            ]
          },
          "metadata": {},
          "output_type": "display_data"
        },
        {
          "data": {
            "text/html": [
              "<br>    <style><br>        .wandb-row {<br>            display: flex;<br>            flex-direction: row;<br>            flex-wrap: wrap;<br>            justify-content: flex-start;<br>            width: 100%;<br>        }<br>        .wandb-col {<br>            display: flex;<br>            flex-direction: column;<br>            flex-basis: 100%;<br>            flex: 1;<br>            padding: 10px;<br>        }<br>    </style><br><div class=\"wandb-row\"><div class=\"wandb-col\"><h3>Run history:</h3><br/><table class=\"wandb\"><tr><td>batch_loss</td><td>▇▇▇▇▆██▅▅▆▅▆▅▅▄▄▄▄▄▂▃▅▄▄▄▄▄▄▄▄▃▄▄▂▅▃▃▁▂▂</td></tr><tr><td>best_val_accuracy</td><td>▁</td></tr><tr><td>epoch</td><td>▁▁▁▁▁▁▂▂▂▃▃▃▃▃▄▄▄▅▅▅▅▅▅▅▆▆▆▆▇▇▇▇▇███████</td></tr><tr><td>learning_rate</td><td>▁▁▁▁▁▁▁▁▁▁▁▁▁▁▁▁▁▁▁▁▁▁▁▁▁▁▁▁▁▁▁▁▁▁▁▁▁▁▁▁</td></tr><tr><td>train_accuracy</td><td>▁▄▅▆▇▇██</td></tr><tr><td>train_loss</td><td>█▅▄▃▂▂▁▁</td></tr><tr><td>train_val_gap</td><td>▁▄▅▆▆▆█▇</td></tr><tr><td>val_accuracy</td><td>▁▄▅▆▇█▇█</td></tr><tr><td>val_loss</td><td>█▆▄▃▂▂▂▁</td></tr></table><br/></div><div class=\"wandb-col\"><h3>Run summary:</h3><br/><table class=\"wandb\"><tr><td>batch_loss</td><td>1.27143</td></tr><tr><td>best_val_accuracy</td><td>55.37062</td></tr><tr><td>epoch</td><td>7</td></tr><tr><td>learning_rate</td><td>0.00011</td></tr><tr><td>train_accuracy</td><td>51.64006</td></tr><tr><td>train_loss</td><td>1.27793</td></tr><tr><td>train_val_gap</td><td>-3.73056</td></tr><tr><td>val_accuracy</td><td>55.37062</td></tr><tr><td>val_loss</td><td>1.1866</td></tr></table><br/></div></div>"
            ],
            "text/plain": [
              "<IPython.core.display.HTML object>"
            ]
          },
          "metadata": {},
          "output_type": "display_data"
        },
        {
          "data": {
            "text/html": [
              " View run <strong style=\"color:#cdcd00\">fearless-sweep-3</strong> at: <a href='https://wandb.ai/konstantine25b-free-university-of-tbilisi-/Facial_Expression_Recognition_8/runs/37qfk9h8' target=\"_blank\">https://wandb.ai/konstantine25b-free-university-of-tbilisi-/Facial_Expression_Recognition_8/runs/37qfk9h8</a><br> View project at: <a href='https://wandb.ai/konstantine25b-free-university-of-tbilisi-/Facial_Expression_Recognition_8' target=\"_blank\">https://wandb.ai/konstantine25b-free-university-of-tbilisi-/Facial_Expression_Recognition_8</a><br>Synced 5 W&B file(s), 0 media file(s), 14 artifact file(s) and 0 other file(s)"
            ],
            "text/plain": [
              "<IPython.core.display.HTML object>"
            ]
          },
          "metadata": {},
          "output_type": "display_data"
        },
        {
          "data": {
            "text/html": [
              "Find logs at: <code>./wandb/run-20250602_102652-37qfk9h8/logs</code>"
            ],
            "text/plain": [
              "<IPython.core.display.HTML object>"
            ]
          },
          "metadata": {},
          "output_type": "display_data"
        },
        {
          "metadata": {
            "tags": null
          },
          "name": "stderr",
          "output_type": "stream",
          "text": [
            "\u001b[34m\u001b[1mwandb\u001b[0m: Agent Starting Run: apax75ge with config:\n",
            "\u001b[34m\u001b[1mwandb\u001b[0m: \tbatch_size: 32\n",
            "\u001b[34m\u001b[1mwandb\u001b[0m: \tdropout_rate: 0.33655440709215656\n",
            "\u001b[34m\u001b[1mwandb\u001b[0m: \tepochs: 8\n",
            "\u001b[34m\u001b[1mwandb\u001b[0m: \thidden_dim: 256\n",
            "\u001b[34m\u001b[1mwandb\u001b[0m: \tlearning_rate: 0.00012329545462085015\n",
            "\u001b[34m\u001b[1mwandb\u001b[0m: \tpatience: 5\n",
            "\u001b[34m\u001b[1mwandb\u001b[0m: \tweight_decay: 0.00017096877511150522\n"
          ]
        },
        {
          "data": {
            "text/html": [
              "Ignoring project 'Facial_Expression_Recognition_8' when running a sweep."
            ],
            "text/plain": [
              "<IPython.core.display.HTML object>"
            ]
          },
          "metadata": {},
          "output_type": "display_data"
        },
        {
          "data": {
            "text/html": [
              "Tracking run with wandb version 0.19.11"
            ],
            "text/plain": [
              "<IPython.core.display.HTML object>"
            ]
          },
          "metadata": {},
          "output_type": "display_data"
        },
        {
          "data": {
            "text/html": [
              "Run data is saved locally in <code>/content/wandb/run-20250602_103126-apax75ge</code>"
            ],
            "text/plain": [
              "<IPython.core.display.HTML object>"
            ]
          },
          "metadata": {},
          "output_type": "display_data"
        },
        {
          "data": {
            "text/html": [
              "Syncing run <strong><a href='https://wandb.ai/konstantine25b-free-university-of-tbilisi-/Facial_Expression_Recognition_8/runs/apax75ge' target=\"_blank\">gallant-sweep-4</a></strong> to <a href='https://wandb.ai/konstantine25b-free-university-of-tbilisi-/Facial_Expression_Recognition_8' target=\"_blank\">Weights & Biases</a> (<a href='https://wandb.me/developer-guide' target=\"_blank\">docs</a>)<br>Sweep page: <a href='https://wandb.ai/konstantine25b-free-university-of-tbilisi-/Facial_Expression_Recognition_8/sweeps/lc6mrgl9' target=\"_blank\">https://wandb.ai/konstantine25b-free-university-of-tbilisi-/Facial_Expression_Recognition_8/sweeps/lc6mrgl9</a>"
            ],
            "text/plain": [
              "<IPython.core.display.HTML object>"
            ]
          },
          "metadata": {},
          "output_type": "display_data"
        },
        {
          "data": {
            "text/html": [
              " View project at <a href='https://wandb.ai/konstantine25b-free-university-of-tbilisi-/Facial_Expression_Recognition_8' target=\"_blank\">https://wandb.ai/konstantine25b-free-university-of-tbilisi-/Facial_Expression_Recognition_8</a>"
            ],
            "text/plain": [
              "<IPython.core.display.HTML object>"
            ]
          },
          "metadata": {},
          "output_type": "display_data"
        },
        {
          "data": {
            "text/html": [
              " View sweep at <a href='https://wandb.ai/konstantine25b-free-university-of-tbilisi-/Facial_Expression_Recognition_8/sweeps/lc6mrgl9' target=\"_blank\">https://wandb.ai/konstantine25b-free-university-of-tbilisi-/Facial_Expression_Recognition_8/sweeps/lc6mrgl9</a>"
            ],
            "text/plain": [
              "<IPython.core.display.HTML object>"
            ]
          },
          "metadata": {},
          "output_type": "display_data"
        },
        {
          "data": {
            "text/html": [
              " View run at <a href='https://wandb.ai/konstantine25b-free-university-of-tbilisi-/Facial_Expression_Recognition_8/runs/apax75ge' target=\"_blank\">https://wandb.ai/konstantine25b-free-university-of-tbilisi-/Facial_Expression_Recognition_8/runs/apax75ge</a>"
            ],
            "text/plain": [
              "<IPython.core.display.HTML object>"
            ]
          },
          "metadata": {},
          "output_type": "display_data"
        },
        {
          "metadata": {
            "tags": null
          },
          "name": "stderr",
          "output_type": "stream",
          "text": [
            "Epoch 1/8 [Train]: 100%|██████████| 646/646 [00:27<00:00, 23.68it/s, loss=1.794, acc=30.8%]\n"
          ]
        },
        {
          "metadata": {
            "tags": null
          },
          "name": "stdout",
          "output_type": "stream",
          "text": [
            "Epoch 1/8, Train Loss: 1.7326, Train Acc: 30.83%, Val Loss: 1.5390, Val Acc: 40.47%\n",
            "New best model saved with validation accuracy: 40.47%\n"
          ]
        },
        {
          "metadata": {
            "tags": null
          },
          "name": "stderr",
          "output_type": "stream",
          "text": [
            "Epoch 2/8 [Train]: 100%|██████████| 646/646 [00:27<00:00, 23.78it/s, loss=1.305, acc=40.3%]\n"
          ]
        },
        {
          "metadata": {
            "tags": null
          },
          "name": "stdout",
          "output_type": "stream",
          "text": [
            "Epoch 2/8, Train Loss: 1.5397, Train Acc: 40.34%, Val Loss: 1.4278, Val Acc: 45.21%\n",
            "New best model saved with validation accuracy: 45.21%\n"
          ]
        },
        {
          "metadata": {
            "tags": null
          },
          "name": "stderr",
          "output_type": "stream",
          "text": [
            "Epoch 3/8 [Train]: 100%|██████████| 646/646 [00:28<00:00, 22.48it/s, loss=1.588, acc=43.9%]\n"
          ]
        },
        {
          "metadata": {
            "tags": null
          },
          "name": "stdout",
          "output_type": "stream",
          "text": [
            "Epoch 3/8, Train Loss: 1.4463, Train Acc: 43.90%, Val Loss: 1.3285, Val Acc: 49.76%\n",
            "New best model saved with validation accuracy: 49.76%\n"
          ]
        },
        {
          "metadata": {
            "tags": null
          },
          "name": "stderr",
          "output_type": "stream",
          "text": [
            "Epoch 4/8 [Train]: 100%|██████████| 646/646 [00:28<00:00, 22.56it/s, loss=1.254, acc=47.0%]\n"
          ]
        },
        {
          "metadata": {
            "tags": null
          },
          "name": "stdout",
          "output_type": "stream",
          "text": [
            "Epoch 4/8, Train Loss: 1.3855, Train Acc: 46.95%, Val Loss: 1.2992, Val Acc: 51.83%\n",
            "New best model saved with validation accuracy: 51.83%\n"
          ]
        },
        {
          "metadata": {
            "tags": null
          },
          "name": "stderr",
          "output_type": "stream",
          "text": [
            "Epoch 5/8 [Train]: 100%|██████████| 646/646 [00:28<00:00, 22.33it/s, loss=1.398, acc=49.1%]\n"
          ]
        },
        {
          "metadata": {
            "tags": null
          },
          "name": "stdout",
          "output_type": "stream",
          "text": [
            "Epoch 5/8, Train Loss: 1.3322, Train Acc: 49.10%, Val Loss: 1.2560, Val Acc: 53.01%\n",
            "New best model saved with validation accuracy: 53.01%\n"
          ]
        },
        {
          "metadata": {
            "tags": null
          },
          "name": "stderr",
          "output_type": "stream",
          "text": [
            "Epoch 6/8 [Train]: 100%|██████████| 646/646 [00:34<00:00, 18.68it/s, loss=1.214, acc=50.6%]\n"
          ]
        },
        {
          "metadata": {
            "tags": null
          },
          "name": "stdout",
          "output_type": "stream",
          "text": [
            "Epoch 6/8, Train Loss: 1.3008, Train Acc: 50.58%, Val Loss: 1.2262, Val Acc: 53.71%\n",
            "New best model saved with validation accuracy: 53.71%\n"
          ]
        },
        {
          "metadata": {
            "tags": null
          },
          "name": "stderr",
          "output_type": "stream",
          "text": [
            "Epoch 7/8 [Train]: 100%|██████████| 646/646 [00:42<00:00, 15.08it/s, loss=1.245, acc=51.4%]\n"
          ]
        },
        {
          "metadata": {
            "tags": null
          },
          "name": "stdout",
          "output_type": "stream",
          "text": [
            "Epoch 7/8, Train Loss: 1.2717, Train Acc: 51.42%, Val Loss: 1.2027, Val Acc: 55.12%\n",
            "New best model saved with validation accuracy: 55.12%\n"
          ]
        },
        {
          "metadata": {
            "tags": null
          },
          "name": "stderr",
          "output_type": "stream",
          "text": [
            "Epoch 8/8 [Train]: 100%|██████████| 646/646 [00:34<00:00, 18.98it/s, loss=1.421, acc=52.3%]\n"
          ]
        },
        {
          "metadata": {
            "tags": null
          },
          "name": "stdout",
          "output_type": "stream",
          "text": [
            "Epoch 8/8, Train Loss: 1.2499, Train Acc: 52.26%, Val Loss: 1.1905, Val Acc: 55.66%\n",
            "New best model saved with validation accuracy: 55.66%\n",
            "Training completed. Best validation accuracy: 55.66%\n"
          ]
        },
        {
          "data": {
            "text/html": [],
            "text/plain": [
              "<IPython.core.display.HTML object>"
            ]
          },
          "metadata": {},
          "output_type": "display_data"
        },
        {
          "data": {
            "text/html": [
              "<br>    <style><br>        .wandb-row {<br>            display: flex;<br>            flex-direction: row;<br>            flex-wrap: wrap;<br>            justify-content: flex-start;<br>            width: 100%;<br>        }<br>        .wandb-col {<br>            display: flex;<br>            flex-direction: column;<br>            flex-basis: 100%;<br>            flex: 1;<br>            padding: 10px;<br>        }<br>    </style><br><div class=\"wandb-row\"><div class=\"wandb-col\"><h3>Run history:</h3><br/><table class=\"wandb\"><tr><td>batch_loss</td><td>█▆▆▇▅▅▆▅▄▃▅▅▃▅▄▆▄▂▅▄▃▃▄▆▃▄▃▃▁▄▄▄▃▄▄▂▁▁▂▂</td></tr><tr><td>best_val_accuracy</td><td>▁</td></tr><tr><td>epoch</td><td>▁▁▁▁▁▁▂▂▂▂▂▂▃▃▃▃▄▄▄▄▄▄▅▅▅▅▅▆▆▆▆▇▇▇▇█████</td></tr><tr><td>learning_rate</td><td>▁▁▁▁▁▁▁▁▁▁▁▁▁▁▁▁▁▁▁▁▁▁▁▁▁▁▁▁▁▁▁▁▁▁▁▁▁▁▁▁</td></tr><tr><td>train_accuracy</td><td>▁▄▅▆▇▇██</td></tr><tr><td>train_loss</td><td>█▅▄▃▂▂▁▁</td></tr><tr><td>train_val_gap</td><td>▁▆▅▆▇█▇█</td></tr><tr><td>val_accuracy</td><td>▁▃▅▆▇▇██</td></tr><tr><td>val_loss</td><td>█▆▄▃▂▂▁▁</td></tr></table><br/></div><div class=\"wandb-col\"><h3>Run summary:</h3><br/><table class=\"wandb\"><tr><td>batch_loss</td><td>1.20796</td></tr><tr><td>best_val_accuracy</td><td>55.66093</td></tr><tr><td>epoch</td><td>7</td></tr><tr><td>learning_rate</td><td>0.00012</td></tr><tr><td>train_accuracy</td><td>52.26415</td></tr><tr><td>train_loss</td><td>1.24992</td></tr><tr><td>train_val_gap</td><td>-3.39677</td></tr><tr><td>val_accuracy</td><td>55.66093</td></tr><tr><td>val_loss</td><td>1.19045</td></tr></table><br/></div></div>"
            ],
            "text/plain": [
              "<IPython.core.display.HTML object>"
            ]
          },
          "metadata": {},
          "output_type": "display_data"
        },
        {
          "data": {
            "text/html": [
              " View run <strong style=\"color:#cdcd00\">gallant-sweep-4</strong> at: <a href='https://wandb.ai/konstantine25b-free-university-of-tbilisi-/Facial_Expression_Recognition_8/runs/apax75ge' target=\"_blank\">https://wandb.ai/konstantine25b-free-university-of-tbilisi-/Facial_Expression_Recognition_8/runs/apax75ge</a><br> View project at: <a href='https://wandb.ai/konstantine25b-free-university-of-tbilisi-/Facial_Expression_Recognition_8' target=\"_blank\">https://wandb.ai/konstantine25b-free-university-of-tbilisi-/Facial_Expression_Recognition_8</a><br>Synced 5 W&B file(s), 0 media file(s), 16 artifact file(s) and 0 other file(s)"
            ],
            "text/plain": [
              "<IPython.core.display.HTML object>"
            ]
          },
          "metadata": {},
          "output_type": "display_data"
        },
        {
          "data": {
            "text/html": [
              "Find logs at: <code>./wandb/run-20250602_103126-apax75ge/logs</code>"
            ],
            "text/plain": [
              "<IPython.core.display.HTML object>"
            ]
          },
          "metadata": {},
          "output_type": "display_data"
        },
        {
          "metadata": {
            "tags": null
          },
          "name": "stderr",
          "output_type": "stream",
          "text": [
            "\u001b[34m\u001b[1mwandb\u001b[0m: Agent Starting Run: htc78v5b with config:\n",
            "\u001b[34m\u001b[1mwandb\u001b[0m: \tbatch_size: 32\n",
            "\u001b[34m\u001b[1mwandb\u001b[0m: \tdropout_rate: 0.3384300501597508\n",
            "\u001b[34m\u001b[1mwandb\u001b[0m: \tepochs: 8\n",
            "\u001b[34m\u001b[1mwandb\u001b[0m: \thidden_dim: 256\n",
            "\u001b[34m\u001b[1mwandb\u001b[0m: \tlearning_rate: 0.00393918155437298\n",
            "\u001b[34m\u001b[1mwandb\u001b[0m: \tpatience: 5\n",
            "\u001b[34m\u001b[1mwandb\u001b[0m: \tweight_decay: 0.000512189951505187\n"
          ]
        },
        {
          "data": {
            "text/html": [
              "Ignoring project 'Facial_Expression_Recognition_8' when running a sweep."
            ],
            "text/plain": [
              "<IPython.core.display.HTML object>"
            ]
          },
          "metadata": {},
          "output_type": "display_data"
        },
        {
          "data": {
            "text/html": [
              "Tracking run with wandb version 0.19.11"
            ],
            "text/plain": [
              "<IPython.core.display.HTML object>"
            ]
          },
          "metadata": {},
          "output_type": "display_data"
        },
        {
          "data": {
            "text/html": [
              "Run data is saved locally in <code>/content/wandb/run-20250602_103632-htc78v5b</code>"
            ],
            "text/plain": [
              "<IPython.core.display.HTML object>"
            ]
          },
          "metadata": {},
          "output_type": "display_data"
        },
        {
          "data": {
            "text/html": [
              "Syncing run <strong><a href='https://wandb.ai/konstantine25b-free-university-of-tbilisi-/Facial_Expression_Recognition_8/runs/htc78v5b' target=\"_blank\">sleek-sweep-5</a></strong> to <a href='https://wandb.ai/konstantine25b-free-university-of-tbilisi-/Facial_Expression_Recognition_8' target=\"_blank\">Weights & Biases</a> (<a href='https://wandb.me/developer-guide' target=\"_blank\">docs</a>)<br>Sweep page: <a href='https://wandb.ai/konstantine25b-free-university-of-tbilisi-/Facial_Expression_Recognition_8/sweeps/lc6mrgl9' target=\"_blank\">https://wandb.ai/konstantine25b-free-university-of-tbilisi-/Facial_Expression_Recognition_8/sweeps/lc6mrgl9</a>"
            ],
            "text/plain": [
              "<IPython.core.display.HTML object>"
            ]
          },
          "metadata": {},
          "output_type": "display_data"
        },
        {
          "data": {
            "text/html": [
              " View project at <a href='https://wandb.ai/konstantine25b-free-university-of-tbilisi-/Facial_Expression_Recognition_8' target=\"_blank\">https://wandb.ai/konstantine25b-free-university-of-tbilisi-/Facial_Expression_Recognition_8</a>"
            ],
            "text/plain": [
              "<IPython.core.display.HTML object>"
            ]
          },
          "metadata": {},
          "output_type": "display_data"
        },
        {
          "data": {
            "text/html": [
              " View sweep at <a href='https://wandb.ai/konstantine25b-free-university-of-tbilisi-/Facial_Expression_Recognition_8/sweeps/lc6mrgl9' target=\"_blank\">https://wandb.ai/konstantine25b-free-university-of-tbilisi-/Facial_Expression_Recognition_8/sweeps/lc6mrgl9</a>"
            ],
            "text/plain": [
              "<IPython.core.display.HTML object>"
            ]
          },
          "metadata": {},
          "output_type": "display_data"
        },
        {
          "data": {
            "text/html": [
              " View run at <a href='https://wandb.ai/konstantine25b-free-university-of-tbilisi-/Facial_Expression_Recognition_8/runs/htc78v5b' target=\"_blank\">https://wandb.ai/konstantine25b-free-university-of-tbilisi-/Facial_Expression_Recognition_8/runs/htc78v5b</a>"
            ],
            "text/plain": [
              "<IPython.core.display.HTML object>"
            ]
          },
          "metadata": {},
          "output_type": "display_data"
        },
        {
          "metadata": {
            "tags": null
          },
          "name": "stderr",
          "output_type": "stream",
          "text": [
            "Epoch 1/8 [Train]: 100%|██████████| 646/646 [00:34<00:00, 18.58it/s, loss=1.348, acc=32.6%]\n"
          ]
        },
        {
          "metadata": {
            "tags": null
          },
          "name": "stdout",
          "output_type": "stream",
          "text": [
            "Epoch 1/8, Train Loss: 1.6859, Train Acc: 32.65%, Val Loss: 1.5082, Val Acc: 40.93%\n",
            "New best model saved with validation accuracy: 40.93%\n"
          ]
        },
        {
          "metadata": {
            "tags": null
          },
          "name": "stderr",
          "output_type": "stream",
          "text": [
            "Epoch 2/8 [Train]: 100%|██████████| 646/646 [00:28<00:00, 22.67it/s, loss=1.472, acc=43.0%]\n"
          ]
        },
        {
          "metadata": {
            "tags": null
          },
          "name": "stdout",
          "output_type": "stream",
          "text": [
            "Epoch 2/8, Train Loss: 1.4670, Train Acc: 43.03%, Val Loss: 1.4200, Val Acc: 46.29%\n",
            "New best model saved with validation accuracy: 46.29%\n"
          ]
        },
        {
          "metadata": {
            "tags": null
          },
          "name": "stderr",
          "output_type": "stream",
          "text": [
            "Epoch 3/8 [Train]: 100%|██████████| 646/646 [00:28<00:00, 22.82it/s, loss=1.398, acc=44.7%]\n"
          ]
        },
        {
          "output_type": "stream",
          "name": "stdout",
          "text": [
            "Epoch 3/8, Train Loss: 1.4255, Train Acc: 44.71%, Val Loss: 1.3562, Val Acc: 48.67%\n",
            "New best model saved with validation accuracy: 48.67%\n"
          ]
        },
        {
          "output_type": "stream",
          "name": "stderr",
          "text": [
            "Epoch 4/8 [Train]: 100%|██████████| 646/646 [00:28<00:00, 22.41it/s, loss=1.453, acc=46.1%]\n"
          ]
        },
        {
          "output_type": "stream",
          "name": "stdout",
          "text": [
            "Epoch 4/8, Train Loss: 1.3931, Train Acc: 46.07%, Val Loss: 1.3424, Val Acc: 48.96%\n",
            "New best model saved with validation accuracy: 48.96%\n"
          ]
        },
        {
          "output_type": "stream",
          "name": "stderr",
          "text": [
            "Epoch 5/8 [Train]: 100%|██████████| 646/646 [00:28<00:00, 22.36it/s, loss=1.368, acc=47.1%]\n"
          ]
        },
        {
          "output_type": "stream",
          "name": "stdout",
          "text": [
            "Epoch 5/8, Train Loss: 1.3706, Train Acc: 47.15%, Val Loss: 1.3121, Val Acc: 48.93%\n"
          ]
        },
        {
          "output_type": "stream",
          "name": "stderr",
          "text": [
            "Epoch 6/8 [Train]: 100%|██████████| 646/646 [00:27<00:00, 23.53it/s, loss=1.325, acc=47.7%]\n"
          ]
        },
        {
          "output_type": "stream",
          "name": "stdout",
          "text": [
            "Epoch 6/8, Train Loss: 1.3575, Train Acc: 47.67%, Val Loss: 1.2814, Val Acc: 51.46%\n",
            "New best model saved with validation accuracy: 51.46%\n"
          ]
        },
        {
          "output_type": "stream",
          "name": "stderr",
          "text": [
            "Epoch 7/8 [Train]: 100%|██████████| 646/646 [00:27<00:00, 23.91it/s, loss=1.413, acc=48.4%]\n"
          ]
        },
        {
          "output_type": "stream",
          "name": "stdout",
          "text": [
            "Epoch 7/8, Train Loss: 1.3444, Train Acc: 48.44%, Val Loss: 1.2872, Val Acc: 50.38%\n"
          ]
        },
        {
          "output_type": "stream",
          "name": "stderr",
          "text": [
            "Epoch 8/8 [Train]: 100%|██████████| 646/646 [00:28<00:00, 22.69it/s, loss=1.478, acc=48.6%]\n"
          ]
        },
        {
          "output_type": "stream",
          "name": "stdout",
          "text": [
            "Epoch 8/8, Train Loss: 1.3378, Train Acc: 48.60%, Val Loss: 1.2576, Val Acc: 52.82%\n",
            "New best model saved with validation accuracy: 52.82%\n",
            "Training completed. Best validation accuracy: 52.82%\n"
          ]
        },
        {
          "output_type": "display_data",
          "data": {
            "text/plain": [
              "<IPython.core.display.HTML object>"
            ],
            "text/html": []
          },
          "metadata": {}
        },
        {
          "output_type": "display_data",
          "data": {
            "text/plain": [
              "<IPython.core.display.HTML object>"
            ],
            "text/html": [
              "<br>    <style><br>        .wandb-row {<br>            display: flex;<br>            flex-direction: row;<br>            flex-wrap: wrap;<br>            justify-content: flex-start;<br>            width: 100%;<br>        }<br>        .wandb-col {<br>            display: flex;<br>            flex-direction: column;<br>            flex-basis: 100%;<br>            flex: 1;<br>            padding: 10px;<br>        }<br>    </style><br><div class=\"wandb-row\"><div class=\"wandb-col\"><h3>Run history:</h3><br/><table class=\"wandb\"><tr><td>batch_loss</td><td>█▇▅▅▆▂▆▃▇▅▃▆▄▂▅▃▂▂▄▆▃▁▄▁▃▂▂▂▂▃▂▄▄▁▁▂▄▁▂▂</td></tr><tr><td>best_val_accuracy</td><td>▁</td></tr><tr><td>epoch</td><td>▁▁▁▁▁▁▁▂▂▂▂▂▂▃▃▃▄▄▄▄▅▅▅▅▅▆▆▆▇▇▇▇▇▇▇█████</td></tr><tr><td>learning_rate</td><td>▁▁▁▁▁▁▁▁▁▁▁▁▁▁▁▁▁▁▁▁▁▁▁▁▁▁▁▁▁▁▁▁▁▁▁▁▁▁▁▁</td></tr><tr><td>train_accuracy</td><td>▁▆▆▇▇███</td></tr><tr><td>train_loss</td><td>█▄▃▂▂▁▁▁</td></tr><tr><td>train_val_gap</td><td>▁▆▆▇█▆█▅</td></tr><tr><td>val_accuracy</td><td>▁▄▆▆▆▇▇█</td></tr><tr><td>val_loss</td><td>█▆▄▃▃▂▂▁</td></tr></table><br/></div><div class=\"wandb-col\"><h3>Run summary:</h3><br/><table class=\"wandb\"><tr><td>batch_loss</td><td>1.24228</td></tr><tr><td>best_val_accuracy</td><td>52.81595</td></tr><tr><td>epoch</td><td>7</td></tr><tr><td>learning_rate</td><td>0.00394</td></tr><tr><td>train_accuracy</td><td>48.60184</td></tr><tr><td>train_loss</td><td>1.33776</td></tr><tr><td>train_val_gap</td><td>-4.21411</td></tr><tr><td>val_accuracy</td><td>52.81595</td></tr><tr><td>val_loss</td><td>1.25756</td></tr></table><br/></div></div>"
            ]
          },
          "metadata": {}
        },
        {
          "output_type": "display_data",
          "data": {
            "text/plain": [
              "<IPython.core.display.HTML object>"
            ],
            "text/html": [
              " View run <strong style=\"color:#cdcd00\">sleek-sweep-5</strong> at: <a href='https://wandb.ai/konstantine25b-free-university-of-tbilisi-/Facial_Expression_Recognition_8/runs/htc78v5b' target=\"_blank\">https://wandb.ai/konstantine25b-free-university-of-tbilisi-/Facial_Expression_Recognition_8/runs/htc78v5b</a><br> View project at: <a href='https://wandb.ai/konstantine25b-free-university-of-tbilisi-/Facial_Expression_Recognition_8' target=\"_blank\">https://wandb.ai/konstantine25b-free-university-of-tbilisi-/Facial_Expression_Recognition_8</a><br>Synced 5 W&B file(s), 0 media file(s), 12 artifact file(s) and 0 other file(s)"
            ]
          },
          "metadata": {}
        },
        {
          "output_type": "display_data",
          "data": {
            "text/plain": [
              "<IPython.core.display.HTML object>"
            ],
            "text/html": [
              "Find logs at: <code>./wandb/run-20250602_103632-htc78v5b/logs</code>"
            ]
          },
          "metadata": {}
        }
      ]
    },
    {
      "cell_type": "code",
      "source": [
        "api = wandb.Api()\n",
        "runs = api.runs(\"konstantine25b-free-university-of-tbilisi-/Facial_Expression_Recognition_8\")\n",
        "\n",
        "best_run = None\n",
        "best_val_acc = 0"
      ],
      "metadata": {
        "id": "swB8e3g_go9K"
      },
      "execution_count": 25,
      "outputs": []
    },
    {
      "cell_type": "code",
      "source": [
        "for run in runs:\n",
        "    if run.state == \"finished\" and \"best_val_accuracy\" in run.summary:\n",
        "        val_acc = run.summary[\"best_val_accuracy\"]\n",
        "        if val_acc > best_val_acc:\n",
        "            best_val_acc = val_acc\n",
        "            best_run = run"
      ],
      "metadata": {
        "id": "IArjzpwMgq2A"
      },
      "execution_count": 26,
      "outputs": []
    },
    {
      "cell_type": "code",
      "source": [
        "if best_run:\n",
        "    print(f\"\\nBest run: {best_run.name}\")\n",
        "    print(f\"Best validation accuracy: {best_val_acc:.2f}%\")\n",
        "    print(f\"Best hyperparameters: {best_run.config}\")\n",
        "\n",
        "\n",
        "    artifacts = api.artifact(f\"konstantine25b-free-university-of-tbilisi-/Facial_Expression_Recognition_8/best_model_{best_run.name}:latest\")\n",
        "    download_path = artifacts.download()\n",
        "\n",
        "    print(f\"Downloaded to: {download_path}\")\n",
        "\n",
        "    import os\n",
        "    model_file_path = None\n",
        "\n",
        "\n",
        "    if os.path.exists(os.path.join(download_path, \"best_model.pth\")):\n",
        "        model_file_path = os.path.join(download_path, \"best_model.pth\")\n",
        "\n",
        "    elif os.path.exists(\"best_model.pth\"):\n",
        "        model_file_path = \"best_model.pth\"\n",
        "    else:\n",
        "        for root, dirs, files in os.walk(\".\"):\n",
        "            if \"best_model.pth\" in files:\n",
        "                model_file_path = os.path.join(root, \"best_model.pth\")\n",
        "                break\n",
        "\n",
        "    if model_file_path and os.path.exists(model_file_path):\n",
        "        print(f\"Found model file at: {model_file_path}\")\n",
        "\n",
        "        final_artifact = wandb.Artifact(\n",
        "            name=\"final_best_resnet_model\",\n",
        "            type=\"model\",\n",
        "            description=f\"Final best ResNet model with {best_val_acc:.2f}% validation accuracy\"\n",
        "        )\n",
        "        final_artifact.add_file(model_file_path)\n",
        "\n",
        "        with wandb.init(project=\"Facial_Expression_Recognition_8\", name=\"final_model_upload\"):\n",
        "            wandb.log_artifact(final_artifact)\n",
        "            wandb.log({\n",
        "                \"final_best_val_accuracy\": best_val_acc,\n",
        "                \"model_architecture\": \"ResNet\",\n",
        "                \"ready_for_testing\": True\n",
        "            })\n",
        "\n",
        "        print(f\"\\nFinal model uploaded to wandb as 'final_best_resnet_model'\")\n",
        "        print(\"You can now load this model in the future for testing on any dataset!\")\n",
        "\n",
        "        print(\"\\nTo test on a different dataset in the future, use:\")\n",
        "        print(\"evaluate_model_on_testset('path_to_downloaded_model.pth', 'your_test_dataset.csv')\")\n",
        "\n",
        "    else:\n",
        "        print(\"Error: Could not find the downloaded model file!\")\n",
        "        print(\"Files in current directory:\")\n",
        "        for item in os.listdir(\".\"):\n",
        "            print(f\"  {item}\")\n",
        "\n",
        "else:\n",
        "    print(\"No successful runs found!\")"
      ],
      "metadata": {
        "colab": {
          "base_uri": "https://localhost:8080/"
        },
        "id": "dsoe_F0Jgst6",
        "outputId": "483bb737-3e45-4331-eb29-2b6049661f60"
      },
      "execution_count": 27,
      "outputs": [
        {
          "output_type": "stream",
          "name": "stdout",
          "text": [
            "\n",
            "Best run: scarlet-sweep-2\n",
            "Best validation accuracy: 64.23%\n",
            "Best hyperparameters: {'epochs': 30, 'patience': 5, 'batch_size': 32, 'hidden_dim': 128, 'dropout_rate': 0.32711369900475645, 'weight_decay': 0.00017971017828689558, 'learning_rate': 0.00048796996812685976}\n"
          ]
        },
        {
          "output_type": "stream",
          "name": "stderr",
          "text": [
            "\u001b[34m\u001b[1mwandb\u001b[0m:   1 of 1 files downloaded.  \n"
          ]
        },
        {
          "output_type": "stream",
          "name": "stdout",
          "text": [
            "Downloaded to: /content/artifacts/best_model_scarlet-sweep-2:v19\n",
            "Error: Could not find the downloaded model file!\n",
            "Files in current directory:\n",
            "  .config\n",
            "  best_model_g3ekz9xj.pt\n",
            "  best_model_htc78v5b.pt\n",
            "  best_model_awmgyi60.pt\n",
            "  artifacts\n",
            "  best_model_apax75ge.pt\n",
            "  best_model_39badffd.pt\n",
            "  fer2013.tar.gz\n",
            "  wandb\n",
            "  icml_face_data.csv\n",
            "  best_model_zscv2f9k.pt\n",
            "  best_model_z7hc1n5p.pt\n",
            "  best_model_37qfk9h8.pt\n",
            "  test.csv\n",
            "  challenges-in-representation-learning-facial-expression-recognition-challenge.zip\n",
            "  konstantine25b-free-university-of-tbilisi-\n",
            "  train.csv\n",
            "  best_model_0qz3y5is.pt\n",
            "  best_model_3i8ct7f6.pt\n",
            "  best_model_vwx2z668.pt\n",
            "  best_model_un860siz.pt\n",
            "  best_model_keexmwl9.pt\n",
            "  example_submission.csv\n",
            "  drive\n",
            "  sample_data\n"
          ]
        }
      ]
    }
  ],
  "metadata": {
    "language_info": {
      "name": "python"
    },
    "colab": {
      "provenance": [],
      "gpuType": "T4"
    },
    "kernelspec": {
      "name": "python3",
      "display_name": "Python 3"
    },
    "accelerator": "GPU"
  },
  "nbformat": 4,
  "nbformat_minor": 0
}