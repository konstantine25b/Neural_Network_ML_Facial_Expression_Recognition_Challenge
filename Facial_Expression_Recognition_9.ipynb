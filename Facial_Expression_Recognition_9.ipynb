{
  "cells": [
    {
      "cell_type": "markdown",
      "source": [
        "# Experiment 9"
      ],
      "metadata": {
        "id": "JBmrFS6tLr0L"
      }
    },
    {
      "cell_type": "code",
      "execution_count": 1,
      "metadata": {
        "vscode": {
          "languageId": "plaintext"
        },
        "colab": {
          "base_uri": "https://localhost:8080/"
        },
        "id": "RRt4H9Y3LhYn",
        "outputId": "373156ff-99ef-4d1f-dd0e-c8f3051d3ee5"
      },
      "outputs": [
        {
          "output_type": "stream",
          "name": "stdout",
          "text": [
            "\u001b[2K   \u001b[90m━━━━━━━━━━━━━━━━━━━━━━━━━━━━━━━━━━━━━━━━\u001b[0m \u001b[32m17.6/17.6 MB\u001b[0m \u001b[31m17.9 MB/s\u001b[0m eta \u001b[36m0:00:00\u001b[0m\n",
            "\u001b[?25hMounted at /content/drive\n"
          ]
        }
      ],
      "source": [
        "!pip install kaggle wandb onnx -Uq\n",
        "from google.colab import drive\n",
        "drive.mount('/content/drive')"
      ]
    },
    {
      "cell_type": "code",
      "source": [
        "! mkdir ~/.kaggle"
      ],
      "metadata": {
        "id": "-elfPKw3LqYg"
      },
      "execution_count": 2,
      "outputs": []
    },
    {
      "cell_type": "code",
      "source": [
        "!cp /content/drive/MyDrive/ColabNotebooks/kaggle_API_credentials/kaggle.json ~/.kaggle/kaggle.json"
      ],
      "metadata": {
        "id": "3oEx8GURLvJe"
      },
      "execution_count": 3,
      "outputs": []
    },
    {
      "cell_type": "code",
      "source": [
        "! chmod 600 ~/.kaggle/kaggle.json"
      ],
      "metadata": {
        "id": "lNVsozlULwmw"
      },
      "execution_count": 4,
      "outputs": []
    },
    {
      "cell_type": "code",
      "source": [
        "!kaggle competitions download -c challenges-in-representation-learning-facial-expression-recognition-challenge"
      ],
      "metadata": {
        "colab": {
          "base_uri": "https://localhost:8080/"
        },
        "id": "dvyLPaHLLxvd",
        "outputId": "ae9c9e6a-a686-4816-c972-9bc1352a56a9"
      },
      "execution_count": 5,
      "outputs": [
        {
          "output_type": "stream",
          "name": "stdout",
          "text": [
            "Downloading challenges-in-representation-learning-facial-expression-recognition-challenge.zip to /content\n",
            " 97% 277M/285M [00:00<00:00, 402MB/s]\n",
            "100% 285M/285M [00:00<00:00, 470MB/s]\n"
          ]
        }
      ]
    },
    {
      "cell_type": "code",
      "source": [
        "! unzip challenges-in-representation-learning-facial-expression-recognition-challenge.zip"
      ],
      "metadata": {
        "colab": {
          "base_uri": "https://localhost:8080/"
        },
        "id": "-1DlmW32LzK8",
        "outputId": "cfa00e13-7a88-423d-ffae-64de82f6c60e"
      },
      "execution_count": 6,
      "outputs": [
        {
          "output_type": "stream",
          "name": "stdout",
          "text": [
            "Archive:  challenges-in-representation-learning-facial-expression-recognition-challenge.zip\n",
            "  inflating: example_submission.csv  \n",
            "  inflating: fer2013.tar.gz          \n",
            "  inflating: icml_face_data.csv      \n",
            "  inflating: test.csv                \n",
            "  inflating: train.csv               \n"
          ]
        }
      ]
    },
    {
      "cell_type": "code",
      "source": [
        "!pip install wandb onnx -Uq"
      ],
      "metadata": {
        "id": "BN4lqgDkL0ZG"
      },
      "execution_count": 7,
      "outputs": []
    },
    {
      "cell_type": "code",
      "source": [
        "import torch\n",
        "import torch.nn as nn\n",
        "import torch.optim as optim\n",
        "import torch.nn.functional as F\n",
        "from torch.utils.data import Dataset, DataLoader, random_split\n",
        "import torchvision.transforms as transforms\n",
        "import pandas as pd\n",
        "import numpy as np\n",
        "import matplotlib.pyplot as plt\n",
        "import seaborn as sns\n",
        "from sklearn.metrics import classification_report, confusion_matrix\n",
        "import wandb\n",
        "from tqdm import tqdm\n",
        "import warnings\n",
        "warnings.filterwarnings('ignore')"
      ],
      "metadata": {
        "id": "RpxGtcRxL2M9"
      },
      "execution_count": 8,
      "outputs": []
    },
    {
      "cell_type": "code",
      "source": [
        "device = torch.device('cuda' if torch.cuda.is_available() else 'cpu')\n",
        "print(f\"Using device: {device}\")"
      ],
      "metadata": {
        "colab": {
          "base_uri": "https://localhost:8080/"
        },
        "id": "jmy159DpL4an",
        "outputId": "a9727ca5-3860-40a5-e5e4-81db21c3812e"
      },
      "execution_count": 9,
      "outputs": [
        {
          "output_type": "stream",
          "name": "stdout",
          "text": [
            "Using device: cpu\n"
          ]
        }
      ]
    },
    {
      "cell_type": "code",
      "source": [
        "wandb.login()"
      ],
      "metadata": {
        "colab": {
          "base_uri": "https://localhost:8080/",
          "height": 215
        },
        "id": "L8MPlxuuL6Rk",
        "outputId": "4d3fa461-c06e-4e37-a3d9-c58272eb7b0b"
      },
      "execution_count": 10,
      "outputs": [
        {
          "output_type": "display_data",
          "data": {
            "text/plain": [
              "<IPython.core.display.Javascript object>"
            ],
            "application/javascript": [
              "\n",
              "        window._wandbApiKey = new Promise((resolve, reject) => {\n",
              "            function loadScript(url) {\n",
              "            return new Promise(function(resolve, reject) {\n",
              "                let newScript = document.createElement(\"script\");\n",
              "                newScript.onerror = reject;\n",
              "                newScript.onload = resolve;\n",
              "                document.body.appendChild(newScript);\n",
              "                newScript.src = url;\n",
              "            });\n",
              "            }\n",
              "            loadScript(\"https://cdn.jsdelivr.net/npm/postmate/build/postmate.min.js\").then(() => {\n",
              "            const iframe = document.createElement('iframe')\n",
              "            iframe.style.cssText = \"width:0;height:0;border:none\"\n",
              "            document.body.appendChild(iframe)\n",
              "            const handshake = new Postmate({\n",
              "                container: iframe,\n",
              "                url: 'https://wandb.ai/authorize'\n",
              "            });\n",
              "            const timeout = setTimeout(() => reject(\"Couldn't auto authenticate\"), 5000)\n",
              "            handshake.then(function(child) {\n",
              "                child.on('authorize', data => {\n",
              "                    clearTimeout(timeout)\n",
              "                    resolve(data)\n",
              "                });\n",
              "            });\n",
              "            })\n",
              "        });\n",
              "    "
            ]
          },
          "metadata": {}
        },
        {
          "output_type": "stream",
          "name": "stderr",
          "text": [
            "\u001b[34m\u001b[1mwandb\u001b[0m: Logging into wandb.ai. (Learn how to deploy a W&B server locally: https://wandb.me/wandb-server)\n",
            "\u001b[34m\u001b[1mwandb\u001b[0m: You can find your API key in your browser here: https://wandb.ai/authorize\n",
            "wandb: Paste an API key from your profile and hit enter:"
          ]
        },
        {
          "name": "stdout",
          "output_type": "stream",
          "text": [
            " ··········\n"
          ]
        },
        {
          "output_type": "stream",
          "name": "stderr",
          "text": [
            "\u001b[34m\u001b[1mwandb\u001b[0m: \u001b[33mWARNING\u001b[0m If you're specifying your api key in code, ensure this code is not shared publicly.\n",
            "\u001b[34m\u001b[1mwandb\u001b[0m: \u001b[33mWARNING\u001b[0m Consider setting the WANDB_API_KEY environment variable, or running `wandb login` from the command line.\n",
            "\u001b[34m\u001b[1mwandb\u001b[0m: No netrc file found, creating one.\n",
            "\u001b[34m\u001b[1mwandb\u001b[0m: Appending key for api.wandb.ai to your netrc file: /root/.netrc\n",
            "\u001b[34m\u001b[1mwandb\u001b[0m: Currently logged in as: \u001b[33mkonstantine25b\u001b[0m (\u001b[33mkonstantine25b-free-university-of-tbilisi-\u001b[0m) to \u001b[32mhttps://api.wandb.ai\u001b[0m. Use \u001b[1m`wandb login --relogin`\u001b[0m to force relogin\n"
          ]
        },
        {
          "output_type": "execute_result",
          "data": {
            "text/plain": [
              "True"
            ]
          },
          "metadata": {},
          "execution_count": 10
        }
      ]
    },
    {
      "cell_type": "code",
      "source": [
        "import os"
      ],
      "metadata": {
        "id": "2jvUpCFNO37g"
      },
      "execution_count": 11,
      "outputs": []
    },
    {
      "cell_type": "code",
      "source": [
        "class FER2013Dataset(Dataset):\n",
        "    def __init__(self, data_source, transform=None):\n",
        "        if isinstance(data_source, str):\n",
        "           self.data = pd.read_csv(data_source)\n",
        "        else:\n",
        "           self.data = data_source\n",
        "        self.transform = transform\n",
        "\n",
        "    def __len__(self):\n",
        "        return len(self.data)\n",
        "\n",
        "    def __getitem__(self, idx):\n",
        "        pixels = self.data.iloc[idx]['pixels']\n",
        "        emotion = self.data.iloc[idx]['emotion']\n",
        "\n",
        "        image = np.array([int(pixel) for pixel in pixels.split()]).reshape(48, 48)\n",
        "        image = image.astype(np.float32) / 255.0\n",
        "\n",
        "        if self.transform:\n",
        "            image = self.transform(image)\n",
        "        else:\n",
        "            image = torch.FloatTensor(image).unsqueeze(0)\n",
        "\n",
        "        return image, emotion"
      ],
      "metadata": {
        "id": "sv9I3bg1MBMz"
      },
      "execution_count": 12,
      "outputs": []
    },
    {
      "cell_type": "code",
      "source": [
        "def get_transforms():\n",
        "    train_transform = transforms.Compose([\n",
        "        transforms.ToPILImage(),\n",
        "        transforms.Pad(4),\n",
        "        transforms.RandomCrop(48),\n",
        "        transforms.RandomHorizontalFlip(p=0.3),\n",
        "        transforms.RandomRotation(10),\n",
        "        transforms.ToTensor(),\n",
        "        transforms.Normalize((0.5,), (0.5,))\n",
        "    ])\n",
        "\n",
        "    val_test_transform = transforms.Compose([\n",
        "        transforms.ToPILImage(),\n",
        "        transforms.ToTensor(),\n",
        "        transforms.Normalize((0.5,), (0.5,))\n",
        "    ])\n",
        "\n",
        "    return train_transform, val_test_transform"
      ],
      "metadata": {
        "id": "5wsaTkfaMC_S"
      },
      "execution_count": 13,
      "outputs": []
    },
    {
      "cell_type": "code",
      "source": [
        "def create_train_val_test_splits(csv_file):\n",
        "    data = pd.read_csv(csv_file)\n",
        "\n",
        "    train_size = int(0.72 * len(data))\n",
        "    val_size = int(0.18 * len(data))\n",
        "    test_size = len(data) - train_size - val_size\n",
        "\n",
        "    train_data = data.iloc[:train_size]\n",
        "    val_data = data.iloc[train_size:train_size + val_size]\n",
        "    test_data = data.iloc[train_size + val_size:]\n",
        "\n",
        "    return train_data, val_data, test_data"
      ],
      "metadata": {
        "id": "Tuu3eomEME2a"
      },
      "execution_count": 14,
      "outputs": []
    },
    {
      "cell_type": "code",
      "source": [
        "def create_dataloaders(csv_file, batch_size=64):\n",
        "    train_transform, val_test_transform = get_transforms()\n",
        "\n",
        "    train_data, val_data, test_data = create_train_val_test_splits(csv_file)\n",
        "\n",
        "    train_dataset = FER2013Dataset(train_data, transform=train_transform)\n",
        "    val_dataset = FER2013Dataset(val_data, transform=val_test_transform)\n",
        "    test_dataset = FER2013Dataset(test_data, transform=val_test_transform)\n",
        "\n",
        "    train_loader = DataLoader(train_dataset, batch_size=batch_size, shuffle=True, num_workers=2)\n",
        "    val_loader = DataLoader(val_dataset, batch_size=batch_size, shuffle=False, num_workers=2)\n",
        "    test_loader = DataLoader(test_dataset, batch_size=batch_size, shuffle=False, num_workers=2)\n",
        "\n",
        "    return train_loader, val_loader, test_loader"
      ],
      "metadata": {
        "id": "W_dQvyGWMNN5"
      },
      "execution_count": 15,
      "outputs": []
    },
    {
      "cell_type": "code",
      "source": [
        "def create_test_loader(test_csv_path, batch_size=64):\n",
        "    \"\"\"Create test dataloader from CSV file\"\"\"\n",
        "    _, val_test_transform = get_transforms()\n",
        "    test_dataset = FER2013Dataset(test_csv_path, transform=val_test_transform)\n",
        "    test_loader = DataLoader(test_dataset, batch_size=batch_size, shuffle=False, num_workers=2)\n",
        "    return test_loader"
      ],
      "metadata": {
        "id": "jPKmbGQHX0y1"
      },
      "execution_count": 16,
      "outputs": []
    },
    {
      "cell_type": "code",
      "source": [
        "def load_model(model_path):\n",
        "    \"\"\"Load trained model from checkpoint\"\"\"\n",
        "    checkpoint = torch.load(model_path, map_location=device)\n",
        "    model_config = checkpoint['model_config']\n",
        "\n",
        "    model = EnhancedCNN(\n",
        "        dropout_rate=model_config['dropout_rate'],\n",
        "        hidden_dim=model_config['hidden_dim']\n",
        "    ).to(device)\n",
        "\n",
        "    model.load_state_dict(checkpoint['model_state_dict'])\n",
        "    print(f\"Model loaded from {model_path}\")\n",
        "    return model"
      ],
      "metadata": {
        "id": "NvU2K6QTX3KF"
      },
      "execution_count": 17,
      "outputs": []
    },
    {
      "cell_type": "code",
      "source": [
        "class BasicResidualBlock(nn.Module):\n",
        "    def __init__(self, in_channels, out_channels, stride=1):\n",
        "        super(BasicResidualBlock, self).__init__()\n",
        "        self.conv1 = nn.Conv2d(in_channels, out_channels, kernel_size=3, stride=stride, padding=1, bias=False)\n",
        "        self.bn1 = nn.BatchNorm2d(out_channels)\n",
        "        self.conv2 = nn.Conv2d(out_channels, out_channels, kernel_size=3, stride=1, padding=1, bias=False)\n",
        "        self.bn2 = nn.BatchNorm2d(out_channels)\n",
        "\n",
        "        self.shortcut = nn.Sequential()\n",
        "        if stride != 1 or in_channels != out_channels:\n",
        "            self.shortcut = nn.Sequential(\n",
        "                nn.Conv2d(in_channels, out_channels, kernel_size=1, stride=stride, bias=False),\n",
        "                nn.BatchNorm2d(out_channels)\n",
        "            )\n",
        "\n",
        "    def forward(self, x):\n",
        "        out = F.relu(self.bn1(self.conv1(x)))\n",
        "        out = self.bn2(self.conv2(out))\n",
        "        out += self.shortcut(x)\n",
        "        out = F.relu(out)\n",
        "        return out"
      ],
      "metadata": {
        "id": "5HxetnncMO1G"
      },
      "execution_count": 18,
      "outputs": []
    },
    {
      "cell_type": "code",
      "source": [
        "class EnhancedCNN(nn.Module):\n",
        "    def __init__(self, dropout_rate=0.3, hidden_dim=128):\n",
        "        super(EnhancedCNN, self).__init__()\n",
        "\n",
        "        self.conv1 = nn.Conv2d(1, 32, kernel_size=3, padding=1)\n",
        "        self.bn1 = nn.BatchNorm2d(32)\n",
        "        self.pool1 = nn.MaxPool2d(kernel_size=2)\n",
        "\n",
        "        self.conv2 = nn.Conv2d(32, 64, kernel_size=3, padding=1)\n",
        "        self.bn2 = nn.BatchNorm2d(64)\n",
        "        self.pool2 = nn.MaxPool2d(kernel_size=2)\n",
        "\n",
        "        self.resnet_block = BasicResidualBlock(64, 128, stride=2)\n",
        "\n",
        "        self.conv3 = nn.Conv2d(128, 128, kernel_size=3, padding=1)\n",
        "        self.bn3 = nn.BatchNorm2d(128)\n",
        "        self.pool3 = nn.MaxPool2d(kernel_size=2)\n",
        "\n",
        "        self.fc1 = nn.Linear(128 * 3 * 3, hidden_dim)\n",
        "        self.bn4 = nn.BatchNorm1d(hidden_dim)\n",
        "        self.dropout1 = nn.Dropout(dropout_rate)\n",
        "        self.fc2 = nn.Linear(hidden_dim, 7)\n",
        "\n",
        "    def forward(self, x):\n",
        "        x = self.pool1(F.relu(self.bn1(self.conv1(x))))\n",
        "        x = self.pool2(F.relu(self.bn2(self.conv2(x))))\n",
        "\n",
        "        x = self.resnet_block(x)\n",
        "\n",
        "        x = self.pool3(F.relu(self.bn3(self.conv3(x))))\n",
        "\n",
        "        x = x.view(x.size(0), -1)\n",
        "        x = F.relu(self.bn4(self.fc1(x)))\n",
        "        x = self.dropout1(x)\n",
        "        x = self.fc2(x)\n",
        "\n",
        "        return x\n",
        "\n",
        "    def test(self, test_loader):\n",
        "        \"\"\"Simple test function like in the PyTorch tutorial\"\"\"\n",
        "        self.eval()\n",
        "\n",
        "        with torch.no_grad():\n",
        "            correct, total = 0, 0\n",
        "            for images, labels in test_loader:\n",
        "                images, labels = images.to(device), labels.to(device)\n",
        "                outputs = self(images)\n",
        "                _, predicted = torch.max(outputs.data, 1)\n",
        "                total += labels.size(0)\n",
        "                correct += (predicted == labels).sum().item()\n",
        "\n",
        "            accuracy = correct / total\n",
        "            print(f\"Accuracy of the model on the {total} test images: {accuracy:.1%}\")\n",
        "\n",
        "            # Log to wandb if active\n",
        "            if wandb.run is not None:\n",
        "                wandb.log({\"test_accuracy\": accuracy})\n",
        "\n",
        "            return accuracy"
      ],
      "metadata": {
        "id": "89uDvybOMQQc"
      },
      "execution_count": 19,
      "outputs": []
    },
    {
      "cell_type": "code",
      "source": [
        "def test_overfitting():\n",
        "    print(\"Testing enhanced CNN with ResNet block on small dataset...\")\n",
        "\n",
        "    model = EnhancedCNN(dropout_rate=0.0).to(device)\n",
        "    criterion = nn.CrossEntropyLoss()\n",
        "    optimizer = optim.Adam(model.parameters(), lr=0.001)\n",
        "\n",
        "    train_loader, _, _ = create_dataloaders('train.csv', batch_size=32)\n",
        "\n",
        "    small_batch = []\n",
        "    for i, (data, target) in enumerate(train_loader):\n",
        "        small_batch.extend(list(zip(data, target)))\n",
        "        if len(small_batch) >= 20:\n",
        "            break\n",
        "\n",
        "    small_batch = small_batch[:20]\n",
        "\n",
        "    for epoch in range(30):\n",
        "        model.train()\n",
        "        total_loss = 0\n",
        "        correct = 0\n",
        "\n",
        "        batch_data = []\n",
        "        batch_targets = []\n",
        "\n",
        "        for data, target in small_batch:\n",
        "            batch_data.append(data)\n",
        "            batch_targets.append(target)\n",
        "\n",
        "        batch_data = torch.stack(batch_data).to(device)\n",
        "        batch_targets = torch.tensor(batch_targets).to(device)\n",
        "\n",
        "        optimizer.zero_grad()\n",
        "        output = model(batch_data)\n",
        "        loss = criterion(output, batch_targets)\n",
        "        loss.backward()\n",
        "        optimizer.step()\n",
        "\n",
        "        total_loss = loss.item()\n",
        "        pred = output.argmax(dim=1)\n",
        "        correct = pred.eq(batch_targets).sum().item()\n",
        "\n",
        "        accuracy = 100. * correct / len(small_batch)\n",
        "\n",
        "        print(f\"Overfit Epoch {epoch+1}/30, Loss: {total_loss:.4f}, Acc: {accuracy:.2f}%\")\n",
        "\n",
        "        if accuracy >= 95.0:\n",
        "            print(\"Enhanced CNN can overfit successfully!\")\n",
        "            break\n",
        "\n",
        "    print(\"Overfitting test completed.\\n\")"
      ],
      "metadata": {
        "id": "5Z-xMyPNMVUb"
      },
      "execution_count": 20,
      "outputs": []
    },
    {
      "cell_type": "code",
      "source": [
        "def compute_loss(loader, model, criterion, device):\n",
        "    model.eval()\n",
        "    total_loss = 0\n",
        "    correct = 0\n",
        "    total = 0\n",
        "\n",
        "    with torch.no_grad():\n",
        "        for data, target in loader:\n",
        "            data, target = data.to(device), target.to(device)\n",
        "            output = model(data)\n",
        "            loss = criterion(output, target)\n",
        "\n",
        "            total_loss += loss.item()\n",
        "            pred = output.argmax(dim=1)\n",
        "            correct += pred.eq(target).sum().item()\n",
        "            total += target.size(0)\n",
        "\n",
        "    return total_loss / len(loader), 100. * correct / total"
      ],
      "metadata": {
        "id": "q5bZEqW4MYao"
      },
      "execution_count": 21,
      "outputs": []
    },
    {
      "cell_type": "code",
      "source": [
        "def train_model(config=None):\n",
        "    with wandb.init(project=\"Facial_Expression_Recognition_9\", config=config):\n",
        "        config = wandb.config\n",
        "\n",
        "        model = EnhancedCNN(dropout_rate=config.dropout_rate, hidden_dim=config.hidden_dim).to(device)\n",
        "        train_loader, val_loader, test_loader = create_dataloaders('train.csv', config.batch_size)\n",
        "\n",
        "        criterion = nn.CrossEntropyLoss()\n",
        "        optimizer = optim.Adam(model.parameters(), lr=config.learning_rate, weight_decay=config.weight_decay)\n",
        "\n",
        "        scheduler = optim.lr_scheduler.ReduceLROnPlateau(optimizer, 'max', patience=3, factor=0.5, verbose=True)\n",
        "\n",
        "        best_val_acc = 0\n",
        "        best_model_path = f\"best_model_{wandb.run.id}.pt\"\n",
        "        patience_counter = 0\n",
        "\n",
        "        wandb.watch(model, log=\"gradients\", log_freq=100)\n",
        "\n",
        "        for epoch in range(config.epochs):\n",
        "            model.train()\n",
        "            train_loss = 0\n",
        "            train_correct = 0\n",
        "            train_total = 0\n",
        "\n",
        "            progress_bar = tqdm(train_loader, desc=f'Epoch {epoch+1}/{config.epochs} [Train]')\n",
        "\n",
        "            for batch_idx, (data, target) in enumerate(progress_bar):\n",
        "                data, target = data.to(device), target.to(device)\n",
        "\n",
        "                optimizer.zero_grad()\n",
        "                output = model(data)\n",
        "                loss = criterion(output, target)\n",
        "                loss.backward()\n",
        "                optimizer.step()\n",
        "\n",
        "                train_loss += loss.item()\n",
        "                pred = output.argmax(dim=1)\n",
        "                train_correct += pred.eq(target).sum().item()\n",
        "                train_total += target.size(0)\n",
        "\n",
        "                if batch_idx % 50 == 0:\n",
        "                    wandb.log({\n",
        "                        \"batch_loss\": loss.item(),\n",
        "                        \"learning_rate\": optimizer.param_groups[0]['lr'],\n",
        "                        \"epoch\": epoch\n",
        "                    })\n",
        "\n",
        "                progress_bar.set_postfix({\n",
        "                    'loss': f'{loss.item():.3f}',\n",
        "                    'acc': f'{100.*train_correct/train_total:.1f}%'\n",
        "                })\n",
        "\n",
        "            train_acc = 100. * train_correct / train_total\n",
        "            train_loss = train_loss / len(train_loader)\n",
        "\n",
        "            val_loss, val_acc = compute_loss(val_loader, model, criterion, device)\n",
        "\n",
        "            scheduler.step(val_acc)\n",
        "\n",
        "            wandb.log({\n",
        "                \"epoch\": epoch,\n",
        "                \"train_loss\": train_loss,\n",
        "                \"train_accuracy\": train_acc,\n",
        "                \"val_loss\": val_loss,\n",
        "                \"val_accuracy\": val_acc,\n",
        "                \"train_val_gap\": train_acc - val_acc\n",
        "            })\n",
        "\n",
        "            print(f\"Epoch {epoch+1}/{config.epochs}, Train Loss: {train_loss:.4f}, Train Acc: {train_acc:.2f}%, Val Loss: {val_loss:.4f}, Val Acc: {val_acc:.2f}%\")\n",
        "\n",
        "            if val_acc > best_val_acc:\n",
        "                best_val_acc = val_acc\n",
        "                patience_counter = 0\n",
        "\n",
        "                torch.save({\n",
        "                    'model_state_dict': model.state_dict(),\n",
        "                    'model_config': {\n",
        "                        'dropout_rate': config.dropout_rate,\n",
        "                        'hidden_dim': config.hidden_dim\n",
        "                    },\n",
        "                    'training_config': dict(config),\n",
        "                    'val_accuracy': val_acc,\n",
        "                    'epoch': epoch\n",
        "                }, best_model_path)\n",
        "\n",
        "                model_artifact = wandb.Artifact(\n",
        "                    name=f\"best_model_{wandb.run.name}\",\n",
        "                    type=\"model\",\n",
        "                    description=f\"Best enhanced CNN model with validation accuracy: {val_acc:.2f}%\"\n",
        "                )\n",
        "                model_artifact.add_file(best_model_path)\n",
        "                wandb.log_artifact(model_artifact)\n",
        "\n",
        "                print(f\"New best model saved with validation accuracy: {val_acc:.2f}%\")\n",
        "            else:\n",
        "                patience_counter += 1\n",
        "\n",
        "            if patience_counter >= config.patience:\n",
        "                print(f\"Early stopping triggered after {epoch+1} epochs\")\n",
        "                break\n",
        "\n",
        "        wandb.log({\"best_val_accuracy\": best_val_acc})\n",
        "        print(f\"Training completed. Best validation accuracy: {best_val_acc:.2f}%\")\n",
        "\n",
        "        return best_val_acc\n"
      ],
      "metadata": {
        "id": "75P1yQ9EMaFK"
      },
      "execution_count": 22,
      "outputs": []
    },
    {
      "cell_type": "code",
      "source": [
        "def evaluate_model_on_testset(model_path, test_loader):\n",
        "    checkpoint = torch.load(model_path, map_location=device)\n",
        "\n",
        "    model_config = checkpoint['model_config']\n",
        "    model = EnhancedCNN(\n",
        "        dropout_rate=model_config['dropout_rate'],\n",
        "        hidden_dim=model_config['hidden_dim']\n",
        "    ).to(device)\n",
        "\n",
        "    model.load_state_dict(checkpoint['model_state_dict'])\n",
        "\n",
        "    criterion = nn.CrossEntropyLoss()\n",
        "    test_loss, test_acc = compute_loss(test_loader, model, criterion, device)\n",
        "\n",
        "    print(f\"Test Accuracy: {test_acc:.2f}%\")\n",
        "    print(f\"Test Loss: {test_loss:.4f}\")\n",
        "\n",
        "    model.eval()\n",
        "    all_preds = []\n",
        "    all_targets = []\n",
        "\n",
        "    with torch.no_grad():\n",
        "        for data, target in test_loader:\n",
        "            data, target = data.to(device), target.to(device)\n",
        "            output = model(data)\n",
        "            pred = output.argmax(dim=1)\n",
        "            all_preds.extend(pred.cpu().numpy())\n",
        "            all_targets.extend(target.cpu().numpy())\n",
        "\n",
        "    emotion_labels = ['Angry', 'Disgust', 'Fear', 'Happy', 'Sad', 'Surprise', 'Neutral']\n",
        "\n",
        "    print(\"\\nClassification Report:\")\n",
        "    print(classification_report(all_targets, all_preds, target_names=emotion_labels))\n",
        "\n",
        "    cm = confusion_matrix(all_targets, all_preds)\n",
        "\n",
        "    plt.figure(figsize=(12, 10))\n",
        "    sns.heatmap(cm, annot=True, fmt='d', cmap='Blues',\n",
        "                xticklabels=emotion_labels, yticklabels=emotion_labels)\n",
        "    plt.title('Confusion Matrix - Facial Expression Recognition (Enhanced CNN)')\n",
        "    plt.ylabel('True Label')\n",
        "    plt.xlabel('Predicted Label')\n",
        "    plt.tight_layout()\n",
        "    plt.show()\n",
        "\n",
        "    return test_acc, all_preds, all_targets\n"
      ],
      "metadata": {
        "id": "5sH_ChInMdhw"
      },
      "execution_count": 23,
      "outputs": []
    },
    {
      "cell_type": "code",
      "source": [
        "best_config = {\n",
        "    'batch_size': 64,\n",
        "    'dropout_rate': 0.35,\n",
        "    'epochs': 40,\n",
        "    'hidden_dim': 256,\n",
        "    'learning_rate': 0.002,\n",
        "    'weight_decay': 0.00018,\n",
        "    'patience': 8\n",
        "}"
      ],
      "metadata": {
        "id": "M8O8ToSWMfh0"
      },
      "execution_count": 24,
      "outputs": []
    },
    {
      "cell_type": "code",
      "source": [
        "test_overfitting()"
      ],
      "metadata": {
        "colab": {
          "base_uri": "https://localhost:8080/"
        },
        "id": "3KQ-EdXbMx95",
        "outputId": "7c8008ad-f0ab-49c4-aac1-74b9f041f08e"
      },
      "execution_count": 25,
      "outputs": [
        {
          "output_type": "stream",
          "name": "stdout",
          "text": [
            "Testing enhanced CNN with ResNet block on small dataset...\n",
            "Overfit Epoch 1/30, Loss: 1.8771, Acc: 25.00%\n",
            "Overfit Epoch 2/30, Loss: 0.7827, Acc: 100.00%\n",
            "Enhanced CNN can overfit successfully!\n",
            "Overfitting test completed.\n",
            "\n"
          ]
        }
      ]
    },
    {
      "cell_type": "code",
      "source": [
        "print(\"Training enhanced CNN with best hyperparameters...\")\n",
        "best_val_acc = train_model(best_config)\n",
        "print(f\"\\nTraining completed with validation accuracy: {best_val_acc:.2f}%\")"
      ],
      "metadata": {
        "colab": {
          "base_uri": "https://localhost:8080/",
          "height": 1000
        },
        "id": "SchAvwfiM5Ub",
        "outputId": "1da9d661-065c-4db9-c06e-1dfcd6063890"
      },
      "execution_count": 26,
      "outputs": [
        {
          "output_type": "stream",
          "name": "stdout",
          "text": [
            "Training enhanced CNN with best hyperparameters...\n"
          ]
        },
        {
          "output_type": "display_data",
          "data": {
            "text/plain": [
              "<IPython.core.display.HTML object>"
            ],
            "text/html": [
              "Tracking run with wandb version 0.19.11"
            ]
          },
          "metadata": {}
        },
        {
          "output_type": "display_data",
          "data": {
            "text/plain": [
              "<IPython.core.display.HTML object>"
            ],
            "text/html": [
              "Run data is saved locally in <code>/content/wandb/run-20250603_060946-d86eh1xs</code>"
            ]
          },
          "metadata": {}
        },
        {
          "output_type": "display_data",
          "data": {
            "text/plain": [
              "<IPython.core.display.HTML object>"
            ],
            "text/html": [
              "Syncing run <strong><a href='https://wandb.ai/konstantine25b-free-university-of-tbilisi-/Facial_Expression_Recognition_9/runs/d86eh1xs' target=\"_blank\">lunar-bird-1</a></strong> to <a href='https://wandb.ai/konstantine25b-free-university-of-tbilisi-/Facial_Expression_Recognition_9' target=\"_blank\">Weights & Biases</a> (<a href='https://wandb.me/developer-guide' target=\"_blank\">docs</a>)<br>"
            ]
          },
          "metadata": {}
        },
        {
          "output_type": "display_data",
          "data": {
            "text/plain": [
              "<IPython.core.display.HTML object>"
            ],
            "text/html": [
              " View project at <a href='https://wandb.ai/konstantine25b-free-university-of-tbilisi-/Facial_Expression_Recognition_9' target=\"_blank\">https://wandb.ai/konstantine25b-free-university-of-tbilisi-/Facial_Expression_Recognition_9</a>"
            ]
          },
          "metadata": {}
        },
        {
          "output_type": "display_data",
          "data": {
            "text/plain": [
              "<IPython.core.display.HTML object>"
            ],
            "text/html": [
              " View run at <a href='https://wandb.ai/konstantine25b-free-university-of-tbilisi-/Facial_Expression_Recognition_9/runs/d86eh1xs' target=\"_blank\">https://wandb.ai/konstantine25b-free-university-of-tbilisi-/Facial_Expression_Recognition_9/runs/d86eh1xs</a>"
            ]
          },
          "metadata": {}
        },
        {
          "output_type": "stream",
          "name": "stderr",
          "text": [
            "Epoch 1/40 [Train]: 100%|██████████| 323/323 [03:03<00:00,  1.76it/s, loss=1.417, acc=35.6%]\n"
          ]
        },
        {
          "output_type": "stream",
          "name": "stdout",
          "text": [
            "Epoch 1/40, Train Loss: 1.6357, Train Acc: 35.63%, Val Loss: 1.4267, Val Acc: 44.67%\n",
            "New best model saved with validation accuracy: 44.67%\n"
          ]
        },
        {
          "output_type": "stream",
          "name": "stderr",
          "text": [
            "Epoch 2/40 [Train]: 100%|██████████| 323/323 [02:44<00:00,  1.96it/s, loss=1.349, acc=46.1%]\n"
          ]
        },
        {
          "output_type": "stream",
          "name": "stdout",
          "text": [
            "Epoch 2/40, Train Loss: 1.4005, Train Acc: 46.07%, Val Loss: 1.2977, Val Acc: 50.40%\n",
            "New best model saved with validation accuracy: 50.40%\n"
          ]
        },
        {
          "output_type": "stream",
          "name": "stderr",
          "text": [
            "Epoch 3/40 [Train]: 100%|██████████| 323/323 [02:44<00:00,  1.96it/s, loss=1.452, acc=49.2%]\n"
          ]
        },
        {
          "output_type": "stream",
          "name": "stdout",
          "text": [
            "Epoch 3/40, Train Loss: 1.3128, Train Acc: 49.18%, Val Loss: 1.2475, Val Acc: 53.38%\n",
            "New best model saved with validation accuracy: 53.38%\n"
          ]
        },
        {
          "output_type": "stream",
          "name": "stderr",
          "text": [
            "Epoch 4/40 [Train]: 100%|██████████| 323/323 [02:46<00:00,  1.93it/s, loss=1.311, acc=51.0%]\n"
          ]
        },
        {
          "output_type": "stream",
          "name": "stdout",
          "text": [
            "Epoch 4/40, Train Loss: 1.2702, Train Acc: 51.05%, Val Loss: 1.2026, Val Acc: 54.42%\n",
            "New best model saved with validation accuracy: 54.42%\n"
          ]
        },
        {
          "output_type": "stream",
          "name": "stderr",
          "text": [
            "Epoch 5/40 [Train]: 100%|██████████| 323/323 [02:46<00:00,  1.94it/s, loss=1.208, acc=52.8%]\n"
          ]
        },
        {
          "output_type": "stream",
          "name": "stdout",
          "text": [
            "Epoch 5/40, Train Loss: 1.2340, Train Acc: 52.76%, Val Loss: 1.1732, Val Acc: 56.80%\n",
            "New best model saved with validation accuracy: 56.80%\n"
          ]
        },
        {
          "output_type": "stream",
          "name": "stderr",
          "text": [
            "Epoch 6/40 [Train]: 100%|██████████| 323/323 [02:47<00:00,  1.93it/s, loss=1.245, acc=54.0%]\n"
          ]
        },
        {
          "output_type": "stream",
          "name": "stdout",
          "text": [
            "Epoch 6/40, Train Loss: 1.2082, Train Acc: 53.96%, Val Loss: 1.2941, Val Acc: 51.79%\n"
          ]
        },
        {
          "output_type": "stream",
          "name": "stderr",
          "text": [
            "Epoch 7/40 [Train]: 100%|██████████| 323/323 [02:45<00:00,  1.95it/s, loss=0.959, acc=54.6%]\n"
          ]
        },
        {
          "output_type": "stream",
          "name": "stdout",
          "text": [
            "Epoch 7/40, Train Loss: 1.1958, Train Acc: 54.61%, Val Loss: 1.1290, Val Acc: 58.20%\n",
            "New best model saved with validation accuracy: 58.20%\n"
          ]
        },
        {
          "output_type": "stream",
          "name": "stderr",
          "text": [
            "Epoch 8/40 [Train]: 100%|██████████| 323/323 [02:48<00:00,  1.92it/s, loss=1.047, acc=55.3%]\n"
          ]
        },
        {
          "output_type": "stream",
          "name": "stdout",
          "text": [
            "Epoch 8/40, Train Loss: 1.1711, Train Acc: 55.32%, Val Loss: 1.1263, Val Acc: 58.16%\n"
          ]
        },
        {
          "output_type": "stream",
          "name": "stderr",
          "text": [
            "Epoch 9/40 [Train]: 100%|██████████| 323/323 [02:47<00:00,  1.93it/s, loss=0.896, acc=55.8%]\n"
          ]
        },
        {
          "output_type": "stream",
          "name": "stdout",
          "text": [
            "Epoch 9/40, Train Loss: 1.1584, Train Acc: 55.80%, Val Loss: 1.1813, Val Acc: 56.18%\n"
          ]
        },
        {
          "output_type": "stream",
          "name": "stderr",
          "text": [
            "Epoch 10/40 [Train]: 100%|██████████| 323/323 [02:46<00:00,  1.94it/s, loss=1.378, acc=56.5%]\n"
          ]
        },
        {
          "output_type": "stream",
          "name": "stdout",
          "text": [
            "Epoch 10/40, Train Loss: 1.1473, Train Acc: 56.53%, Val Loss: 1.1072, Val Acc: 58.82%\n",
            "New best model saved with validation accuracy: 58.82%\n"
          ]
        },
        {
          "output_type": "stream",
          "name": "stderr",
          "text": [
            "Epoch 11/40 [Train]: 100%|██████████| 323/323 [02:43<00:00,  1.98it/s, loss=1.123, acc=56.7%]\n"
          ]
        },
        {
          "output_type": "stream",
          "name": "stdout",
          "text": [
            "Epoch 11/40, Train Loss: 1.1363, Train Acc: 56.72%, Val Loss: 1.0898, Val Acc: 59.45%\n",
            "New best model saved with validation accuracy: 59.45%\n"
          ]
        },
        {
          "output_type": "stream",
          "name": "stderr",
          "text": [
            "Epoch 12/40 [Train]: 100%|██████████| 323/323 [02:44<00:00,  1.96it/s, loss=1.169, acc=57.2%]\n"
          ]
        },
        {
          "output_type": "stream",
          "name": "stdout",
          "text": [
            "Epoch 12/40, Train Loss: 1.1208, Train Acc: 57.16%, Val Loss: 1.0983, Val Acc: 58.56%\n"
          ]
        },
        {
          "output_type": "stream",
          "name": "stderr",
          "text": [
            "Epoch 13/40 [Train]: 100%|██████████| 323/323 [02:45<00:00,  1.95it/s, loss=0.970, acc=57.6%]\n"
          ]
        },
        {
          "output_type": "stream",
          "name": "stdout",
          "text": [
            "Epoch 13/40, Train Loss: 1.1146, Train Acc: 57.61%, Val Loss: 1.1077, Val Acc: 58.18%\n"
          ]
        },
        {
          "output_type": "stream",
          "name": "stderr",
          "text": [
            "Epoch 14/40 [Train]: 100%|██████████| 323/323 [02:42<00:00,  1.98it/s, loss=1.140, acc=57.8%]\n"
          ]
        },
        {
          "output_type": "stream",
          "name": "stdout",
          "text": [
            "Epoch 14/40, Train Loss: 1.1051, Train Acc: 57.76%, Val Loss: 1.0960, Val Acc: 58.41%\n"
          ]
        },
        {
          "output_type": "stream",
          "name": "stderr",
          "text": [
            "Epoch 15/40 [Train]: 100%|██████████| 323/323 [02:46<00:00,  1.94it/s, loss=1.119, acc=58.5%]\n"
          ]
        },
        {
          "output_type": "stream",
          "name": "stdout",
          "text": [
            "Epoch 15/40, Train Loss: 1.0994, Train Acc: 58.50%, Val Loss: 1.0795, Val Acc: 59.90%\n",
            "New best model saved with validation accuracy: 59.90%\n"
          ]
        },
        {
          "output_type": "stream",
          "name": "stderr",
          "text": [
            "Epoch 16/40 [Train]: 100%|██████████| 323/323 [02:47<00:00,  1.93it/s, loss=1.026, acc=58.5%]\n"
          ]
        },
        {
          "output_type": "stream",
          "name": "stdout",
          "text": [
            "Epoch 16/40, Train Loss: 1.0953, Train Acc: 58.46%, Val Loss: 1.0998, Val Acc: 59.34%\n"
          ]
        },
        {
          "output_type": "stream",
          "name": "stderr",
          "text": [
            "Epoch 17/40 [Train]: 100%|██████████| 323/323 [02:52<00:00,  1.87it/s, loss=1.303, acc=59.1%]\n"
          ]
        },
        {
          "output_type": "stream",
          "name": "stdout",
          "text": [
            "Epoch 17/40, Train Loss: 1.0798, Train Acc: 59.07%, Val Loss: 1.0734, Val Acc: 60.44%\n",
            "New best model saved with validation accuracy: 60.44%\n"
          ]
        },
        {
          "output_type": "stream",
          "name": "stderr",
          "text": [
            "Epoch 18/40 [Train]: 100%|██████████| 323/323 [02:45<00:00,  1.95it/s, loss=0.904, acc=59.3%]\n"
          ]
        },
        {
          "output_type": "stream",
          "name": "stdout",
          "text": [
            "Epoch 18/40, Train Loss: 1.0775, Train Acc: 59.30%, Val Loss: 1.0779, Val Acc: 60.36%\n"
          ]
        },
        {
          "output_type": "stream",
          "name": "stderr",
          "text": [
            "Epoch 19/40 [Train]: 100%|██████████| 323/323 [02:47<00:00,  1.93it/s, loss=1.277, acc=59.3%]\n"
          ]
        },
        {
          "output_type": "stream",
          "name": "stdout",
          "text": [
            "Epoch 19/40, Train Loss: 1.0780, Train Acc: 59.25%, Val Loss: 1.0983, Val Acc: 59.01%\n"
          ]
        },
        {
          "output_type": "stream",
          "name": "stderr",
          "text": [
            "Epoch 20/40 [Train]: 100%|██████████| 323/323 [02:47<00:00,  1.92it/s, loss=1.028, acc=59.3%]\n"
          ]
        },
        {
          "output_type": "stream",
          "name": "stdout",
          "text": [
            "Epoch 20/40, Train Loss: 1.0716, Train Acc: 59.30%, Val Loss: 1.1043, Val Acc: 59.80%\n"
          ]
        },
        {
          "output_type": "stream",
          "name": "stderr",
          "text": [
            "Epoch 21/40 [Train]: 100%|██████████| 323/323 [02:45<00:00,  1.95it/s, loss=0.928, acc=60.2%]\n"
          ]
        },
        {
          "output_type": "stream",
          "name": "stdout",
          "text": [
            "Epoch 21/40, Train Loss: 1.0586, Train Acc: 60.16%, Val Loss: 1.1017, Val Acc: 58.04%\n"
          ]
        },
        {
          "output_type": "stream",
          "name": "stderr",
          "text": [
            "Epoch 22/40 [Train]: 100%|██████████| 323/323 [02:44<00:00,  1.96it/s, loss=1.097, acc=62.2%]\n"
          ]
        },
        {
          "output_type": "stream",
          "name": "stdout",
          "text": [
            "Epoch 22/40, Train Loss: 1.0038, Train Acc: 62.16%, Val Loss: 1.0222, Val Acc: 62.47%\n",
            "New best model saved with validation accuracy: 62.47%\n"
          ]
        },
        {
          "output_type": "stream",
          "name": "stderr",
          "text": [
            "Epoch 23/40 [Train]: 100%|██████████| 323/323 [02:46<00:00,  1.93it/s, loss=0.867, acc=63.0%]\n"
          ]
        },
        {
          "output_type": "stream",
          "name": "stdout",
          "text": [
            "Epoch 23/40, Train Loss: 0.9844, Train Acc: 62.99%, Val Loss: 1.0435, Val Acc: 61.58%\n"
          ]
        },
        {
          "output_type": "stream",
          "name": "stderr",
          "text": [
            "Epoch 24/40 [Train]: 100%|██████████| 323/323 [02:47<00:00,  1.93it/s, loss=1.129, acc=63.4%]\n"
          ]
        },
        {
          "output_type": "stream",
          "name": "stdout",
          "text": [
            "Epoch 24/40, Train Loss: 0.9787, Train Acc: 63.44%, Val Loss: 1.0045, Val Acc: 62.34%\n"
          ]
        },
        {
          "output_type": "stream",
          "name": "stderr",
          "text": [
            "Epoch 25/40 [Train]: 100%|██████████| 323/323 [02:45<00:00,  1.95it/s, loss=0.877, acc=63.5%]\n"
          ]
        },
        {
          "output_type": "stream",
          "name": "stdout",
          "text": [
            "Epoch 25/40, Train Loss: 0.9685, Train Acc: 63.54%, Val Loss: 1.0121, Val Acc: 63.21%\n",
            "New best model saved with validation accuracy: 63.21%\n"
          ]
        },
        {
          "output_type": "stream",
          "name": "stderr",
          "text": [
            "Epoch 26/40 [Train]: 100%|██████████| 323/323 [02:48<00:00,  1.92it/s, loss=0.913, acc=64.1%]\n"
          ]
        },
        {
          "output_type": "stream",
          "name": "stdout",
          "text": [
            "Epoch 26/40, Train Loss: 0.9531, Train Acc: 64.06%, Val Loss: 1.0208, Val Acc: 62.76%\n"
          ]
        },
        {
          "output_type": "stream",
          "name": "stderr",
          "text": [
            "Epoch 27/40 [Train]: 100%|██████████| 323/323 [02:48<00:00,  1.91it/s, loss=0.942, acc=63.9%]\n"
          ]
        },
        {
          "output_type": "stream",
          "name": "stdout",
          "text": [
            "Epoch 27/40, Train Loss: 0.9507, Train Acc: 63.93%, Val Loss: 0.9931, Val Acc: 63.69%\n",
            "New best model saved with validation accuracy: 63.69%\n"
          ]
        },
        {
          "output_type": "stream",
          "name": "stderr",
          "text": [
            "Epoch 28/40 [Train]: 100%|██████████| 323/323 [02:50<00:00,  1.89it/s, loss=1.053, acc=64.4%]\n"
          ]
        },
        {
          "output_type": "stream",
          "name": "stdout",
          "text": [
            "Epoch 28/40, Train Loss: 0.9404, Train Acc: 64.39%, Val Loss: 1.0048, Val Acc: 63.73%\n",
            "New best model saved with validation accuracy: 63.73%\n"
          ]
        },
        {
          "output_type": "stream",
          "name": "stderr",
          "text": [
            "Epoch 29/40 [Train]: 100%|██████████| 323/323 [02:59<00:00,  1.80it/s, loss=0.958, acc=64.8%]\n"
          ]
        },
        {
          "output_type": "stream",
          "name": "stdout",
          "text": [
            "Epoch 29/40, Train Loss: 0.9360, Train Acc: 64.81%, Val Loss: 1.0203, Val Acc: 62.67%\n"
          ]
        },
        {
          "output_type": "stream",
          "name": "stderr",
          "text": [
            "Epoch 30/40 [Train]: 100%|██████████| 323/323 [03:09<00:00,  1.70it/s, loss=1.067, acc=65.7%]\n"
          ]
        },
        {
          "output_type": "stream",
          "name": "stdout",
          "text": [
            "Epoch 30/40, Train Loss: 0.9331, Train Acc: 65.71%, Val Loss: 1.0394, Val Acc: 62.86%\n"
          ]
        },
        {
          "output_type": "stream",
          "name": "stderr",
          "text": [
            "Epoch 31/40 [Train]: 100%|██████████| 323/323 [03:24<00:00,  1.58it/s, loss=0.841, acc=65.2%]\n"
          ]
        },
        {
          "output_type": "stream",
          "name": "stdout",
          "text": [
            "Epoch 31/40, Train Loss: 0.9276, Train Acc: 65.20%, Val Loss: 1.0105, Val Acc: 63.73%\n"
          ]
        },
        {
          "output_type": "stream",
          "name": "stderr",
          "text": [
            "Epoch 32/40 [Train]: 100%|██████████| 323/323 [03:49<00:00,  1.41it/s, loss=1.066, acc=65.5%]\n"
          ]
        },
        {
          "output_type": "stream",
          "name": "stdout",
          "text": [
            "Epoch 32/40, Train Loss: 0.9160, Train Acc: 65.51%, Val Loss: 1.0062, Val Acc: 64.10%\n",
            "New best model saved with validation accuracy: 64.10%\n"
          ]
        },
        {
          "output_type": "stream",
          "name": "stderr",
          "text": [
            "Epoch 33/40 [Train]: 100%|██████████| 323/323 [04:22<00:00,  1.23it/s, loss=0.822, acc=65.4%]\n"
          ]
        },
        {
          "output_type": "stream",
          "name": "stdout",
          "text": [
            "Epoch 33/40, Train Loss: 0.9153, Train Acc: 65.40%, Val Loss: 1.0174, Val Acc: 63.73%\n"
          ]
        },
        {
          "output_type": "stream",
          "name": "stderr",
          "text": [
            "Epoch 34/40 [Train]: 100%|██████████| 323/323 [05:02<00:00,  1.07it/s, loss=1.286, acc=65.7%]\n"
          ]
        },
        {
          "output_type": "stream",
          "name": "stdout",
          "text": [
            "Epoch 34/40, Train Loss: 0.9051, Train Acc: 65.73%, Val Loss: 1.0385, Val Acc: 62.76%\n"
          ]
        },
        {
          "output_type": "stream",
          "name": "stderr",
          "text": [
            "Epoch 35/40 [Train]: 100%|██████████| 323/323 [05:56<00:00,  1.10s/it, loss=0.875, acc=66.1%]\n"
          ]
        },
        {
          "output_type": "stream",
          "name": "stdout",
          "text": [
            "Epoch 35/40, Train Loss: 0.9016, Train Acc: 66.07%, Val Loss: 1.0072, Val Acc: 63.40%\n"
          ]
        },
        {
          "output_type": "stream",
          "name": "stderr",
          "text": [
            "Epoch 36/40 [Train]: 100%|██████████| 323/323 [06:51<00:00,  1.27s/it, loss=1.251, acc=66.2%]\n"
          ]
        },
        {
          "output_type": "stream",
          "name": "stdout",
          "text": [
            "Epoch 36/40, Train Loss: 0.9026, Train Acc: 66.15%, Val Loss: 1.0113, Val Acc: 62.98%\n"
          ]
        },
        {
          "output_type": "stream",
          "name": "stderr",
          "text": [
            "Epoch 37/40 [Train]: 100%|██████████| 323/323 [07:30<00:00,  1.39s/it, loss=0.800, acc=68.0%]\n"
          ]
        },
        {
          "output_type": "stream",
          "name": "stdout",
          "text": [
            "Epoch 37/40, Train Loss: 0.8557, Train Acc: 68.03%, Val Loss: 1.0026, Val Acc: 64.41%\n",
            "New best model saved with validation accuracy: 64.41%\n"
          ]
        },
        {
          "output_type": "stream",
          "name": "stderr",
          "text": [
            "Epoch 38/40 [Train]: 100%|██████████| 323/323 [07:53<00:00,  1.47s/it, loss=0.832, acc=68.9%]\n"
          ]
        },
        {
          "output_type": "stream",
          "name": "stdout",
          "text": [
            "Epoch 38/40, Train Loss: 0.8412, Train Acc: 68.93%, Val Loss: 0.9967, Val Acc: 65.20%\n",
            "New best model saved with validation accuracy: 65.20%\n"
          ]
        },
        {
          "output_type": "stream",
          "name": "stderr",
          "text": [
            "Epoch 39/40 [Train]: 100%|██████████| 323/323 [08:14<00:00,  1.53s/it, loss=0.854, acc=69.1%]\n"
          ]
        },
        {
          "output_type": "stream",
          "name": "stdout",
          "text": [
            "Epoch 39/40, Train Loss: 0.8268, Train Acc: 69.05%, Val Loss: 1.0000, Val Acc: 64.91%\n"
          ]
        },
        {
          "output_type": "stream",
          "name": "stderr",
          "text": [
            "Epoch 40/40 [Train]: 100%|██████████| 323/323 [08:35<00:00,  1.60s/it, loss=0.690, acc=69.7%]\n"
          ]
        },
        {
          "output_type": "stream",
          "name": "stdout",
          "text": [
            "Epoch 40/40, Train Loss: 0.8138, Train Acc: 69.70%, Val Loss: 1.0055, Val Acc: 64.45%\n",
            "Training completed. Best validation accuracy: 65.20%\n"
          ]
        },
        {
          "output_type": "display_data",
          "data": {
            "text/plain": [
              "<IPython.core.display.HTML object>"
            ],
            "text/html": []
          },
          "metadata": {}
        },
        {
          "output_type": "display_data",
          "data": {
            "text/plain": [
              "<IPython.core.display.HTML object>"
            ],
            "text/html": [
              "<br>    <style><br>        .wandb-row {<br>            display: flex;<br>            flex-direction: row;<br>            flex-wrap: wrap;<br>            justify-content: flex-start;<br>            width: 100%;<br>        }<br>        .wandb-col {<br>            display: flex;<br>            flex-direction: column;<br>            flex-basis: 100%;<br>            flex: 1;<br>            padding: 10px;<br>        }<br>    </style><br><div class=\"wandb-row\"><div class=\"wandb-col\"><h3>Run history:</h3><br/><table class=\"wandb\"><tr><td>batch_loss</td><td>██▆▅▅▄▅▅▄▄▄▄▅▄▃▅▄▅▄▃▅▄▄▃▅▄▂▃▂▅▃▃▃▃▄▄▄▃▃▁</td></tr><tr><td>best_val_accuracy</td><td>▁</td></tr><tr><td>epoch</td><td>▁▁▁▁▁▂▂▂▂▂▂▃▃▃▃▄▄▄▄▄▄▄▅▅▅▅▅▅▅▆▆▇▇▇▇▇▇▇██</td></tr><tr><td>learning_rate</td><td>████████████████████▃▃▃▃▃▃▃▃▃▃▃▃▃▃▃▃▃▁▁▁</td></tr><tr><td>train_accuracy</td><td>▁▃▄▄▅▅▅▅▅▅▅▅▆▆▆▆▆▆▆▆▆▆▇▇▇▇▇▇▇▇▇▇▇▇▇▇████</td></tr><tr><td>train_loss</td><td>█▆▅▅▅▄▄▄▄▄▄▄▄▃▃▃▃▃▃▃▃▃▂▂▂▂▂▂▂▂▂▂▂▂▂▂▁▁▁▁</td></tr><tr><td>train_val_gap</td><td>▁▃▃▄▃▆▄▄▅▄▄▅▅▅▅▅▅▅▆▅▆▅▆▆▆▆▆▆▆▇▆▆▆▇▇▇▇▇▇█</td></tr><tr><td>val_accuracy</td><td>▁▃▄▄▅▃▆▆▅▆▆▆▆▆▆▆▆▆▆▆▆▇▇▇▇▇▇▇▇▇▇█▇▇▇▇████</td></tr><tr><td>val_loss</td><td>█▆▅▄▄▆▃▃▄▃▃▃▃▃▂▃▂▂▃▃▃▁▂▁▁▁▁▁▁▂▁▁▁▂▁▁▁▁▁▁</td></tr></table><br/></div><div class=\"wandb-col\"><h3>Run summary:</h3><br/><table class=\"wandb\"><tr><td>batch_loss</td><td>0.74919</td></tr><tr><td>best_val_accuracy</td><td>65.20225</td></tr><tr><td>epoch</td><td>39</td></tr><tr><td>learning_rate</td><td>0.0005</td></tr><tr><td>train_accuracy</td><td>69.69521</td></tr><tr><td>train_loss</td><td>0.81384</td></tr><tr><td>train_val_gap</td><td>5.24776</td></tr><tr><td>val_accuracy</td><td>64.44746</td></tr><tr><td>val_loss</td><td>1.00555</td></tr></table><br/></div></div>"
            ]
          },
          "metadata": {}
        },
        {
          "output_type": "display_data",
          "data": {
            "text/plain": [
              "<IPython.core.display.HTML object>"
            ],
            "text/html": [
              " View run <strong style=\"color:#cdcd00\">lunar-bird-1</strong> at: <a href='https://wandb.ai/konstantine25b-free-university-of-tbilisi-/Facial_Expression_Recognition_9/runs/d86eh1xs' target=\"_blank\">https://wandb.ai/konstantine25b-free-university-of-tbilisi-/Facial_Expression_Recognition_9/runs/d86eh1xs</a><br> View project at: <a href='https://wandb.ai/konstantine25b-free-university-of-tbilisi-/Facial_Expression_Recognition_9' target=\"_blank\">https://wandb.ai/konstantine25b-free-university-of-tbilisi-/Facial_Expression_Recognition_9</a><br>Synced 5 W&B file(s), 0 media file(s), 34 artifact file(s) and 0 other file(s)"
            ]
          },
          "metadata": {}
        },
        {
          "output_type": "display_data",
          "data": {
            "text/plain": [
              "<IPython.core.display.HTML object>"
            ],
            "text/html": [
              "Find logs at: <code>./wandb/run-20250603_060946-d86eh1xs/logs</code>"
            ]
          },
          "metadata": {}
        },
        {
          "output_type": "stream",
          "name": "stdout",
          "text": [
            "\n",
            "Training completed with validation accuracy: 65.20%\n"
          ]
        }
      ]
    },
    {
      "cell_type": "code",
      "source": [
        "train_loader, val_loader, test_loader = create_dataloaders('train.csv', best_config['batch_size'])\n"
      ],
      "metadata": {
        "id": "37Gz7CuhOlzH"
      },
      "execution_count": 27,
      "outputs": []
    },
    {
      "cell_type": "code",
      "source": [
        "print(\"\\nEvaluating best model on test set...\")\n",
        "best_model_files = [f for f in os.listdir('.') if f.startswith('best_model_') and f.endswith('.pt')]\n",
        "if best_model_files:\n",
        "    latest_model = max(best_model_files, key=lambda x: os.path.getctime(x))\n",
        "    test_acc, test_preds, test_targets = evaluate_model_on_testset(latest_model, test_loader)\n",
        "\n",
        "    print(f\"\\nFinal Results:\")\n",
        "    print(f\"Best Validation Accuracy: {best_val_acc:.2f}%\")\n",
        "    print(f\"Test Accuracy: {test_acc:.2f}%\")\n",
        "else:\n",
        "    print(\"No model file found!\")"
      ],
      "metadata": {
        "colab": {
          "base_uri": "https://localhost:8080/",
          "height": 1000
        },
        "id": "oY0ZkbtFOxnb",
        "outputId": "33352018-2878-4c25-fc60-860956ad6a1a"
      },
      "execution_count": 28,
      "outputs": [
        {
          "output_type": "stream",
          "name": "stdout",
          "text": [
            "\n",
            "Evaluating best model on test set...\n",
            "Test Accuracy: 65.15%\n",
            "Test Loss: 0.9481\n",
            "\n",
            "Classification Report:\n",
            "              precision    recall  f1-score   support\n",
            "\n",
            "       Angry       0.63      0.53      0.58       434\n",
            "     Disgust       0.64      0.47      0.54        34\n",
            "        Fear       0.47      0.44      0.45       363\n",
            "       Happy       0.83      0.89      0.86       714\n",
            "         Sad       0.52      0.60      0.55       478\n",
            "    Surprise       0.79      0.69      0.74       343\n",
            "     Neutral       0.58      0.61      0.59       506\n",
            "\n",
            "    accuracy                           0.65      2872\n",
            "   macro avg       0.64      0.60      0.62      2872\n",
            "weighted avg       0.65      0.65      0.65      2872\n",
            "\n"
          ]
        },
        {
          "output_type": "display_data",
          "data": {
            "text/plain": [
              "<Figure size 1200x1000 with 2 Axes>"
            ],
            "image/png": "[encoded data removed]"
          },
          "metadata": {}
        },
        {
          "output_type": "stream",
          "name": "stdout",
          "text": [
            "\n",
            "Final Results:\n",
            "Best Validation Accuracy: 65.20%\n",
            "Test Accuracy: 65.15%\n"
          ]
        }
      ]
    },
    {
      "cell_type": "code",
      "source": [
        "import glob"
      ],
      "metadata": {
        "id": "w_5oCKL-_CIm"
      },
      "execution_count": 29,
      "outputs": []
    },
    {
      "cell_type": "code",
      "source": [
        "class FER2013Dataset(Dataset):\n",
        "    def __init__(self, data_source, transform=None, is_test=False):\n",
        "        if isinstance(data_source, str):\n",
        "           self.data = pd.read_csv(data_source)\n",
        "        else:\n",
        "           self.data = data_source\n",
        "        self.transform = transform\n",
        "        self.is_test = is_test\n",
        "\n",
        "    def __len__(self):\n",
        "        return len(self.data)\n",
        "\n",
        "    def __getitem__(self, idx):\n",
        "        pixels = self.data.iloc[idx]['pixels']\n",
        "\n",
        "        # For test data, there might not be an emotion column\n",
        "        if self.is_test or 'emotion' not in self.data.columns:\n",
        "            emotion = -1  # Dummy label for test data\n",
        "        else:\n",
        "            emotion = self.data.iloc[idx]['emotion']\n",
        "\n",
        "        image = np.array([int(pixel) for pixel in pixels.split()]).reshape(48, 48)\n",
        "        image = image.astype(np.float32) / 255.0\n",
        "\n",
        "        if self.transform:\n",
        "            image = self.transform(image)\n",
        "        else:\n",
        "            image = torch.FloatTensor(image).unsqueeze(0)\n",
        "\n",
        "        return image, emotion"
      ],
      "metadata": {
        "id": "yAiFDAyhAgjh"
      },
      "execution_count": 34,
      "outputs": []
    },
    {
      "cell_type": "code",
      "source": [
        "def generate_submission(model_path, test_csv_path, output_file='submission.csv', batch_size=64):\n",
        "    # Load the saved model\n",
        "    checkpoint = torch.load(model_path, map_location=device)\n",
        "\n",
        "    model_config = checkpoint['model_config']\n",
        "    model = EnhancedCNN(\n",
        "        dropout_rate=model_config['dropout_rate'],\n",
        "        hidden_dim=model_config['hidden_dim']\n",
        "    ).to(device)\n",
        "\n",
        "    model.load_state_dict(checkpoint['model_state_dict'])\n",
        "    model.eval()\n",
        "\n",
        "    # Create test transform (no augmentation)\n",
        "    test_transform = transforms.Compose([\n",
        "        transforms.ToPILImage(),\n",
        "        transforms.ToTensor(),\n",
        "        transforms.Normalize((0.5,), (0.5,))\n",
        "    ])\n",
        "\n",
        "    # Load test dataset with is_test=True\n",
        "    test_dataset = FER2013Dataset(test_csv_path, transform=test_transform, is_test=True)\n",
        "    test_loader = DataLoader(test_dataset, batch_size=batch_size, shuffle=False, num_workers=2)\n",
        "\n",
        "    # Make predictions\n",
        "    all_preds = []\n",
        "\n",
        "    with torch.no_grad():\n",
        "        for data, _ in test_loader:\n",
        "            data = data.to(device)\n",
        "            output = model(data)\n",
        "            pred = output.argmax(dim=1)\n",
        "            all_preds.extend(pred.cpu().numpy())\n",
        "\n",
        "    # Create submission DataFrame\n",
        "    submission = pd.DataFrame({\n",
        "        'id': range(len(all_preds)),\n",
        "        'emotion': all_preds\n",
        "    })\n",
        "\n",
        "    # Save to CSV\n",
        "    submission.to_csv(output_file, index=False)\n",
        "    print(f\"Submission saved to {output_file}\")\n",
        "    print(f\"Total predictions: {len(all_preds)}\")\n",
        "\n",
        "    return submission"
      ],
      "metadata": {
        "id": "jktkjv-Z_gnX"
      },
      "execution_count": 35,
      "outputs": []
    },
    {
      "cell_type": "code",
      "source": [
        "# Find your best model file\n",
        "model_files = glob.glob(\"best_model_*.pt\")\n",
        "if model_files:\n",
        "    latest_model = max(model_files, key=lambda x: os.path.getctime(x))\n",
        "    print(f\"Using model: {latest_model}\")\n",
        "\n",
        "    # Generate submission\n",
        "    submission_df = generate_submission(\n",
        "        model_path=latest_model,\n",
        "        test_csv_path='test.csv',\n",
        "        output_file='submission.csv',\n",
        "        batch_size=64\n",
        "    )\n",
        "\n",
        "    print(\"\\nSubmission file created successfully!\")\n",
        "\n",
        "else:\n",
        "    print(\"No trained model found! Make sure you have a best_model_*.pt file.\")"
      ],
      "metadata": {
        "id": "iuJjr5sK_jM-",
        "outputId": "6971c21d-0261-4730-ace0-c71477ddd165",
        "colab": {
          "base_uri": "https://localhost:8080/"
        }
      },
      "execution_count": 36,
      "outputs": [
        {
          "output_type": "stream",
          "name": "stdout",
          "text": [
            "Using model: best_model_d86eh1xs.pt\n",
            "Submission saved to submission.csv\n",
            "Total predictions: 7178\n",
            "\n",
            "Submission file created successfully!\n"
          ]
        }
      ]
    }
  ],
  "metadata": {
    "language_info": {
      "name": "python"
    },
    "colab": {
      "provenance": [],
      "gpuType": "T4"
    },
    "accelerator": "GPU",
    "kernelspec": {
      "name": "python3",
      "display_name": "Python 3"
    }
  },
  "nbformat": 4,
  "nbformat_minor": 0
}