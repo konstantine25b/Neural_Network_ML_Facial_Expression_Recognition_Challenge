{
  "cells": [
    {
      "cell_type": "markdown",
      "source": [
        "# experiment 5"
      ],
      "metadata": {
        "id": "FffzbFUUCQQg"
      }
    },
    {
      "cell_type": "code",
      "execution_count": 1,
      "metadata": {
        "colab": {
          "base_uri": "https://localhost:8080/"
        },
        "id": "ccG07OwcCMSS",
        "outputId": "30c9dfed-cb6f-4530-cd94-3f9120fb11d2"
      },
      "outputs": [
        {
          "output_type": "stream",
          "name": "stdout",
          "text": [
            "Drive already mounted at /content/drive; to attempt to forcibly remount, call drive.mount(\"/content/drive\", force_remount=True).\n"
          ]
        }
      ],
      "source": [
        "!pip install kaggle wandb onnx -Uq\n",
        "from google.colab import drive\n",
        "drive.mount('/content/drive')"
      ]
    },
    {
      "cell_type": "code",
      "source": [
        "! mkdir ~/.kaggle"
      ],
      "metadata": {
        "colab": {
          "base_uri": "https://localhost:8080/"
        },
        "id": "Tsx4D18uCSH_",
        "outputId": "13b020a0-3142-4d66-8313-2e989fd72c27"
      },
      "execution_count": 2,
      "outputs": [
        {
          "output_type": "stream",
          "name": "stdout",
          "text": [
            "mkdir: cannot create directory ‘/root/.kaggle’: File exists\n"
          ]
        }
      ]
    },
    {
      "cell_type": "code",
      "source": [
        "!cp /content/drive/MyDrive/ColabNotebooks/kaggle_API_credentials/kaggle.json ~/.kaggle/kaggle.json"
      ],
      "metadata": {
        "id": "y7QHeLTACWAT"
      },
      "execution_count": 3,
      "outputs": []
    },
    {
      "cell_type": "code",
      "source": [
        "! chmod 600 ~/.kaggle/kaggle.json"
      ],
      "metadata": {
        "id": "snkUzHzFCXxc"
      },
      "execution_count": 4,
      "outputs": []
    },
    {
      "cell_type": "code",
      "source": [
        "!kaggle competitions download -c challenges-in-representation-learning-facial-expression-recognition-challenge"
      ],
      "metadata": {
        "colab": {
          "base_uri": "https://localhost:8080/"
        },
        "id": "UtZRNmB4CYAS",
        "outputId": "2de2038c-cb0e-4928-a1c6-656582d90830"
      },
      "execution_count": 5,
      "outputs": [
        {
          "output_type": "stream",
          "name": "stdout",
          "text": [
            "challenges-in-representation-learning-facial-expression-recognition-challenge.zip: Skipping, found more recently modified local copy (use --force to force download)\n"
          ]
        }
      ]
    },
    {
      "cell_type": "code",
      "source": [
        "! unzip challenges-in-representation-learning-facial-expression-recognition-challenge.zip"
      ],
      "metadata": {
        "colab": {
          "base_uri": "https://localhost:8080/"
        },
        "id": "Bem7kRlrCYPM",
        "outputId": "2f7f8429-f8d0-4d3a-9015-21e00e5c8dfc"
      },
      "execution_count": 6,
      "outputs": [
        {
          "output_type": "stream",
          "name": "stdout",
          "text": [
            "Archive:  challenges-in-representation-learning-facial-expression-recognition-challenge.zip\n",
            "replace example_submission.csv? [y]es, [n]o, [A]ll, [N]one, [r]ename: y\n",
            "  inflating: example_submission.csv  \n",
            "replace fer2013.tar.gz? [y]es, [n]o, [A]ll, [N]one, [r]ename: y\n",
            "  inflating: fer2013.tar.gz          \n",
            "replace icml_face_data.csv? [y]es, [n]o, [A]ll, [N]one, [r]ename: y\n",
            "  inflating: icml_face_data.csv      y\n",
            "y\n",
            "\n",
            "replace test.csv? [y]es, [n]o, [A]ll, [N]one, [r]ename:   inflating: test.csv                \n",
            "replace train.csv? [y]es, [n]o, [A]ll, [N]one, [r]ename:   inflating: train.csv               y\n",
            "\n"
          ]
        }
      ]
    },
    {
      "cell_type": "code",
      "source": [
        "!pip install wandb onnx -Uq"
      ],
      "metadata": {
        "id": "hcYoTu9aCcID"
      },
      "execution_count": 7,
      "outputs": []
    },
    {
      "cell_type": "markdown",
      "source": [
        "# data staff"
      ],
      "metadata": {
        "id": "q2KuXVkSCdXO"
      }
    },
    {
      "cell_type": "code",
      "source": [
        "import torch\n",
        "import torch.nn as nn\n",
        "import torch.optim as optim\n",
        "import torch.nn.functional as F\n",
        "from torch.utils.data import Dataset, DataLoader, random_split\n",
        "import torchvision.transforms as transforms\n",
        "import pandas as pd\n",
        "import numpy as np\n",
        "import matplotlib.pyplot as plt\n",
        "import seaborn as sns\n",
        "from sklearn.metrics import classification_report, confusion_matrix\n",
        "import wandb\n",
        "from tqdm import tqdm\n",
        "import warnings\n",
        "warnings.filterwarnings('ignore')"
      ],
      "metadata": {
        "id": "yz2_rKAsCejN"
      },
      "execution_count": 8,
      "outputs": []
    },
    {
      "cell_type": "code",
      "source": [
        "device = torch.device('cuda' if torch.cuda.is_available() else 'cpu')\n",
        "print(f\"Using device: {device}\")"
      ],
      "metadata": {
        "colab": {
          "base_uri": "https://localhost:8080/"
        },
        "id": "8HGTeUlcChDj",
        "outputId": "5051554c-4843-4b71-fcfa-c67a26eb9518"
      },
      "execution_count": 9,
      "outputs": [
        {
          "output_type": "stream",
          "name": "stdout",
          "text": [
            "Using device: cuda\n"
          ]
        }
      ]
    },
    {
      "cell_type": "code",
      "source": [
        "wandb.login()"
      ],
      "metadata": {
        "colab": {
          "base_uri": "https://localhost:8080/"
        },
        "id": "xuLD5ZurCioG",
        "outputId": "c137d8bd-3c8d-4a84-b8ef-1b2ed0dbed6c"
      },
      "execution_count": 11,
      "outputs": [
        {
          "output_type": "execute_result",
          "data": {
            "text/plain": [
              "True"
            ]
          },
          "metadata": {},
          "execution_count": 11
        }
      ]
    },
    {
      "cell_type": "code",
      "source": [
        "class FER2013Dataset(Dataset):\n",
        "    def __init__(self, csv_file, transform=None):\n",
        "        self.data = pd.read_csv(csv_file)\n",
        "        self.transform = transform\n",
        "\n",
        "    def __len__(self):\n",
        "        return len(self.data)\n",
        "\n",
        "    def __getitem__(self, idx):\n",
        "        pixels = self.data.iloc[idx]['pixels']\n",
        "        emotion = self.data.iloc[idx]['emotion']\n",
        "\n",
        "        image = np.array([int(pixel) for pixel in pixels.split()]).reshape(48, 48)\n",
        "        image = image.astype(np.float32) / 255.0\n",
        "\n",
        "        if self.transform:\n",
        "            image = self.transform(image)\n",
        "        else:\n",
        "            image = torch.FloatTensor(image).unsqueeze(0)\n",
        "\n",
        "        return image, emotion"
      ],
      "metadata": {
        "id": "sYP8mE7iCrHk"
      },
      "execution_count": 12,
      "outputs": []
    },
    {
      "cell_type": "code",
      "source": [
        "def get_transforms():\n",
        "    train_transform = transforms.Compose([\n",
        "        transforms.ToPILImage(),\n",
        "        transforms.RandomHorizontalFlip(p=0.5),\n",
        "        transforms.RandomRotation(20),\n",
        "        transforms.ColorJitter(brightness=0.5, contrast=0.5, saturation=0.3, hue=0.15),\n",
        "        transforms.RandomAffine(degrees=0, scale=(0.6, 1.4)),\n",
        "        transforms.RandomErasing(p=0.4, scale=(0.02, 0.2)),\n",
        "        transforms.GaussianBlur(kernel_size=3, sigma=(0.1, 2.0)),\n",
        "        transforms.ToTensor(),\n",
        "        transforms.Normalize((0.5,), (0.5,))\n",
        "    ])\n",
        "\n",
        "    val_test_transform = transforms.Compose([\n",
        "        transforms.ToPILImage(),\n",
        "        transforms.ToTensor(),\n",
        "        transforms.Normalize((0.5,), (0.5,))\n",
        "    ])\n",
        "\n",
        "    return train_transform, val_test_transform"
      ],
      "metadata": {
        "id": "Nds053DrC3bX"
      },
      "execution_count": 13,
      "outputs": []
    },
    {
      "cell_type": "code",
      "source": [
        "def create_train_val_loaders(csv_file, batch_size=64, train_split=0.8):\n",
        "    train_transform, val_transform = get_transforms()\n",
        "\n",
        "    full_dataset = FER2013Dataset(csv_file, transform=None)\n",
        "\n",
        "    train_size = int(train_split * len(full_dataset))\n",
        "    val_size = len(full_dataset) - train_size\n",
        "\n",
        "    train_dataset, val_dataset = random_split(\n",
        "        full_dataset, [train_size, val_size],\n",
        "        generator=torch.Generator().manual_seed(42)\n",
        "    )\n",
        "\n",
        "    train_dataset.dataset.transform = train_transform\n",
        "    val_dataset.dataset.transform = val_transform\n",
        "\n",
        "    train_loader = DataLoader(train_dataset, batch_size=batch_size, shuffle=True, num_workers=2)\n",
        "    val_loader = DataLoader(val_dataset, batch_size=batch_size, shuffle=False, num_workers=2)\n",
        "\n",
        "    return train_loader, val_loader"
      ],
      "metadata": {
        "id": "7rnv-6LrC8Nq"
      },
      "execution_count": 14,
      "outputs": []
    },
    {
      "cell_type": "code",
      "source": [
        "def create_test_loader(csv_file, batch_size=64):\n",
        "    _, test_transform = get_transforms()\n",
        "\n",
        "    test_dataset = FER2013Dataset(csv_file, transform=test_transform)\n",
        "    test_loader = DataLoader(test_dataset, batch_size=batch_size, shuffle=False, num_workers=2)\n",
        "\n",
        "    return test_loader"
      ],
      "metadata": {
        "id": "_5IKRNc2C84v"
      },
      "execution_count": 15,
      "outputs": []
    },
    {
      "cell_type": "code",
      "source": [
        "class ResidualBlock(nn.Module):\n",
        "    def __init__(self, in_channels, out_channels, stride=1, downsample=None):\n",
        "        super(ResidualBlock, self).__init__()\n",
        "        self.conv1 = nn.Conv2d(in_channels, out_channels, kernel_size=3, stride=stride, padding=1, bias=False)\n",
        "        self.bn1 = nn.BatchNorm2d(out_channels)\n",
        "        self.conv2 = nn.Conv2d(out_channels, out_channels, kernel_size=3, stride=1, padding=1, bias=False)\n",
        "        self.bn2 = nn.BatchNorm2d(out_channels)\n",
        "        self.downsample = downsample\n",
        "        self.dropout = nn.Dropout2d(0.15)\n",
        "\n",
        "    def forward(self, x):\n",
        "        identity = x\n",
        "\n",
        "        out = F.relu(self.bn1(self.conv1(x)))\n",
        "        out = self.dropout(out)\n",
        "        out = self.bn2(self.conv2(out))\n",
        "\n",
        "        if self.downsample is not None:\n",
        "            identity = self.downsample(x)\n",
        "\n",
        "        out += identity\n",
        "        out = F.relu(out)\n",
        "\n",
        "        return out"
      ],
      "metadata": {
        "id": "GmVk6UavDFIa"
      },
      "execution_count": 16,
      "outputs": []
    },
    {
      "cell_type": "code",
      "source": [
        "class ImprovedFacialExpressionResNet(nn.Module):\n",
        "    def __init__(self, num_classes=7, dropout_rate=0.6):\n",
        "        super(ImprovedFacialExpressionResNet, self).__init__()\n",
        "\n",
        "        self.conv1 = nn.Conv2d(1, 32, kernel_size=7, stride=2, padding=3, bias=False)\n",
        "        self.bn1 = nn.BatchNorm2d(32)\n",
        "        self.maxpool = nn.MaxPool2d(kernel_size=3, stride=2, padding=1)\n",
        "\n",
        "        self.layer1 = self._make_layer(32, 64, 2, stride=1)\n",
        "        self.layer2 = self._make_layer(64, 128, 2, stride=2)\n",
        "        self.layer3 = self._make_layer(128, 256, 2, stride=2)\n",
        "\n",
        "        self.avgpool = nn.AdaptiveAvgPool2d((1, 1))\n",
        "        self.dropout1 = nn.Dropout(dropout_rate)\n",
        "        self.fc1 = nn.Linear(256, 128)\n",
        "        self.dropout2 = nn.Dropout(dropout_rate * 0.5)\n",
        "        self.fc2 = nn.Linear(128, num_classes)\n",
        "\n",
        "        self._initialize_weights()\n",
        "\n",
        "    def _make_layer(self, in_channels, out_channels, blocks, stride=1):\n",
        "        downsample = None\n",
        "        if stride != 1 or in_channels != out_channels:\n",
        "            downsample = nn.Sequential(\n",
        "                nn.Conv2d(in_channels, out_channels, kernel_size=1, stride=stride, padding=0, bias=False),\n",
        "                nn.BatchNorm2d(out_channels)\n",
        "            )\n",
        "\n",
        "        layers = []\n",
        "        layers.append(ResidualBlock(in_channels, out_channels, stride, downsample))\n",
        "\n",
        "        for _ in range(1, blocks):\n",
        "            layers.append(ResidualBlock(out_channels, out_channels))\n",
        "\n",
        "        return nn.Sequential(*layers)\n",
        "\n",
        "    def _initialize_weights(self):\n",
        "        for m in self.modules():\n",
        "            if isinstance(m, nn.Conv2d):\n",
        "                nn.init.kaiming_normal_(m.weight, mode='fan_out', nonlinearity='relu')\n",
        "            elif isinstance(m, nn.BatchNorm2d):\n",
        "                nn.init.constant_(m.weight, 1)\n",
        "                nn.init.constant_(m.bias, 0)\n",
        "            elif isinstance(m, nn.Linear):\n",
        "                nn.init.normal_(m.weight, 0, 0.01)\n",
        "                nn.init.constant_(m.bias, 0)\n",
        "\n",
        "    def forward(self, x):\n",
        "        x = F.relu(self.bn1(self.conv1(x)))\n",
        "        x = self.maxpool(x)\n",
        "\n",
        "        x = self.layer1(x)\n",
        "        x = self.layer2(x)\n",
        "        x = self.layer3(x)\n",
        "\n",
        "        x = self.avgpool(x)\n",
        "        x = torch.flatten(x, 1)\n",
        "        x = self.dropout1(x)\n",
        "        x = F.relu(self.fc1(x))\n",
        "        x = self.dropout2(x)\n",
        "        x = self.fc2(x)\n",
        "\n",
        "        return x\n"
      ],
      "metadata": {
        "id": "JAVq3a4sDHmz"
      },
      "execution_count": 17,
      "outputs": []
    },
    {
      "cell_type": "code",
      "source": [
        "def test_overfitting():\n",
        "    print(\"Testing improved model architecture with overfitting on small dataset...\")\n",
        "\n",
        "    model = ImprovedFacialExpressionResNet(dropout_rate=0.3).to(device)\n",
        "    criterion = nn.CrossEntropyLoss()\n",
        "    optimizer = optim.Adam(model.parameters(), lr=0.001)\n",
        "\n",
        "    train_loader, _ = create_train_val_loaders('train.csv', batch_size=32)\n",
        "\n",
        "    small_batch = []\n",
        "    for i, (data, target) in enumerate(train_loader):\n",
        "        small_batch.extend(list(zip(data, target)))\n",
        "        if len(small_batch) >= 20:\n",
        "            break\n",
        "\n",
        "    small_batch = small_batch[:20]\n",
        "\n",
        "    for epoch in range(50):\n",
        "        model.train()\n",
        "        total_loss = 0\n",
        "        correct = 0\n",
        "\n",
        "        for data, target in small_batch:\n",
        "            data, target = data.unsqueeze(0).to(device), torch.tensor([target]).to(device)\n",
        "\n",
        "            optimizer.zero_grad()\n",
        "            output = model(data)\n",
        "            loss = criterion(output, target)\n",
        "            loss.backward()\n",
        "            optimizer.step()\n",
        "\n",
        "            total_loss += loss.item()\n",
        "            pred = output.argmax(dim=1)\n",
        "            correct += pred.eq(target).sum().item()\n",
        "\n",
        "        accuracy = 100. * correct / len(small_batch)\n",
        "        avg_loss = total_loss / len(small_batch)\n",
        "\n",
        "        print(f\"Overfit Epoch {epoch+1}/30, Loss: {avg_loss:.4f}, Acc: {accuracy:.2f}%\")\n",
        "\n",
        "        if accuracy >= 95.0:\n",
        "            print(\"Improved model can overfit successfully!\")\n",
        "            break\n",
        "\n",
        "    print(\"Overfitting test completed.\\n\")\n"
      ],
      "metadata": {
        "id": "VnatJ3o1DKHc"
      },
      "execution_count": 29,
      "outputs": []
    },
    {
      "cell_type": "code",
      "source": [
        "def compute_loss(loader, model, criterion, device):\n",
        "    model.eval()\n",
        "    total_loss = 0\n",
        "    correct = 0\n",
        "    total = 0\n",
        "\n",
        "    with torch.no_grad():\n",
        "        for data, target in loader:\n",
        "            data, target = data.to(device), target.to(device)\n",
        "            output = model(data)\n",
        "            loss = criterion(output, target)\n",
        "\n",
        "            total_loss += loss.item()\n",
        "            pred = output.argmax(dim=1)\n",
        "            correct += pred.eq(target).sum().item()\n",
        "            total += target.size(0)\n",
        "\n",
        "    return total_loss / len(loader), 100. * correct / total\n"
      ],
      "metadata": {
        "id": "3KETbaVuDOFl"
      },
      "execution_count": 19,
      "outputs": []
    },
    {
      "cell_type": "code",
      "source": [
        "def train_model(config=None):\n",
        "    with wandb.init(project=\"Facial_Expression_Recognition_5\", config=config):\n",
        "        config = wandb.config\n",
        "\n",
        "        model = ImprovedFacialExpressionResNet(dropout_rate=config.dropout_rate).to(device)\n",
        "        train_loader, val_loader = create_train_val_loaders('train.csv', config.batch_size)\n",
        "\n",
        "        criterion = nn.CrossEntropyLoss(label_smoothing=config.label_smoothing)\n",
        "        optimizer = optim.AdamW(model.parameters(), lr=config.learning_rate, weight_decay=config.weight_decay)\n",
        "\n",
        "        scheduler = optim.lr_scheduler.CosineAnnealingWarmRestarts(\n",
        "            optimizer,\n",
        "            T_0=len(train_loader) * 5,\n",
        "            T_mult=1,\n",
        "            eta_min=config.learning_rate * 0.01\n",
        "        )\n",
        "\n",
        "        best_val_acc = 0\n",
        "        patience_counter = 0\n",
        "\n",
        "        wandb.watch(model, log=\"gradients\", log_freq=100)\n",
        "\n",
        "        for epoch in range(config.epochs):\n",
        "            model.train()\n",
        "            train_loss = 0\n",
        "            train_correct = 0\n",
        "            train_total = 0\n",
        "\n",
        "            progress_bar = tqdm(train_loader, desc=f'Epoch {epoch+1}/{config.epochs} [Train]')\n",
        "\n",
        "            for batch_idx, (data, target) in enumerate(progress_bar):\n",
        "                data, target = data.to(device), target.to(device)\n",
        "\n",
        "                optimizer.zero_grad()\n",
        "                output = model(data)\n",
        "                loss = criterion(output, target)\n",
        "                loss.backward()\n",
        "\n",
        "                torch.nn.utils.clip_grad_norm_(model.parameters(), max_norm=0.5)\n",
        "\n",
        "                optimizer.step()\n",
        "                scheduler.step()\n",
        "\n",
        "                train_loss += loss.item()\n",
        "                pred = output.argmax(dim=1)\n",
        "                train_correct += pred.eq(target).sum().item()\n",
        "                train_total += target.size(0)\n",
        "\n",
        "                if batch_idx % 50 == 0:\n",
        "                    current_lr = scheduler.get_last_lr()[0]\n",
        "                    wandb.log({\n",
        "                        \"batch_loss\": loss.item(),\n",
        "                        \"learning_rate\": current_lr,\n",
        "                        \"epoch\": epoch\n",
        "                    })\n",
        "\n",
        "                progress_bar.set_postfix({\n",
        "                    'loss': f'{loss.item():.3f}',\n",
        "                    'acc': f'{100.*train_correct/train_total:.1f}%'\n",
        "                })\n",
        "\n",
        "            train_acc = 100. * train_correct / train_total\n",
        "            train_loss = train_loss / len(train_loader)\n",
        "\n",
        "            val_loss, val_acc = compute_loss(val_loader, model, criterion, device)\n",
        "\n",
        "            wandb.log({\n",
        "                \"epoch\": epoch,\n",
        "                \"train_loss\": train_loss,\n",
        "                \"train_accuracy\": train_acc,\n",
        "                \"val_loss\": val_loss,\n",
        "                \"val_accuracy\": val_acc,\n",
        "                \"train_val_gap\": train_acc - val_acc\n",
        "            })\n",
        "\n",
        "            print(f\"Epoch {epoch+1}/{config.epochs}, Train Loss: {train_loss:.4f}, Train Acc: {train_acc:.2f}%, Val Loss: {val_loss:.4f}, Val Acc: {val_acc:.2f}%, Gap: {train_acc-val_acc:.2f}%\")\n",
        "\n",
        "            if val_acc > best_val_acc:\n",
        "                best_val_acc = val_acc\n",
        "                patience_counter = 0\n",
        "\n",
        "                model_artifact = wandb.Artifact(\n",
        "                    name=f\"best_model_{wandb.run.name}\",\n",
        "                    type=\"model\",\n",
        "                    description=f\"Best improved ResNet model with validation accuracy: {val_acc:.2f}%\"\n",
        "                )\n",
        "\n",
        "                model_save_dict = {\n",
        "                    'model_state_dict': model.state_dict(),\n",
        "                    'model_config': {\n",
        "                        'num_classes': 7,\n",
        "                        'dropout_rate': config.dropout_rate\n",
        "                    },\n",
        "                    'training_config': dict(config),\n",
        "                    'val_accuracy': val_acc,\n",
        "                    'epoch': epoch,\n",
        "                    'model_architecture': 'ImprovedFacialExpressionResNet'\n",
        "                }\n",
        "\n",
        "                torch.save(model_save_dict, \"best_model.pth\")\n",
        "\n",
        "                model_artifact.add_file(\"best_model.pth\")\n",
        "                wandb.log_artifact(model_artifact)\n",
        "\n",
        "                print(f\"New best model saved with validation accuracy: {val_acc:.2f}%\")\n",
        "            else:\n",
        "                patience_counter += 1\n",
        "\n",
        "            if patience_counter >= config.patience:\n",
        "                print(f\"Early stopping triggered after {epoch+1} epochs\")\n",
        "                break\n",
        "\n",
        "        wandb.log({\n",
        "            \"best_val_accuracy\": best_val_acc\n",
        "        })\n",
        "\n",
        "        print(f\"Training completed. Best validation accuracy: {best_val_acc:.2f}%\")\n",
        "\n",
        "        return best_val_acc\n"
      ],
      "metadata": {
        "id": "3lCTZP4wDRSb"
      },
      "execution_count": 20,
      "outputs": []
    },
    {
      "cell_type": "code",
      "source": [
        "def evaluate_model_on_testset(model_artifact_path, test_csv_file, batch_size=64):\n",
        "    checkpoint = torch.load(model_artifact_path, map_location=device)\n",
        "\n",
        "    model_config = checkpoint['model_config']\n",
        "    model = ImprovedFacialExpressionResNet(\n",
        "        num_classes=model_config['num_classes'],\n",
        "        dropout_rate=model_config['dropout_rate']\n",
        "    ).to(device)\n",
        "\n",
        "    model.load_state_dict(checkpoint['model_state_dict'])\n",
        "\n",
        "    test_loader = create_test_loader(test_csv_file, batch_size)\n",
        "\n",
        "    criterion = nn.CrossEntropyLoss()\n",
        "    test_loss, test_acc = compute_loss(test_loader, model, criterion, device)\n",
        "\n",
        "    print(f\"Test Accuracy: {test_acc:.2f}%\")\n",
        "    print(f\"Test Loss: {test_loss:.4f}\")\n",
        "\n",
        "    model.eval()\n",
        "    all_preds = []\n",
        "    all_targets = []\n",
        "\n",
        "    with torch.no_grad():\n",
        "        for data, target in test_loader:\n",
        "            data, target = data.to(device), target.to(device)\n",
        "            output = model(data)\n",
        "            pred = output.argmax(dim=1)\n",
        "            all_preds.extend(pred.cpu().numpy())\n",
        "            all_targets.extend(target.cpu().numpy())\n",
        "\n",
        "    emotion_labels = ['Angry', 'Disgust', 'Fear', 'Happy', 'Sad', 'Surprise', 'Neutral']\n",
        "\n",
        "    print(\"\\nClassification Report:\")\n",
        "    print(classification_report(all_targets, all_preds, target_names=emotion_labels))\n",
        "\n",
        "    cm = confusion_matrix(all_targets, all_preds)\n",
        "\n",
        "    plt.figure(figsize=(12, 10))\n",
        "    sns.heatmap(cm, annot=True, fmt='d', cmap='Blues',\n",
        "                xticklabels=emotion_labels, yticklabels=emotion_labels)\n",
        "    plt.title('Confusion Matrix - Facial Expression Recognition (Improved ResNet)')\n",
        "    plt.ylabel('True Label')\n",
        "    plt.xlabel('Predicted Label')\n",
        "    plt.tight_layout()\n",
        "    plt.show()\n",
        "\n",
        "    return test_acc, all_preds, all_targets\n"
      ],
      "metadata": {
        "id": "jEJhcbeLDWNW"
      },
      "execution_count": 21,
      "outputs": []
    },
    {
      "cell_type": "code",
      "source": [
        "sweep_config = {\n",
        "    'method': 'bayes',\n",
        "    'metric': {\n",
        "        'name': 'best_val_accuracy',\n",
        "        'goal': 'maximize'\n",
        "    },\n",
        "    'parameters': {\n",
        "        'learning_rate': {\n",
        "            'distribution': 'log_uniform_values',\n",
        "            'min': 0.00005,\n",
        "            'max': 0.005\n",
        "        },\n",
        "        'batch_size': {\n",
        "            'values': [32, 64]\n",
        "        },\n",
        "        'dropout_rate': {\n",
        "            'distribution': 'uniform',\n",
        "            'min': 0.4,\n",
        "            'max': 0.7\n",
        "        },\n",
        "        'weight_decay': {\n",
        "            'distribution': 'log_uniform_values',\n",
        "            'min': 1e-4,\n",
        "            'max': 1e-2\n",
        "        },\n",
        "        'label_smoothing': {\n",
        "            'distribution': 'uniform',\n",
        "            'min': 0.1,\n",
        "            'max': 0.3\n",
        "        },\n",
        "        'epochs': {\n",
        "            'value': 30\n",
        "        },\n",
        "        'patience': {\n",
        "            'value': 8\n",
        "        }\n",
        "    }\n",
        "}"
      ],
      "metadata": {
        "id": "d_TCT1eDDcIW"
      },
      "execution_count": 31,
      "outputs": []
    },
    {
      "cell_type": "code",
      "source": [
        "test_overfitting()"
      ],
      "metadata": {
        "colab": {
          "base_uri": "https://localhost:8080/"
        },
        "id": "nOFKC3LODe7w",
        "outputId": "3819f7df-6b95-4659-e8b1-5e6817734b58"
      },
      "execution_count": 32,
      "outputs": [
        {
          "output_type": "stream",
          "name": "stdout",
          "text": [
            "Testing improved model architecture with overfitting on small dataset...\n",
            "Overfit Epoch 1/30, Loss: 1.9576, Acc: 25.00%\n",
            "Overfit Epoch 2/30, Loss: 1.8440, Acc: 30.00%\n",
            "Overfit Epoch 3/30, Loss: 1.7916, Acc: 30.00%\n",
            "Overfit Epoch 4/30, Loss: 1.7272, Acc: 30.00%\n",
            "Overfit Epoch 5/30, Loss: 1.6530, Acc: 30.00%\n",
            "Overfit Epoch 6/30, Loss: 1.5868, Acc: 30.00%\n",
            "Overfit Epoch 7/30, Loss: 1.5151, Acc: 30.00%\n",
            "Overfit Epoch 8/30, Loss: 1.4373, Acc: 30.00%\n",
            "Overfit Epoch 9/30, Loss: 1.3532, Acc: 35.00%\n",
            "Overfit Epoch 10/30, Loss: 1.2424, Acc: 35.00%\n",
            "Overfit Epoch 11/30, Loss: 1.1876, Acc: 35.00%\n",
            "Overfit Epoch 12/30, Loss: 1.1600, Acc: 50.00%\n",
            "Overfit Epoch 13/30, Loss: 1.0732, Acc: 50.00%\n",
            "Overfit Epoch 14/30, Loss: 1.0140, Acc: 50.00%\n",
            "Overfit Epoch 15/30, Loss: 0.9429, Acc: 55.00%\n",
            "Overfit Epoch 16/30, Loss: 0.9485, Acc: 55.00%\n",
            "Overfit Epoch 17/30, Loss: 0.8998, Acc: 45.00%\n",
            "Overfit Epoch 18/30, Loss: 0.8409, Acc: 65.00%\n",
            "Overfit Epoch 19/30, Loss: 0.8472, Acc: 60.00%\n",
            "Overfit Epoch 20/30, Loss: 0.8300, Acc: 50.00%\n",
            "Overfit Epoch 21/30, Loss: 0.7963, Acc: 60.00%\n",
            "Overfit Epoch 22/30, Loss: 0.8238, Acc: 55.00%\n",
            "Overfit Epoch 23/30, Loss: 0.7820, Acc: 55.00%\n",
            "Overfit Epoch 24/30, Loss: 0.7706, Acc: 70.00%\n",
            "Overfit Epoch 25/30, Loss: 0.7618, Acc: 65.00%\n",
            "Overfit Epoch 26/30, Loss: 0.7844, Acc: 65.00%\n",
            "Overfit Epoch 27/30, Loss: 0.7124, Acc: 70.00%\n",
            "Overfit Epoch 28/30, Loss: 0.8043, Acc: 75.00%\n",
            "Overfit Epoch 29/30, Loss: 1.5795, Acc: 55.00%\n",
            "Overfit Epoch 30/30, Loss: 2.6381, Acc: 15.00%\n",
            "Overfit Epoch 31/30, Loss: 1.3766, Acc: 55.00%\n",
            "Overfit Epoch 32/30, Loss: 0.9712, Acc: 55.00%\n",
            "Overfit Epoch 33/30, Loss: 0.8444, Acc: 60.00%\n",
            "Overfit Epoch 34/30, Loss: 0.8245, Acc: 70.00%\n",
            "Overfit Epoch 35/30, Loss: 0.8135, Acc: 65.00%\n",
            "Overfit Epoch 36/30, Loss: 0.6192, Acc: 80.00%\n",
            "Overfit Epoch 37/30, Loss: 0.6333, Acc: 75.00%\n",
            "Overfit Epoch 38/30, Loss: 0.6045, Acc: 80.00%\n",
            "Overfit Epoch 39/30, Loss: 0.4771, Acc: 95.00%\n",
            "Improved model can overfit successfully!\n",
            "Overfitting test completed.\n",
            "\n"
          ]
        }
      ]
    },
    {
      "cell_type": "code",
      "source": [
        "sweep_id = wandb.sweep(sweep_config, project=\"Facial_Expression_Recognition_5\")"
      ],
      "metadata": {
        "colab": {
          "base_uri": "https://localhost:8080/"
        },
        "id": "t8Vz6uajDg-z",
        "outputId": "2326f4b3-b049-4d08-92d5-dd4717ef8296"
      },
      "execution_count": 33,
      "outputs": [
        {
          "output_type": "stream",
          "name": "stdout",
          "text": [
            "Create sweep with ID: als3wxaz\n",
            "Sweep URL: https://wandb.ai/konstantine25b-free-university-of-tbilisi-/Facial_Expression_Recognition_5/sweeps/als3wxaz\n"
          ]
        }
      ]
    },
    {
      "cell_type": "code",
      "source": [
        "print(\"Running improved hyperparameter sweep with anti-overfitting ResNet...\")\n",
        "wandb.agent(sweep_id, train_model, count=3)"
      ],
      "metadata": {
        "colab": {
          "base_uri": "https://localhost:8080/",
          "height": 1000
        },
        "id": "mNLyUDJQEEgA",
        "outputId": "a5cb38a5-6bbc-48ee-b7af-479c6923d776"
      },
      "execution_count": 34,
      "outputs": [
        {
          "output_type": "stream",
          "name": "stdout",
          "text": [
            "Running improved hyperparameter sweep with anti-overfitting ResNet...\n"
          ]
        },
        {
          "output_type": "stream",
          "name": "stderr",
          "text": [
            "\u001b[34m\u001b[1mwandb\u001b[0m: Agent Starting Run: 1bdep6nf with config:\n",
            "\u001b[34m\u001b[1mwandb\u001b[0m: \tbatch_size: 32\n",
            "\u001b[34m\u001b[1mwandb\u001b[0m: \tdropout_rate: 0.5479010231390392\n",
            "\u001b[34m\u001b[1mwandb\u001b[0m: \tepochs: 30\n",
            "\u001b[34m\u001b[1mwandb\u001b[0m: \tlabel_smoothing: 0.22223961117304525\n",
            "\u001b[34m\u001b[1mwandb\u001b[0m: \tlearning_rate: 0.0003507942900207464\n",
            "\u001b[34m\u001b[1mwandb\u001b[0m: \tpatience: 8\n",
            "\u001b[34m\u001b[1mwandb\u001b[0m: \tweight_decay: 0.0007072641496874819\n"
          ]
        },
        {
          "output_type": "display_data",
          "data": {
            "text/plain": [
              "<IPython.core.display.HTML object>"
            ],
            "text/html": [
              "Ignoring project 'Facial_Expression_Recognition_5' when running a sweep."
            ]
          },
          "metadata": {}
        },
        {
          "output_type": "display_data",
          "data": {
            "text/plain": [
              "<IPython.core.display.HTML object>"
            ],
            "text/html": [
              "Tracking run with wandb version 0.19.11"
            ]
          },
          "metadata": {}
        },
        {
          "output_type": "display_data",
          "data": {
            "text/plain": [
              "<IPython.core.display.HTML object>"
            ],
            "text/html": [
              "Run data is saved locally in <code>/content/wandb/run-20250601_103741-1bdep6nf</code>"
            ]
          },
          "metadata": {}
        },
        {
          "output_type": "display_data",
          "data": {
            "text/plain": [
              "<IPython.core.display.HTML object>"
            ],
            "text/html": [
              "Syncing run <strong><a href='https://wandb.ai/konstantine25b-free-university-of-tbilisi-/Facial_Expression_Recognition_5/runs/1bdep6nf' target=\"_blank\">lyric-sweep-1</a></strong> to <a href='https://wandb.ai/konstantine25b-free-university-of-tbilisi-/Facial_Expression_Recognition_5' target=\"_blank\">Weights & Biases</a> (<a href='https://wandb.me/developer-guide' target=\"_blank\">docs</a>)<br>Sweep page: <a href='https://wandb.ai/konstantine25b-free-university-of-tbilisi-/Facial_Expression_Recognition_5/sweeps/als3wxaz' target=\"_blank\">https://wandb.ai/konstantine25b-free-university-of-tbilisi-/Facial_Expression_Recognition_5/sweeps/als3wxaz</a>"
            ]
          },
          "metadata": {}
        },
        {
          "output_type": "display_data",
          "data": {
            "text/plain": [
              "<IPython.core.display.HTML object>"
            ],
            "text/html": [
              " View project at <a href='https://wandb.ai/konstantine25b-free-university-of-tbilisi-/Facial_Expression_Recognition_5' target=\"_blank\">https://wandb.ai/konstantine25b-free-university-of-tbilisi-/Facial_Expression_Recognition_5</a>"
            ]
          },
          "metadata": {}
        },
        {
          "output_type": "display_data",
          "data": {
            "text/plain": [
              "<IPython.core.display.HTML object>"
            ],
            "text/html": [
              " View sweep at <a href='https://wandb.ai/konstantine25b-free-university-of-tbilisi-/Facial_Expression_Recognition_5/sweeps/als3wxaz' target=\"_blank\">https://wandb.ai/konstantine25b-free-university-of-tbilisi-/Facial_Expression_Recognition_5/sweeps/als3wxaz</a>"
            ]
          },
          "metadata": {}
        },
        {
          "output_type": "display_data",
          "data": {
            "text/plain": [
              "<IPython.core.display.HTML object>"
            ],
            "text/html": [
              " View run at <a href='https://wandb.ai/konstantine25b-free-university-of-tbilisi-/Facial_Expression_Recognition_5/runs/1bdep6nf' target=\"_blank\">https://wandb.ai/konstantine25b-free-university-of-tbilisi-/Facial_Expression_Recognition_5/runs/1bdep6nf</a>"
            ]
          },
          "metadata": {}
        },
        {
          "output_type": "stream",
          "name": "stderr",
          "text": [
            "Epoch 1/30 [Train]: 100%|██████████| 718/718 [00:32<00:00, 22.03it/s, loss=1.654, acc=34.6%]\n"
          ]
        },
        {
          "output_type": "stream",
          "name": "stdout",
          "text": [
            "Epoch 1/30, Train Loss: 1.7682, Train Acc: 34.64%, Val Loss: 1.6647, Val Acc: 42.51%, Gap: -7.87%\n",
            "New best model saved with validation accuracy: 42.51%\n"
          ]
        },
        {
          "output_type": "stream",
          "name": "stderr",
          "text": [
            "Epoch 2/30 [Train]: 100%|██████████| 718/718 [00:31<00:00, 22.46it/s, loss=1.463, acc=44.6%]\n"
          ]
        },
        {
          "output_type": "stream",
          "name": "stdout",
          "text": [
            "Epoch 2/30, Train Loss: 1.6527, Train Acc: 44.56%, Val Loss: 1.5941, Val Acc: 47.58%, Gap: -3.02%\n",
            "New best model saved with validation accuracy: 47.58%\n"
          ]
        },
        {
          "output_type": "stream",
          "name": "stderr",
          "text": [
            "Epoch 3/30 [Train]: 100%|██████████| 718/718 [00:31<00:00, 22.69it/s, loss=1.850, acc=49.4%]\n"
          ]
        },
        {
          "output_type": "stream",
          "name": "stdout",
          "text": [
            "Epoch 3/30, Train Loss: 1.5880, Train Acc: 49.44%, Val Loss: 1.5622, Val Acc: 50.19%, Gap: -0.76%\n",
            "New best model saved with validation accuracy: 50.19%\n"
          ]
        },
        {
          "output_type": "stream",
          "name": "stderr",
          "text": [
            "Epoch 4/30 [Train]: 100%|██████████| 718/718 [00:31<00:00, 22.80it/s, loss=1.436, acc=53.3%]\n"
          ]
        },
        {
          "output_type": "stream",
          "name": "stdout",
          "text": [
            "Epoch 4/30, Train Loss: 1.5373, Train Acc: 53.34%, Val Loss: 1.5408, Val Acc: 51.67%, Gap: 1.67%\n",
            "New best model saved with validation accuracy: 51.67%\n"
          ]
        },
        {
          "output_type": "stream",
          "name": "stderr",
          "text": [
            "Epoch 5/30 [Train]: 100%|██████████| 718/718 [00:31<00:00, 22.81it/s, loss=1.411, acc=55.3%]\n"
          ]
        },
        {
          "output_type": "stream",
          "name": "stdout",
          "text": [
            "Epoch 5/30, Train Loss: 1.5061, Train Acc: 55.29%, Val Loss: 1.5386, Val Acc: 52.14%, Gap: 3.15%\n",
            "New best model saved with validation accuracy: 52.14%\n"
          ]
        },
        {
          "output_type": "stream",
          "name": "stderr",
          "text": [
            "Epoch 6/30 [Train]: 100%|██████████| 718/718 [00:30<00:00, 23.55it/s, loss=1.556, acc=51.8%]\n"
          ]
        },
        {
          "output_type": "stream",
          "name": "stdout",
          "text": [
            "Epoch 6/30, Train Loss: 1.5590, Train Acc: 51.79%, Val Loss: 1.5546, Val Acc: 51.04%, Gap: 0.75%\n"
          ]
        },
        {
          "output_type": "stream",
          "name": "stderr",
          "text": [
            "Epoch 7/30 [Train]: 100%|██████████| 718/718 [00:29<00:00, 24.33it/s, loss=1.786, acc=55.0%]\n"
          ]
        },
        {
          "output_type": "stream",
          "name": "stdout",
          "text": [
            "Epoch 7/30, Train Loss: 1.5182, Train Acc: 55.02%, Val Loss: 1.5300, Val Acc: 53.05%, Gap: 1.97%\n",
            "New best model saved with validation accuracy: 53.05%\n"
          ]
        },
        {
          "output_type": "stream",
          "name": "stderr",
          "text": [
            "Epoch 8/30 [Train]: 100%|██████████| 718/718 [00:30<00:00, 23.62it/s, loss=1.446, acc=60.3%]\n"
          ]
        },
        {
          "output_type": "stream",
          "name": "stdout",
          "text": [
            "Epoch 8/30, Train Loss: 1.4528, Train Acc: 60.34%, Val Loss: 1.5204, Val Acc: 55.42%, Gap: 4.92%\n",
            "New best model saved with validation accuracy: 55.42%\n"
          ]
        },
        {
          "output_type": "stream",
          "name": "stderr",
          "text": [
            "Epoch 9/30 [Train]: 100%|██████████| 718/718 [00:30<00:00, 23.64it/s, loss=1.346, acc=65.5%]\n"
          ]
        },
        {
          "output_type": "stream",
          "name": "stdout",
          "text": [
            "Epoch 9/30, Train Loss: 1.3823, Train Acc: 65.47%, Val Loss: 1.5058, Val Acc: 56.23%, Gap: 9.24%\n",
            "New best model saved with validation accuracy: 56.23%\n"
          ]
        },
        {
          "output_type": "stream",
          "name": "stderr",
          "text": [
            "Epoch 10/30 [Train]: 100%|██████████| 718/718 [00:29<00:00, 24.39it/s, loss=1.304, acc=68.5%]\n"
          ]
        },
        {
          "output_type": "stream",
          "name": "stdout",
          "text": [
            "Epoch 10/30, Train Loss: 1.3438, Train Acc: 68.46%, Val Loss: 1.5138, Val Acc: 56.46%, Gap: 12.00%\n",
            "New best model saved with validation accuracy: 56.46%\n"
          ]
        },
        {
          "output_type": "stream",
          "name": "stderr",
          "text": [
            "Epoch 11/30 [Train]: 100%|██████████| 718/718 [00:30<00:00, 23.83it/s, loss=1.301, acc=61.8%]\n"
          ]
        },
        {
          "output_type": "stream",
          "name": "stdout",
          "text": [
            "Epoch 11/30, Train Loss: 1.4336, Train Acc: 61.77%, Val Loss: 1.5179, Val Acc: 54.34%, Gap: 7.43%\n"
          ]
        },
        {
          "output_type": "stream",
          "name": "stderr",
          "text": [
            "Epoch 12/30 [Train]: 100%|██████████| 718/718 [00:30<00:00, 23.86it/s, loss=1.290, acc=64.9%]\n"
          ]
        },
        {
          "output_type": "stream",
          "name": "stdout",
          "text": [
            "Epoch 12/30, Train Loss: 1.3935, Train Acc: 64.87%, Val Loss: 1.5170, Val Acc: 55.90%, Gap: 8.96%\n"
          ]
        },
        {
          "output_type": "stream",
          "name": "stderr",
          "text": [
            "Epoch 13/30 [Train]: 100%|██████████| 718/718 [00:29<00:00, 24.17it/s, loss=1.481, acc=70.5%]\n"
          ]
        },
        {
          "output_type": "stream",
          "name": "stdout",
          "text": [
            "Epoch 13/30, Train Loss: 1.3152, Train Acc: 70.49%, Val Loss: 1.5196, Val Acc: 56.81%, Gap: 13.68%\n",
            "New best model saved with validation accuracy: 56.81%\n"
          ]
        },
        {
          "output_type": "stream",
          "name": "stderr",
          "text": [
            "Epoch 14/30 [Train]: 100%|██████████| 718/718 [00:30<00:00, 23.43it/s, loss=1.485, acc=76.2%]\n"
          ]
        },
        {
          "output_type": "stream",
          "name": "stdout",
          "text": [
            "Epoch 14/30, Train Loss: 1.2383, Train Acc: 76.22%, Val Loss: 1.5276, Val Acc: 57.65%, Gap: 18.58%\n",
            "New best model saved with validation accuracy: 57.65%\n"
          ]
        },
        {
          "output_type": "stream",
          "name": "stderr",
          "text": [
            "Epoch 15/30 [Train]: 100%|██████████| 718/718 [00:30<00:00, 23.49it/s, loss=1.098, acc=79.4%]\n"
          ]
        },
        {
          "output_type": "stream",
          "name": "stdout",
          "text": [
            "Epoch 15/30, Train Loss: 1.1932, Train Acc: 79.38%, Val Loss: 1.5374, Val Acc: 57.56%, Gap: 21.82%\n"
          ]
        },
        {
          "output_type": "stream",
          "name": "stderr",
          "text": [
            "Epoch 16/30 [Train]: 100%|██████████| 718/718 [00:29<00:00, 24.28it/s, loss=1.289, acc=70.8%]\n"
          ]
        },
        {
          "output_type": "stream",
          "name": "stdout",
          "text": [
            "Epoch 16/30, Train Loss: 1.3130, Train Acc: 70.76%, Val Loss: 1.5457, Val Acc: 54.79%, Gap: 15.97%\n"
          ]
        },
        {
          "output_type": "stream",
          "name": "stderr",
          "text": [
            "Epoch 17/30 [Train]: 100%|██████████| 718/718 [00:30<00:00, 23.72it/s, loss=1.205, acc=74.0%]\n"
          ]
        },
        {
          "output_type": "stream",
          "name": "stdout",
          "text": [
            "Epoch 17/30, Train Loss: 1.2710, Train Acc: 74.03%, Val Loss: 1.5503, Val Acc: 56.15%, Gap: 17.88%\n"
          ]
        },
        {
          "output_type": "stream",
          "name": "stderr",
          "text": [
            "Epoch 18/30 [Train]: 100%|██████████| 718/718 [00:30<00:00, 23.77it/s, loss=1.181, acc=79.4%]\n"
          ]
        },
        {
          "output_type": "stream",
          "name": "stdout",
          "text": [
            "Epoch 18/30, Train Loss: 1.1926, Train Acc: 79.35%, Val Loss: 1.5552, Val Acc: 56.90%, Gap: 22.46%\n"
          ]
        },
        {
          "output_type": "stream",
          "name": "stderr",
          "text": [
            "Epoch 19/30 [Train]: 100%|██████████| 718/718 [00:29<00:00, 24.07it/s, loss=1.212, acc=84.0%]\n"
          ]
        },
        {
          "output_type": "stream",
          "name": "stdout",
          "text": [
            "Epoch 19/30, Train Loss: 1.1274, Train Acc: 83.95%, Val Loss: 1.5735, Val Acc: 57.12%, Gap: 26.83%\n"
          ]
        },
        {
          "output_type": "stream",
          "name": "stderr",
          "text": [
            "Epoch 20/30 [Train]: 100%|██████████| 718/718 [00:30<00:00, 23.55it/s, loss=0.984, acc=87.0%]\n"
          ]
        },
        {
          "output_type": "stream",
          "name": "stdout",
          "text": [
            "Epoch 20/30, Train Loss: 1.0824, Train Acc: 86.96%, Val Loss: 1.5798, Val Acc: 57.04%, Gap: 29.93%\n"
          ]
        },
        {
          "output_type": "stream",
          "name": "stderr",
          "text": [
            "Epoch 21/30 [Train]: 100%|██████████| 718/718 [00:30<00:00, 23.52it/s, loss=1.116, acc=78.2%]\n"
          ]
        },
        {
          "output_type": "stream",
          "name": "stdout",
          "text": [
            "Epoch 21/30, Train Loss: 1.2070, Train Acc: 78.19%, Val Loss: 1.5594, Val Acc: 56.46%, Gap: 21.72%\n"
          ]
        },
        {
          "output_type": "stream",
          "name": "stderr",
          "text": [
            "Epoch 22/30 [Train]: 100%|██████████| 718/718 [00:30<00:00, 23.41it/s, loss=1.148, acc=80.3%]\n"
          ]
        },
        {
          "output_type": "stream",
          "name": "stdout",
          "text": [
            "Epoch 22/30, Train Loss: 1.1762, Train Acc: 80.32%, Val Loss: 1.5744, Val Acc: 56.30%, Gap: 24.02%\n",
            "Early stopping triggered after 22 epochs\n",
            "Training completed. Best validation accuracy: 57.65%\n"
          ]
        },
        {
          "output_type": "display_data",
          "data": {
            "text/plain": [
              "<IPython.core.display.HTML object>"
            ],
            "text/html": []
          },
          "metadata": {}
        },
        {
          "output_type": "display_data",
          "data": {
            "text/plain": [
              "<IPython.core.display.HTML object>"
            ],
            "text/html": [
              "<br>    <style><br>        .wandb-row {<br>            display: flex;<br>            flex-direction: row;<br>            flex-wrap: wrap;<br>            justify-content: flex-start;<br>            width: 100%;<br>        }<br>        .wandb-col {<br>            display: flex;<br>            flex-direction: column;<br>            flex-basis: 100%;<br>            flex: 1;<br>            padding: 10px;<br>        }<br>    </style><br><div class=\"wandb-row\"><div class=\"wandb-col\"><h3>Run history:</h3><br/><table class=\"wandb\"><tr><td>batch_loss</td><td>██▆▆▆▄▆▄▅▄▄▃▅▅▃▄▄▄▆▅▃▃▂▃▄▄▃▃▁▃▃▃▃▂▁▃▁▃▃▂</td></tr><tr><td>best_val_accuracy</td><td>▁</td></tr><tr><td>epoch</td><td>▁▁▁▁▁▂▂▂▃▃▃▃▃▃▃▃▃▄▄▄▅▅▅▆▆▆▆▆▆▇▇▇▇▇▇█████</td></tr><tr><td>learning_rate</td><td>█▇▆▅▃▂▂▁▁▁▇▇▇▇▆▂▂▁▁▁█▇▆▄▃▂▂▂▁▁▁██▇▇▁███▇</td></tr><tr><td>train_accuracy</td><td>▁▂▃▄▄▃▄▄▅▆▅▅▆▇▇▆▆▇██▇▇</td></tr><tr><td>train_loss</td><td>█▇▆▆▅▆▅▅▄▄▅▄▃▃▂▃▃▂▁▁▂▂</td></tr><tr><td>train_val_gap</td><td>▁▂▂▃▃▃▃▃▄▅▄▄▅▆▆▅▆▇▇█▆▇</td></tr><tr><td>val_accuracy</td><td>▁▃▅▅▅▅▆▇▇▇▆▇███▇▇███▇▇</td></tr><tr><td>val_loss</td><td>█▅▃▃▂▃▂▂▁▁▂▁▂▂▂▃▃▃▄▄▃▄</td></tr></table><br/></div><div class=\"wandb-col\"><h3>Run summary:</h3><br/><table class=\"wandb\"><tr><td>batch_loss</td><td>1.38073</td></tr><tr><td>best_val_accuracy</td><td>57.64542</td></tr><tr><td>epoch</td><td>21</td></tr><tr><td>learning_rate</td><td>0.00023</td></tr><tr><td>train_accuracy</td><td>80.31959</td></tr><tr><td>train_loss</td><td>1.17624</td></tr><tr><td>train_val_gap</td><td>24.01517</td></tr><tr><td>val_accuracy</td><td>56.30442</td></tr><tr><td>val_loss</td><td>1.57444</td></tr></table><br/></div></div>"
            ]
          },
          "metadata": {}
        },
        {
          "output_type": "display_data",
          "data": {
            "text/plain": [
              "<IPython.core.display.HTML object>"
            ],
            "text/html": [
              " View run <strong style=\"color:#cdcd00\">lyric-sweep-1</strong> at: <a href='https://wandb.ai/konstantine25b-free-university-of-tbilisi-/Facial_Expression_Recognition_5/runs/1bdep6nf' target=\"_blank\">https://wandb.ai/konstantine25b-free-university-of-tbilisi-/Facial_Expression_Recognition_5/runs/1bdep6nf</a><br> View project at: <a href='https://wandb.ai/konstantine25b-free-university-of-tbilisi-/Facial_Expression_Recognition_5' target=\"_blank\">https://wandb.ai/konstantine25b-free-university-of-tbilisi-/Facial_Expression_Recognition_5</a><br>Synced 5 W&B file(s), 0 media file(s), 22 artifact file(s) and 0 other file(s)"
            ]
          },
          "metadata": {}
        },
        {
          "output_type": "display_data",
          "data": {
            "text/plain": [
              "<IPython.core.display.HTML object>"
            ],
            "text/html": [
              "Find logs at: <code>./wandb/run-20250601_103741-1bdep6nf/logs</code>"
            ]
          },
          "metadata": {}
        },
        {
          "output_type": "stream",
          "name": "stderr",
          "text": [
            "\u001b[34m\u001b[1mwandb\u001b[0m: Sweep Agent: Waiting for job.\n",
            "\u001b[34m\u001b[1mwandb\u001b[0m: Job received.\n",
            "\u001b[34m\u001b[1mwandb\u001b[0m: Agent Starting Run: c8pc87t1 with config:\n",
            "\u001b[34m\u001b[1mwandb\u001b[0m: \tbatch_size: 64\n",
            "\u001b[34m\u001b[1mwandb\u001b[0m: \tdropout_rate: 0.4909229676896912\n",
            "\u001b[34m\u001b[1mwandb\u001b[0m: \tepochs: 30\n",
            "\u001b[34m\u001b[1mwandb\u001b[0m: \tlabel_smoothing: 0.2043106694153542\n",
            "\u001b[34m\u001b[1mwandb\u001b[0m: \tlearning_rate: 0.00034487176440310024\n",
            "\u001b[34m\u001b[1mwandb\u001b[0m: \tpatience: 8\n",
            "\u001b[34m\u001b[1mwandb\u001b[0m: \tweight_decay: 0.00010395869729956298\n"
          ]
        },
        {
          "output_type": "display_data",
          "data": {
            "text/plain": [
              "<IPython.core.display.HTML object>"
            ],
            "text/html": [
              "Ignoring project 'Facial_Expression_Recognition_5' when running a sweep."
            ]
          },
          "metadata": {}
        },
        {
          "output_type": "display_data",
          "data": {
            "text/plain": [
              "<IPython.core.display.HTML object>"
            ],
            "text/html": [
              "Tracking run with wandb version 0.19.11"
            ]
          },
          "metadata": {}
        },
        {
          "output_type": "display_data",
          "data": {
            "text/plain": [
              "<IPython.core.display.HTML object>"
            ],
            "text/html": [
              "Run data is saved locally in <code>/content/wandb/run-20250601_105137-c8pc87t1</code>"
            ]
          },
          "metadata": {}
        },
        {
          "output_type": "display_data",
          "data": {
            "text/plain": [
              "<IPython.core.display.HTML object>"
            ],
            "text/html": [
              "Syncing run <strong><a href='https://wandb.ai/konstantine25b-free-university-of-tbilisi-/Facial_Expression_Recognition_5/runs/c8pc87t1' target=\"_blank\">stilted-sweep-2</a></strong> to <a href='https://wandb.ai/konstantine25b-free-university-of-tbilisi-/Facial_Expression_Recognition_5' target=\"_blank\">Weights & Biases</a> (<a href='https://wandb.me/developer-guide' target=\"_blank\">docs</a>)<br>Sweep page: <a href='https://wandb.ai/konstantine25b-free-university-of-tbilisi-/Facial_Expression_Recognition_5/sweeps/als3wxaz' target=\"_blank\">https://wandb.ai/konstantine25b-free-university-of-tbilisi-/Facial_Expression_Recognition_5/sweeps/als3wxaz</a>"
            ]
          },
          "metadata": {}
        },
        {
          "output_type": "display_data",
          "data": {
            "text/plain": [
              "<IPython.core.display.HTML object>"
            ],
            "text/html": [
              " View project at <a href='https://wandb.ai/konstantine25b-free-university-of-tbilisi-/Facial_Expression_Recognition_5' target=\"_blank\">https://wandb.ai/konstantine25b-free-university-of-tbilisi-/Facial_Expression_Recognition_5</a>"
            ]
          },
          "metadata": {}
        },
        {
          "output_type": "display_data",
          "data": {
            "text/plain": [
              "<IPython.core.display.HTML object>"
            ],
            "text/html": [
              " View sweep at <a href='https://wandb.ai/konstantine25b-free-university-of-tbilisi-/Facial_Expression_Recognition_5/sweeps/als3wxaz' target=\"_blank\">https://wandb.ai/konstantine25b-free-university-of-tbilisi-/Facial_Expression_Recognition_5/sweeps/als3wxaz</a>"
            ]
          },
          "metadata": {}
        },
        {
          "output_type": "display_data",
          "data": {
            "text/plain": [
              "<IPython.core.display.HTML object>"
            ],
            "text/html": [
              " View run at <a href='https://wandb.ai/konstantine25b-free-university-of-tbilisi-/Facial_Expression_Recognition_5/runs/c8pc87t1' target=\"_blank\">https://wandb.ai/konstantine25b-free-university-of-tbilisi-/Facial_Expression_Recognition_5/runs/c8pc87t1</a>"
            ]
          },
          "metadata": {}
        },
        {
          "output_type": "stream",
          "name": "stderr",
          "text": [
            "Epoch 1/30 [Train]: 100%|██████████| 359/359 [00:26<00:00, 13.55it/s, loss=1.694, acc=32.5%]\n"
          ]
        },
        {
          "output_type": "stream",
          "name": "stdout",
          "text": [
            "Epoch 1/30, Train Loss: 1.7809, Train Acc: 32.49%, Val Loss: 1.6681, Val Acc: 41.83%, Gap: -9.34%\n",
            "New best model saved with validation accuracy: 41.83%\n"
          ]
        },
        {
          "output_type": "stream",
          "name": "stderr",
          "text": [
            "Epoch 2/30 [Train]: 100%|██████████| 359/359 [00:26<00:00, 13.55it/s, loss=1.599, acc=43.5%]\n"
          ]
        },
        {
          "output_type": "stream",
          "name": "stdout",
          "text": [
            "Epoch 2/30, Train Loss: 1.6452, Train Acc: 43.55%, Val Loss: 1.6023, Val Acc: 45.63%, Gap: -2.08%\n",
            "New best model saved with validation accuracy: 45.63%\n"
          ]
        },
        {
          "output_type": "stream",
          "name": "stderr",
          "text": [
            "Epoch 3/30 [Train]: 100%|██████████| 359/359 [00:26<00:00, 13.42it/s, loss=1.524, acc=48.4%]\n"
          ]
        },
        {
          "output_type": "stream",
          "name": "stdout",
          "text": [
            "Epoch 3/30, Train Loss: 1.5805, Train Acc: 48.38%, Val Loss: 1.5589, Val Acc: 48.82%, Gap: -0.43%\n",
            "New best model saved with validation accuracy: 48.82%\n"
          ]
        },
        {
          "output_type": "stream",
          "name": "stderr",
          "text": [
            "Epoch 4/30 [Train]: 100%|██████████| 359/359 [00:27<00:00, 13.28it/s, loss=1.675, acc=52.5%]\n"
          ]
        },
        {
          "output_type": "stream",
          "name": "stdout",
          "text": [
            "Epoch 4/30, Train Loss: 1.5288, Train Acc: 52.54%, Val Loss: 1.5434, Val Acc: 50.31%, Gap: 2.22%\n",
            "New best model saved with validation accuracy: 50.31%\n"
          ]
        },
        {
          "output_type": "stream",
          "name": "stderr",
          "text": [
            "Epoch 5/30 [Train]: 100%|██████████| 359/359 [00:26<00:00, 13.33it/s, loss=1.552, acc=54.3%]\n"
          ]
        },
        {
          "output_type": "stream",
          "name": "stdout",
          "text": [
            "Epoch 5/30, Train Loss: 1.4993, Train Acc: 54.29%, Val Loss: 1.5399, Val Acc: 50.73%, Gap: 3.56%\n",
            "New best model saved with validation accuracy: 50.73%\n"
          ]
        },
        {
          "output_type": "stream",
          "name": "stderr",
          "text": [
            "Epoch 6/30 [Train]: 100%|██████████| 359/359 [00:26<00:00, 13.51it/s, loss=1.525, acc=51.3%]\n"
          ]
        },
        {
          "output_type": "stream",
          "name": "stdout",
          "text": [
            "Epoch 6/30, Train Loss: 1.5418, Train Acc: 51.30%, Val Loss: 1.5429, Val Acc: 51.01%, Gap: 0.29%\n",
            "New best model saved with validation accuracy: 51.01%\n"
          ]
        },
        {
          "output_type": "stream",
          "name": "stderr",
          "text": [
            "Epoch 7/30 [Train]: 100%|██████████| 359/359 [00:27<00:00, 12.99it/s, loss=1.594, acc=55.8%]\n"
          ]
        },
        {
          "output_type": "stream",
          "name": "stdout",
          "text": [
            "Epoch 7/30, Train Loss: 1.4855, Train Acc: 55.79%, Val Loss: 1.5158, Val Acc: 52.98%, Gap: 2.82%\n",
            "New best model saved with validation accuracy: 52.98%\n"
          ]
        },
        {
          "output_type": "stream",
          "name": "stderr",
          "text": [
            "Epoch 8/30 [Train]: 100%|██████████| 359/359 [00:26<00:00, 13.77it/s, loss=1.429, acc=60.2%]\n"
          ]
        },
        {
          "output_type": "stream",
          "name": "stdout",
          "text": [
            "Epoch 8/30, Train Loss: 1.4246, Train Acc: 60.24%, Val Loss: 1.5024, Val Acc: 54.95%, Gap: 5.29%\n",
            "New best model saved with validation accuracy: 54.95%\n"
          ]
        },
        {
          "output_type": "stream",
          "name": "stderr",
          "text": [
            "Epoch 9/30 [Train]: 100%|██████████| 359/359 [00:27<00:00, 13.23it/s, loss=1.363, acc=65.1%]\n"
          ]
        },
        {
          "output_type": "stream",
          "name": "stdout",
          "text": [
            "Epoch 9/30, Train Loss: 1.3604, Train Acc: 65.09%, Val Loss: 1.4973, Val Acc: 55.31%, Gap: 9.78%\n",
            "New best model saved with validation accuracy: 55.31%\n"
          ]
        },
        {
          "output_type": "stream",
          "name": "stderr",
          "text": [
            "Epoch 10/30 [Train]: 100%|██████████| 359/359 [00:27<00:00, 13.05it/s, loss=1.435, acc=68.0%]\n"
          ]
        },
        {
          "output_type": "stream",
          "name": "stdout",
          "text": [
            "Epoch 10/30, Train Loss: 1.3209, Train Acc: 68.01%, Val Loss: 1.5024, Val Acc: 55.38%, Gap: 12.63%\n",
            "New best model saved with validation accuracy: 55.38%\n"
          ]
        },
        {
          "output_type": "stream",
          "name": "stderr",
          "text": [
            "Epoch 11/30 [Train]: 100%|██████████| 359/359 [00:27<00:00, 13.16it/s, loss=1.346, acc=62.2%]\n"
          ]
        },
        {
          "output_type": "stream",
          "name": "stdout",
          "text": [
            "Epoch 11/30, Train Loss: 1.3986, Train Acc: 62.17%, Val Loss: 1.5056, Val Acc: 54.62%, Gap: 7.55%\n"
          ]
        },
        {
          "output_type": "stream",
          "name": "stderr",
          "text": [
            "Epoch 12/30 [Train]: 100%|██████████| 359/359 [00:28<00:00, 12.58it/s, loss=1.399, acc=66.1%]\n"
          ]
        },
        {
          "output_type": "stream",
          "name": "stdout",
          "text": [
            "Epoch 12/30, Train Loss: 1.3483, Train Acc: 66.12%, Val Loss: 1.5253, Val Acc: 54.89%, Gap: 11.22%\n"
          ]
        },
        {
          "output_type": "stream",
          "name": "stderr",
          "text": [
            "Epoch 13/30 [Train]: 100%|██████████| 359/359 [00:28<00:00, 12.78it/s, loss=1.204, acc=71.0%]\n"
          ]
        },
        {
          "output_type": "stream",
          "name": "stdout",
          "text": [
            "Epoch 13/30, Train Loss: 1.2795, Train Acc: 70.97%, Val Loss: 1.5216, Val Acc: 55.99%, Gap: 14.98%\n",
            "New best model saved with validation accuracy: 55.99%\n"
          ]
        },
        {
          "output_type": "stream",
          "name": "stderr",
          "text": [
            "Epoch 14/30 [Train]: 100%|██████████| 359/359 [00:28<00:00, 12.73it/s, loss=1.212, acc=76.1%]\n"
          ]
        },
        {
          "output_type": "stream",
          "name": "stdout",
          "text": [
            "Epoch 14/30, Train Loss: 1.2035, Train Acc: 76.13%, Val Loss: 1.5343, Val Acc: 56.32%, Gap: 19.80%\n",
            "New best model saved with validation accuracy: 56.32%\n"
          ]
        },
        {
          "output_type": "stream",
          "name": "stderr",
          "text": [
            "Epoch 15/30 [Train]: 100%|██████████| 359/359 [00:27<00:00, 12.96it/s, loss=1.242, acc=78.9%]\n"
          ]
        },
        {
          "output_type": "stream",
          "name": "stdout",
          "text": [
            "Epoch 15/30, Train Loss: 1.1634, Train Acc: 78.87%, Val Loss: 1.5374, Val Acc: 56.13%, Gap: 22.74%\n"
          ]
        },
        {
          "output_type": "stream",
          "name": "stderr",
          "text": [
            "Epoch 16/30 [Train]: 100%|██████████| 359/359 [00:27<00:00, 13.04it/s, loss=1.332, acc=71.8%]\n"
          ]
        },
        {
          "output_type": "stream",
          "name": "stdout",
          "text": [
            "Epoch 16/30, Train Loss: 1.2639, Train Acc: 71.76%, Val Loss: 1.5560, Val Acc: 54.01%, Gap: 17.75%\n"
          ]
        },
        {
          "output_type": "stream",
          "name": "stderr",
          "text": [
            "Epoch 17/30 [Train]: 100%|██████████| 359/359 [00:26<00:00, 13.31it/s, loss=1.244, acc=75.0%]\n"
          ]
        },
        {
          "output_type": "stream",
          "name": "stdout",
          "text": [
            "Epoch 17/30, Train Loss: 1.2210, Train Acc: 75.01%, Val Loss: 1.5612, Val Acc: 54.23%, Gap: 20.78%\n"
          ]
        },
        {
          "output_type": "stream",
          "name": "stderr",
          "text": [
            "Epoch 18/30 [Train]: 100%|██████████| 359/359 [00:26<00:00, 13.56it/s, loss=1.166, acc=79.3%]\n"
          ]
        },
        {
          "output_type": "stream",
          "name": "stdout",
          "text": [
            "Epoch 18/30, Train Loss: 1.1563, Train Acc: 79.27%, Val Loss: 1.5608, Val Acc: 55.61%, Gap: 23.67%\n"
          ]
        },
        {
          "output_type": "stream",
          "name": "stderr",
          "text": [
            "Epoch 19/30 [Train]: 100%|██████████| 359/359 [00:25<00:00, 14.09it/s, loss=1.097, acc=84.0%]\n"
          ]
        },
        {
          "output_type": "stream",
          "name": "stdout",
          "text": [
            "Epoch 19/30, Train Loss: 1.0847, Train Acc: 84.04%, Val Loss: 1.5775, Val Acc: 55.69%, Gap: 28.34%\n"
          ]
        },
        {
          "output_type": "stream",
          "name": "stderr",
          "text": [
            "Epoch 20/30 [Train]: 100%|██████████| 359/359 [00:25<00:00, 13.84it/s, loss=1.044, acc=86.0%]\n"
          ]
        },
        {
          "output_type": "stream",
          "name": "stdout",
          "text": [
            "Epoch 20/30, Train Loss: 1.0499, Train Acc: 86.03%, Val Loss: 1.5865, Val Acc: 55.69%, Gap: 30.33%\n"
          ]
        },
        {
          "output_type": "stream",
          "name": "stderr",
          "text": [
            "Epoch 21/30 [Train]: 100%|██████████| 359/359 [00:27<00:00, 13.21it/s, loss=1.324, acc=79.2%]\n"
          ]
        },
        {
          "output_type": "stream",
          "name": "stdout",
          "text": [
            "Epoch 21/30, Train Loss: 1.1562, Train Acc: 79.17%, Val Loss: 1.6043, Val Acc: 53.74%, Gap: 25.43%\n"
          ]
        },
        {
          "output_type": "stream",
          "name": "stderr",
          "text": [
            "Epoch 22/30 [Train]: 100%|██████████| 359/359 [00:27<00:00, 13.25it/s, loss=1.110, acc=81.0%]\n"
          ]
        },
        {
          "output_type": "stream",
          "name": "stdout",
          "text": [
            "Epoch 22/30, Train Loss: 1.1277, Train Acc: 81.01%, Val Loss: 1.5842, Val Acc: 55.21%, Gap: 25.80%\n",
            "Early stopping triggered after 22 epochs\n",
            "Training completed. Best validation accuracy: 56.32%\n"
          ]
        },
        {
          "output_type": "display_data",
          "data": {
            "text/plain": [
              "<IPython.core.display.HTML object>"
            ],
            "text/html": []
          },
          "metadata": {}
        },
        {
          "output_type": "display_data",
          "data": {
            "text/plain": [
              "<IPython.core.display.HTML object>"
            ],
            "text/html": [
              "<br>    <style><br>        .wandb-row {<br>            display: flex;<br>            flex-direction: row;<br>            flex-wrap: wrap;<br>            justify-content: flex-start;<br>            width: 100%;<br>        }<br>        .wandb-col {<br>            display: flex;<br>            flex-direction: column;<br>            flex-basis: 100%;<br>            flex: 1;<br>            padding: 10px;<br>        }<br>    </style><br><div class=\"wandb-row\"><div class=\"wandb-col\"><h3>Run history:</h3><br/><table class=\"wandb\"><tr><td>batch_loss</td><td>██▆▇▆▆▆▆▇▅▅▅▆▄▅▄▅▆▅▆▄▄▂▄▃▃▂▂▄▃▂▃▄▂▂▁▁▁▂▁</td></tr><tr><td>best_val_accuracy</td><td>▁</td></tr><tr><td>epoch</td><td>▁▁▁▁▂▂▂▃▃▃▃▃▃▃▄▄▄▅▅▅▅▅▅▅▅▆▆▆▆▆▇▇▇▇▇▇████</td></tr><tr><td>learning_rate</td><td>█▇▇▇▇▅▃▃▃▂▁██▆▃▃▂▂▂▁██▆▅▃▁▁██▇▆▅▅▃▂▁██▇▆</td></tr><tr><td>train_accuracy</td><td>▁▂▃▄▄▃▄▅▅▆▅▅▆▇▇▆▇▇██▇▇</td></tr><tr><td>train_loss</td><td>█▇▆▆▅▆▅▅▄▄▄▄▃▂▂▃▃▂▁▁▂▂</td></tr><tr><td>train_val_gap</td><td>▁▂▃▃▃▃▃▄▄▅▄▅▅▆▇▆▆▇██▇▇</td></tr><tr><td>val_accuracy</td><td>▁▃▄▅▅▅▆▇██▇▇███▇▇███▇▇</td></tr><tr><td>val_loss</td><td>█▅▄▃▃▃▂▁▁▁▁▂▂▃▃▃▄▄▄▅▅▅</td></tr></table><br/></div><div class=\"wandb-col\"><h3>Run summary:</h3><br/><table class=\"wandb\"><tr><td>batch_loss</td><td>1.04638</td></tr><tr><td>best_val_accuracy</td><td>56.32184</td></tr><tr><td>epoch</td><td>21</td></tr><tr><td>learning_rate</td><td>0.00023</td></tr><tr><td>train_accuracy</td><td>81.00753</td></tr><tr><td>train_loss</td><td>1.12775</td></tr><tr><td>train_val_gap</td><td>25.80029</td></tr><tr><td>val_accuracy</td><td>55.20724</td></tr><tr><td>val_loss</td><td>1.58417</td></tr></table><br/></div></div>"
            ]
          },
          "metadata": {}
        },
        {
          "output_type": "display_data",
          "data": {
            "text/plain": [
              "<IPython.core.display.HTML object>"
            ],
            "text/html": [
              " View run <strong style=\"color:#cdcd00\">stilted-sweep-2</strong> at: <a href='https://wandb.ai/konstantine25b-free-university-of-tbilisi-/Facial_Expression_Recognition_5/runs/c8pc87t1' target=\"_blank\">https://wandb.ai/konstantine25b-free-university-of-tbilisi-/Facial_Expression_Recognition_5/runs/c8pc87t1</a><br> View project at: <a href='https://wandb.ai/konstantine25b-free-university-of-tbilisi-/Facial_Expression_Recognition_5' target=\"_blank\">https://wandb.ai/konstantine25b-free-university-of-tbilisi-/Facial_Expression_Recognition_5</a><br>Synced 5 W&B file(s), 0 media file(s), 24 artifact file(s) and 0 other file(s)"
            ]
          },
          "metadata": {}
        },
        {
          "output_type": "display_data",
          "data": {
            "text/plain": [
              "<IPython.core.display.HTML object>"
            ],
            "text/html": [
              "Find logs at: <code>./wandb/run-20250601_105137-c8pc87t1/logs</code>"
            ]
          },
          "metadata": {}
        },
        {
          "output_type": "stream",
          "name": "stderr",
          "text": [
            "\u001b[34m\u001b[1mwandb\u001b[0m: Agent Starting Run: a0bqej27 with config:\n",
            "\u001b[34m\u001b[1mwandb\u001b[0m: \tbatch_size: 32\n",
            "\u001b[34m\u001b[1mwandb\u001b[0m: \tdropout_rate: 0.6672363047253114\n",
            "\u001b[34m\u001b[1mwandb\u001b[0m: \tepochs: 30\n",
            "\u001b[34m\u001b[1mwandb\u001b[0m: \tlabel_smoothing: 0.2246903076650116\n",
            "\u001b[34m\u001b[1mwandb\u001b[0m: \tlearning_rate: 0.00019855275671255853\n",
            "\u001b[34m\u001b[1mwandb\u001b[0m: \tpatience: 8\n",
            "\u001b[34m\u001b[1mwandb\u001b[0m: \tweight_decay: 0.0016493858200521444\n"
          ]
        },
        {
          "output_type": "display_data",
          "data": {
            "text/plain": [
              "<IPython.core.display.HTML object>"
            ],
            "text/html": [
              "Ignoring project 'Facial_Expression_Recognition_5' when running a sweep."
            ]
          },
          "metadata": {}
        },
        {
          "output_type": "display_data",
          "data": {
            "text/plain": [
              "<IPython.core.display.HTML object>"
            ],
            "text/html": [
              "Tracking run with wandb version 0.19.11"
            ]
          },
          "metadata": {}
        },
        {
          "output_type": "display_data",
          "data": {
            "text/plain": [
              "<IPython.core.display.HTML object>"
            ],
            "text/html": [
              "Run data is saved locally in <code>/content/wandb/run-20250601_110351-a0bqej27</code>"
            ]
          },
          "metadata": {}
        },
        {
          "output_type": "display_data",
          "data": {
            "text/plain": [
              "<IPython.core.display.HTML object>"
            ],
            "text/html": [
              "Syncing run <strong><a href='https://wandb.ai/konstantine25b-free-university-of-tbilisi-/Facial_Expression_Recognition_5/runs/a0bqej27' target=\"_blank\">pretty-sweep-3</a></strong> to <a href='https://wandb.ai/konstantine25b-free-university-of-tbilisi-/Facial_Expression_Recognition_5' target=\"_blank\">Weights & Biases</a> (<a href='https://wandb.me/developer-guide' target=\"_blank\">docs</a>)<br>Sweep page: <a href='https://wandb.ai/konstantine25b-free-university-of-tbilisi-/Facial_Expression_Recognition_5/sweeps/als3wxaz' target=\"_blank\">https://wandb.ai/konstantine25b-free-university-of-tbilisi-/Facial_Expression_Recognition_5/sweeps/als3wxaz</a>"
            ]
          },
          "metadata": {}
        },
        {
          "output_type": "display_data",
          "data": {
            "text/plain": [
              "<IPython.core.display.HTML object>"
            ],
            "text/html": [
              " View project at <a href='https://wandb.ai/konstantine25b-free-university-of-tbilisi-/Facial_Expression_Recognition_5' target=\"_blank\">https://wandb.ai/konstantine25b-free-university-of-tbilisi-/Facial_Expression_Recognition_5</a>"
            ]
          },
          "metadata": {}
        },
        {
          "output_type": "display_data",
          "data": {
            "text/plain": [
              "<IPython.core.display.HTML object>"
            ],
            "text/html": [
              " View sweep at <a href='https://wandb.ai/konstantine25b-free-university-of-tbilisi-/Facial_Expression_Recognition_5/sweeps/als3wxaz' target=\"_blank\">https://wandb.ai/konstantine25b-free-university-of-tbilisi-/Facial_Expression_Recognition_5/sweeps/als3wxaz</a>"
            ]
          },
          "metadata": {}
        },
        {
          "output_type": "display_data",
          "data": {
            "text/plain": [
              "<IPython.core.display.HTML object>"
            ],
            "text/html": [
              " View run at <a href='https://wandb.ai/konstantine25b-free-university-of-tbilisi-/Facial_Expression_Recognition_5/runs/a0bqej27' target=\"_blank\">https://wandb.ai/konstantine25b-free-university-of-tbilisi-/Facial_Expression_Recognition_5/runs/a0bqej27</a>"
            ]
          },
          "metadata": {}
        },
        {
          "output_type": "stream",
          "name": "stderr",
          "text": [
            "Epoch 1/30 [Train]: 100%|██████████| 718/718 [00:32<00:00, 22.10it/s, loss=1.789, acc=30.9%]\n"
          ]
        },
        {
          "output_type": "stream",
          "name": "stdout",
          "text": [
            "Epoch 1/30, Train Loss: 1.8078, Train Acc: 30.94%, Val Loss: 1.6974, Val Acc: 40.63%, Gap: -9.69%\n",
            "New best model saved with validation accuracy: 40.63%\n"
          ]
        },
        {
          "output_type": "stream",
          "name": "stderr",
          "text": [
            "Epoch 2/30 [Train]: 100%|██████████| 718/718 [00:32<00:00, 22.24it/s, loss=1.745, acc=41.2%]\n"
          ]
        },
        {
          "output_type": "stream",
          "name": "stdout",
          "text": [
            "Epoch 2/30, Train Loss: 1.6995, Train Acc: 41.21%, Val Loss: 1.6383, Val Acc: 43.38%, Gap: -2.17%\n",
            "New best model saved with validation accuracy: 43.38%\n"
          ]
        },
        {
          "output_type": "stream",
          "name": "stderr",
          "text": [
            "Epoch 3/30 [Train]: 100%|██████████| 718/718 [00:32<00:00, 22.32it/s, loss=1.836, acc=45.2%]\n"
          ]
        },
        {
          "output_type": "stream",
          "name": "stdout",
          "text": [
            "Epoch 3/30, Train Loss: 1.6459, Train Acc: 45.21%, Val Loss: 1.6149, Val Acc: 45.44%, Gap: -0.22%\n",
            "New best model saved with validation accuracy: 45.44%\n"
          ]
        },
        {
          "output_type": "stream",
          "name": "stderr",
          "text": [
            "Epoch 4/30 [Train]: 100%|██████████| 718/718 [00:31<00:00, 22.45it/s, loss=1.777, acc=48.1%]\n"
          ]
        },
        {
          "output_type": "stream",
          "name": "stdout",
          "text": [
            "Epoch 4/30, Train Loss: 1.6080, Train Acc: 48.10%, Val Loss: 1.6003, Val Acc: 47.07%, Gap: 1.02%\n",
            "New best model saved with validation accuracy: 47.07%\n"
          ]
        },
        {
          "output_type": "stream",
          "name": "stderr",
          "text": [
            "Epoch 5/30 [Train]: 100%|██████████| 718/718 [00:32<00:00, 21.97it/s, loss=1.704, acc=49.5%]\n"
          ]
        },
        {
          "output_type": "stream",
          "name": "stdout",
          "text": [
            "Epoch 5/30, Train Loss: 1.5842, Train Acc: 49.49%, Val Loss: 1.5951, Val Acc: 47.42%, Gap: 2.07%\n",
            "New best model saved with validation accuracy: 47.42%\n"
          ]
        },
        {
          "output_type": "stream",
          "name": "stderr",
          "text": [
            "Epoch 6/30 [Train]: 100%|██████████| 718/718 [00:32<00:00, 21.90it/s, loss=1.748, acc=47.8%]\n"
          ]
        },
        {
          "output_type": "stream",
          "name": "stdout",
          "text": [
            "Epoch 6/30, Train Loss: 1.6126, Train Acc: 47.75%, Val Loss: 1.6057, Val Acc: 46.69%, Gap: 1.06%\n"
          ]
        },
        {
          "output_type": "stream",
          "name": "stderr",
          "text": [
            "Epoch 7/30 [Train]: 100%|██████████| 718/718 [00:32<00:00, 22.15it/s, loss=1.586, acc=50.7%]\n"
          ]
        },
        {
          "output_type": "stream",
          "name": "stdout",
          "text": [
            "Epoch 7/30, Train Loss: 1.5721, Train Acc: 50.69%, Val Loss: 1.5762, Val Acc: 49.53%, Gap: 1.16%\n",
            "New best model saved with validation accuracy: 49.53%\n"
          ]
        },
        {
          "output_type": "stream",
          "name": "stderr",
          "text": [
            "Epoch 8/30 [Train]: 100%|██████████| 718/718 [00:32<00:00, 21.95it/s, loss=1.598, acc=53.7%]\n"
          ]
        },
        {
          "output_type": "stream",
          "name": "stdout",
          "text": [
            "Epoch 8/30, Train Loss: 1.5300, Train Acc: 53.67%, Val Loss: 1.5653, Val Acc: 50.84%, Gap: 2.84%\n",
            "New best model saved with validation accuracy: 50.84%\n"
          ]
        },
        {
          "output_type": "stream",
          "name": "stderr",
          "text": [
            "Epoch 9/30 [Train]: 100%|██████████| 718/718 [00:32<00:00, 22.39it/s, loss=1.821, acc=57.2%]\n"
          ]
        },
        {
          "output_type": "stream",
          "name": "stdout",
          "text": [
            "Epoch 9/30, Train Loss: 1.4870, Train Acc: 57.21%, Val Loss: 1.5641, Val Acc: 51.46%, Gap: 5.75%\n",
            "New best model saved with validation accuracy: 51.46%\n"
          ]
        },
        {
          "output_type": "stream",
          "name": "stderr",
          "text": [
            "Epoch 10/30 [Train]: 100%|██████████| 718/718 [00:31<00:00, 22.78it/s, loss=1.521, acc=59.2%]\n"
          ]
        },
        {
          "output_type": "stream",
          "name": "stdout",
          "text": [
            "Epoch 10/30, Train Loss: 1.4598, Train Acc: 59.15%, Val Loss: 1.5616, Val Acc: 51.41%, Gap: 7.74%\n"
          ]
        },
        {
          "output_type": "stream",
          "name": "stderr",
          "text": [
            "Epoch 11/30 [Train]: 100%|██████████| 718/718 [00:31<00:00, 22.94it/s, loss=1.522, acc=55.5%]\n"
          ]
        },
        {
          "output_type": "stream",
          "name": "stdout",
          "text": [
            "Epoch 11/30, Train Loss: 1.5101, Train Acc: 55.47%, Val Loss: 1.5640, Val Acc: 51.50%, Gap: 3.97%\n",
            "New best model saved with validation accuracy: 51.50%\n"
          ]
        },
        {
          "output_type": "stream",
          "name": "stderr",
          "text": [
            "Epoch 12/30 [Train]: 100%|██████████| 718/718 [00:31<00:00, 22.71it/s, loss=1.264, acc=57.8%]\n"
          ]
        },
        {
          "output_type": "stream",
          "name": "stdout",
          "text": [
            "Epoch 12/30, Train Loss: 1.4803, Train Acc: 57.83%, Val Loss: 1.5513, Val Acc: 51.76%, Gap: 6.07%\n",
            "New best model saved with validation accuracy: 51.76%\n"
          ]
        },
        {
          "output_type": "stream",
          "name": "stderr",
          "text": [
            "Epoch 13/30 [Train]: 100%|██████████| 718/718 [00:31<00:00, 22.58it/s, loss=1.476, acc=62.4%]\n"
          ]
        },
        {
          "output_type": "stream",
          "name": "stdout",
          "text": [
            "Epoch 13/30, Train Loss: 1.4259, Train Acc: 62.41%, Val Loss: 1.5541, Val Acc: 53.17%, Gap: 9.24%\n",
            "New best model saved with validation accuracy: 53.17%\n"
          ]
        },
        {
          "output_type": "stream",
          "name": "stderr",
          "text": [
            "Epoch 14/30 [Train]: 100%|██████████| 718/718 [00:31<00:00, 22.92it/s, loss=1.429, acc=66.5%]\n"
          ]
        },
        {
          "output_type": "stream",
          "name": "stdout",
          "text": [
            "Epoch 14/30, Train Loss: 1.3752, Train Acc: 66.49%, Val Loss: 1.5529, Val Acc: 53.69%, Gap: 12.79%\n",
            "New best model saved with validation accuracy: 53.69%\n"
          ]
        },
        {
          "output_type": "stream",
          "name": "stderr",
          "text": [
            "Epoch 15/30 [Train]: 100%|██████████| 718/718 [00:31<00:00, 22.80it/s, loss=1.323, acc=68.2%]\n"
          ]
        },
        {
          "output_type": "stream",
          "name": "stdout",
          "text": [
            "Epoch 15/30, Train Loss: 1.3457, Train Acc: 68.20%, Val Loss: 1.5538, Val Acc: 53.69%, Gap: 14.51%\n"
          ]
        },
        {
          "output_type": "stream",
          "name": "stderr",
          "text": [
            "Epoch 16/30 [Train]: 100%|██████████| 718/718 [00:31<00:00, 22.59it/s, loss=1.564, acc=62.6%]\n"
          ]
        },
        {
          "output_type": "stream",
          "name": "stdout",
          "text": [
            "Epoch 16/30, Train Loss: 1.4223, Train Acc: 62.62%, Val Loss: 1.5535, Val Acc: 53.20%, Gap: 9.42%\n"
          ]
        },
        {
          "output_type": "stream",
          "name": "stderr",
          "text": [
            "Epoch 17/30 [Train]: 100%|██████████| 718/718 [00:31<00:00, 22.55it/s, loss=1.347, acc=65.8%]\n"
          ]
        },
        {
          "output_type": "stream",
          "name": "stdout",
          "text": [
            "Epoch 17/30, Train Loss: 1.3802, Train Acc: 65.82%, Val Loss: 1.5525, Val Acc: 53.92%, Gap: 11.90%\n",
            "New best model saved with validation accuracy: 53.92%\n"
          ]
        },
        {
          "output_type": "stream",
          "name": "stderr",
          "text": [
            "Epoch 18/30 [Train]: 100%|██████████| 718/718 [00:32<00:00, 22.43it/s, loss=1.399, acc=69.7%]\n"
          ]
        },
        {
          "output_type": "stream",
          "name": "stdout",
          "text": [
            "Epoch 18/30, Train Loss: 1.3262, Train Acc: 69.70%, Val Loss: 1.5759, Val Acc: 54.04%, Gap: 15.66%\n",
            "New best model saved with validation accuracy: 54.04%\n"
          ]
        },
        {
          "output_type": "stream",
          "name": "stderr",
          "text": [
            "Epoch 19/30 [Train]: 100%|██████████| 718/718 [00:31<00:00, 22.67it/s, loss=1.321, acc=74.3%]\n"
          ]
        },
        {
          "output_type": "stream",
          "name": "stdout",
          "text": [
            "Epoch 19/30, Train Loss: 1.2683, Train Acc: 74.33%, Val Loss: 1.5643, Val Acc: 55.52%, Gap: 18.81%\n",
            "New best model saved with validation accuracy: 55.52%\n"
          ]
        },
        {
          "output_type": "stream",
          "name": "stderr",
          "text": [
            "Epoch 20/30 [Train]: 100%|██████████| 718/718 [00:31<00:00, 22.55it/s, loss=1.273, acc=76.3%]\n"
          ]
        },
        {
          "output_type": "stream",
          "name": "stdout",
          "text": [
            "Epoch 20/30, Train Loss: 1.2379, Train Acc: 76.34%, Val Loss: 1.5633, Val Acc: 55.35%, Gap: 20.99%\n"
          ]
        },
        {
          "output_type": "stream",
          "name": "stderr",
          "text": [
            "Epoch 21/30 [Train]: 100%|██████████| 718/718 [00:32<00:00, 22.41it/s, loss=1.307, acc=69.8%]\n"
          ]
        },
        {
          "output_type": "stream",
          "name": "stdout",
          "text": [
            "Epoch 21/30, Train Loss: 1.3269, Train Acc: 69.85%, Val Loss: 1.5881, Val Acc: 52.77%, Gap: 17.08%\n"
          ]
        },
        {
          "output_type": "stream",
          "name": "stderr",
          "text": [
            "Epoch 22/30 [Train]: 100%|██████████| 718/718 [00:31<00:00, 22.46it/s, loss=1.353, acc=72.9%]\n"
          ]
        },
        {
          "output_type": "stream",
          "name": "stdout",
          "text": [
            "Epoch 22/30, Train Loss: 1.2879, Train Acc: 72.86%, Val Loss: 1.5715, Val Acc: 54.65%, Gap: 18.21%\n"
          ]
        },
        {
          "output_type": "stream",
          "name": "stderr",
          "text": [
            "Epoch 23/30 [Train]: 100%|██████████| 718/718 [00:31<00:00, 22.91it/s, loss=1.117, acc=76.5%]\n"
          ]
        },
        {
          "output_type": "stream",
          "name": "stdout",
          "text": [
            "Epoch 23/30, Train Loss: 1.2333, Train Acc: 76.46%, Val Loss: 1.5729, Val Acc: 55.59%, Gap: 20.87%\n",
            "New best model saved with validation accuracy: 55.59%\n"
          ]
        },
        {
          "output_type": "stream",
          "name": "stderr",
          "text": [
            "Epoch 24/30 [Train]: 100%|██████████| 718/718 [00:31<00:00, 22.66it/s, loss=1.131, acc=80.6%]\n"
          ]
        },
        {
          "output_type": "stream",
          "name": "stdout",
          "text": [
            "Epoch 24/30, Train Loss: 1.1789, Train Acc: 80.64%, Val Loss: 1.5910, Val Acc: 54.96%, Gap: 25.67%\n"
          ]
        },
        {
          "output_type": "stream",
          "name": "stderr",
          "text": [
            "Epoch 25/30 [Train]: 100%|██████████| 718/718 [00:31<00:00, 22.58it/s, loss=1.110, acc=82.7%]\n"
          ]
        },
        {
          "output_type": "stream",
          "name": "stdout",
          "text": [
            "Epoch 25/30, Train Loss: 1.1509, Train Acc: 82.67%, Val Loss: 1.5869, Val Acc: 55.52%, Gap: 27.15%\n"
          ]
        },
        {
          "output_type": "stream",
          "name": "stderr",
          "text": [
            "Epoch 26/30 [Train]: 100%|██████████| 718/718 [00:31<00:00, 22.69it/s, loss=1.276, acc=76.5%]\n"
          ]
        },
        {
          "output_type": "stream",
          "name": "stdout",
          "text": [
            "Epoch 26/30, Train Loss: 1.2385, Train Acc: 76.51%, Val Loss: 1.5995, Val Acc: 54.63%, Gap: 21.87%\n"
          ]
        },
        {
          "output_type": "stream",
          "name": "stderr",
          "text": [
            "Epoch 27/30 [Train]: 100%|██████████| 718/718 [00:32<00:00, 22.35it/s, loss=1.271, acc=78.3%]\n"
          ]
        },
        {
          "output_type": "stream",
          "name": "stdout",
          "text": [
            "Epoch 27/30, Train Loss: 1.2108, Train Acc: 78.30%, Val Loss: 1.6012, Val Acc: 55.02%, Gap: 23.28%\n"
          ]
        },
        {
          "output_type": "stream",
          "name": "stderr",
          "text": [
            "Epoch 28/30 [Train]: 100%|██████████| 718/718 [00:32<00:00, 22.35it/s, loss=1.204, acc=82.3%]\n"
          ]
        },
        {
          "output_type": "stream",
          "name": "stdout",
          "text": [
            "Epoch 28/30, Train Loss: 1.1587, Train Acc: 82.28%, Val Loss: 1.6065, Val Acc: 54.79%, Gap: 27.49%\n"
          ]
        },
        {
          "output_type": "stream",
          "name": "stderr",
          "text": [
            "Epoch 29/30 [Train]: 100%|██████████| 718/718 [00:32<00:00, 22.43it/s, loss=1.099, acc=85.2%]\n"
          ]
        },
        {
          "output_type": "stream",
          "name": "stdout",
          "text": [
            "Epoch 29/30, Train Loss: 1.1119, Train Acc: 85.25%, Val Loss: 1.6087, Val Acc: 55.96%, Gap: 29.29%\n",
            "New best model saved with validation accuracy: 55.96%\n"
          ]
        },
        {
          "output_type": "stream",
          "name": "stderr",
          "text": [
            "Epoch 30/30 [Train]: 100%|██████████| 718/718 [00:31<00:00, 22.46it/s, loss=1.053, acc=87.5%]\n"
          ]
        },
        {
          "output_type": "stream",
          "name": "stdout",
          "text": [
            "Epoch 30/30, Train Loss: 1.0813, Train Acc: 87.51%, Val Loss: 1.6137, Val Acc: 55.59%, Gap: 31.92%\n",
            "Training completed. Best validation accuracy: 55.96%\n"
          ]
        },
        {
          "output_type": "display_data",
          "data": {
            "text/plain": [
              "<IPython.core.display.HTML object>"
            ],
            "text/html": []
          },
          "metadata": {}
        },
        {
          "output_type": "display_data",
          "data": {
            "text/plain": [
              "<IPython.core.display.HTML object>"
            ],
            "text/html": [
              "<br>    <style><br>        .wandb-row {<br>            display: flex;<br>            flex-direction: row;<br>            flex-wrap: wrap;<br>            justify-content: flex-start;<br>            width: 100%;<br>        }<br>        .wandb-col {<br>            display: flex;<br>            flex-direction: column;<br>            flex-basis: 100%;<br>            flex: 1;<br>            padding: 10px;<br>        }<br>    </style><br><div class=\"wandb-row\"><div class=\"wandb-col\"><h3>Run history:</h3><br/><table class=\"wandb\"><tr><td>batch_loss</td><td>▇▆▆▇▆▇▆█▆▅▅▆▅▅▅▅▆▆▆▄▅▄▄▄▅▃▄▁▃▄▃▃▄▄▃▃▂▃▁▁</td></tr><tr><td>best_val_accuracy</td><td>▁</td></tr><tr><td>epoch</td><td>▁▁▁▁▁▂▂▂▃▃▃▃▃▄▄▄▅▅▅▅▅▅▅▅▆▆▆▆▆▇▇▇▇▇▇█████</td></tr><tr><td>learning_rate</td><td>███▇▄▁█▇▇▆▅▄▄▂▂▁▁▇▇▆▃▂███▅▄▄▁▁▆▅▄▂█▆▄▃▂▁</td></tr><tr><td>train_accuracy</td><td>▁▂▃▃▃▃▃▄▄▄▄▄▅▅▆▅▅▆▆▇▆▆▇▇▇▇▇▇██</td></tr><tr><td>train_loss</td><td>█▇▆▆▆▆▆▅▅▅▅▅▄▄▄▄▄▃▃▃▃▃▂▂▂▃▂▂▁▁</td></tr><tr><td>train_val_gap</td><td>▁▂▃▃▃▃▃▃▄▄▃▄▄▅▅▄▅▅▆▆▆▆▆▇▇▆▇▇██</td></tr><tr><td>val_accuracy</td><td>▁▂▃▄▄▄▅▆▆▆▆▆▇▇▇▇▇▇██▇▇███▇█▇██</td></tr><tr><td>val_loss</td><td>█▅▄▃▃▄▂▂▂▁▂▁▁▁▁▁▁▂▂▂▃▂▂▃▃▃▃▄▄▄</td></tr></table><br/></div><div class=\"wandb-col\"><h3>Run summary:</h3><br/><table class=\"wandb\"><tr><td>batch_loss</td><td>1.01189</td></tr><tr><td>best_val_accuracy</td><td>55.95611</td></tr><tr><td>epoch</td><td>29</td></tr><tr><td>learning_rate</td><td>0.0</td></tr><tr><td>train_accuracy</td><td>87.50816</td></tr><tr><td>train_loss</td><td>1.08125</td></tr><tr><td>train_val_gap</td><td>31.91778</td></tr><tr><td>val_accuracy</td><td>55.59039</td></tr><tr><td>val_loss</td><td>1.61374</td></tr></table><br/></div></div>"
            ]
          },
          "metadata": {}
        },
        {
          "output_type": "display_data",
          "data": {
            "text/plain": [
              "<IPython.core.display.HTML object>"
            ],
            "text/html": [
              " View run <strong style=\"color:#cdcd00\">pretty-sweep-3</strong> at: <a href='https://wandb.ai/konstantine25b-free-university-of-tbilisi-/Facial_Expression_Recognition_5/runs/a0bqej27' target=\"_blank\">https://wandb.ai/konstantine25b-free-university-of-tbilisi-/Facial_Expression_Recognition_5/runs/a0bqej27</a><br> View project at: <a href='https://wandb.ai/konstantine25b-free-university-of-tbilisi-/Facial_Expression_Recognition_5' target=\"_blank\">https://wandb.ai/konstantine25b-free-university-of-tbilisi-/Facial_Expression_Recognition_5</a><br>Synced 5 W&B file(s), 0 media file(s), 34 artifact file(s) and 0 other file(s)"
            ]
          },
          "metadata": {}
        },
        {
          "output_type": "display_data",
          "data": {
            "text/plain": [
              "<IPython.core.display.HTML object>"
            ],
            "text/html": [
              "Find logs at: <code>./wandb/run-20250601_110351-a0bqej27/logs</code>"
            ]
          },
          "metadata": {}
        }
      ]
    },
    {
      "cell_type": "code",
      "source": [
        "api = wandb.Api()\n",
        "runs = api.runs(\"konstantine25b-free-university-of-tbilisi-/Facial_Expression_Recognition_5\")\n",
        "\n",
        "best_run = None\n",
        "best_val_acc = 0"
      ],
      "metadata": {
        "id": "9142j0OkPJgW"
      },
      "execution_count": 35,
      "outputs": []
    },
    {
      "cell_type": "code",
      "source": [
        "for run in runs:\n",
        "    if run.state == \"finished\" and \"best_val_accuracy\" in run.summary:\n",
        "        val_acc = run.summary[\"best_val_accuracy\"]\n",
        "        if val_acc > best_val_acc:\n",
        "            best_val_acc = val_acc\n",
        "            best_run = run"
      ],
      "metadata": {
        "id": "vdTI1HIuPRaW"
      },
      "execution_count": 36,
      "outputs": []
    },
    {
      "cell_type": "code",
      "source": [
        "if best_run:\n",
        "    print(f\"\\nBest run: {best_run.name}\")\n",
        "    print(f\"Best validation accuracy: {best_val_acc:.2f}%\")\n",
        "    print(f\"Best hyperparameters: {best_run.config}\")\n",
        "\n",
        "    # Download the artifact\n",
        "    artifacts = api.artifact(f\"konstantine25b-free-university-of-tbilisi-/Facial_Expression_Recognition_5/best_model_{best_run.name}:latest\")\n",
        "    download_path = artifacts.download()\n",
        "\n",
        "    # Check what was actually downloaded\n",
        "    print(f\"Downloaded to: {download_path}\")\n",
        "\n",
        "    # Find the correct path to the model file\n",
        "    import os\n",
        "    model_file_path = None\n",
        "\n",
        "    # Check in the download directory\n",
        "    if os.path.exists(os.path.join(download_path, \"best_model.pth\")):\n",
        "        model_file_path = os.path.join(download_path, \"best_model.pth\")\n",
        "    # Check in current directory\n",
        "    elif os.path.exists(\"best_model.pth\"):\n",
        "        model_file_path = \"best_model.pth\"\n",
        "    # Search recursively\n",
        "    else:\n",
        "        for root, dirs, files in os.walk(\".\"):\n",
        "            if \"best_model.pth\" in files:\n",
        "                model_file_path = os.path.join(root, \"best_model.pth\")\n",
        "                break\n",
        "\n",
        "    if model_file_path and os.path.exists(model_file_path):\n",
        "        print(f\"Found model file at: {model_file_path}\")\n",
        "\n",
        "        # Create final artifact with correct path\n",
        "        final_artifact = wandb.Artifact(\n",
        "            name=\"final_best_resnet_model\",\n",
        "            type=\"model\",\n",
        "            description=f\"Final best ResNet model with {best_val_acc:.2f}% validation accuracy\"\n",
        "        )\n",
        "        final_artifact.add_file(model_file_path)\n",
        "\n",
        "        # Upload the final artifact\n",
        "        with wandb.init(project=\"Facial_Expression_Recognition_5\", name=\"final_model_upload\"):\n",
        "            wandb.log_artifact(final_artifact)\n",
        "            wandb.log({\n",
        "                \"final_best_val_accuracy\": best_val_acc,\n",
        "                \"model_architecture\": \"ResNet\",\n",
        "                \"ready_for_testing\": True\n",
        "            })\n",
        "\n",
        "        print(f\"\\nFinal model uploaded to wandb as 'final_best_resnet_model'\")\n",
        "        print(\"You can now load this model in the future for testing on any dataset!\")\n",
        "\n",
        "        print(\"\\nTo test on a different dataset in the future, use:\")\n",
        "        print(\"evaluate_model_on_testset('path_to_downloaded_model.pth', 'your_test_dataset.csv')\")\n",
        "\n",
        "    else:\n",
        "        print(\"Error: Could not find the downloaded model file!\")\n",
        "        print(\"Files in current directory:\")\n",
        "        for item in os.listdir(\".\"):\n",
        "            print(f\"  {item}\")\n",
        "\n",
        "else:\n",
        "    print(\"No successful runs found!\")"
      ],
      "metadata": {
        "colab": {
          "base_uri": "https://localhost:8080/",
          "height": 788
        },
        "id": "vx8OeKnDPTNT",
        "outputId": "90510b11-7e95-4714-bcaa-1b12772c87dc"
      },
      "execution_count": 38,
      "outputs": [
        {
          "output_type": "stream",
          "name": "stdout",
          "text": [
            "\n",
            "Best run: lyric-sweep-1\n",
            "Best validation accuracy: 57.65%\n",
            "Best hyperparameters: {'epochs': 30, 'patience': 8, 'batch_size': 32, 'dropout_rate': 0.5479010231390392, 'weight_decay': 0.0007072641496874819, 'learning_rate': 0.0003507942900207464, 'label_smoothing': 0.22223961117304525}\n"
          ]
        },
        {
          "output_type": "stream",
          "name": "stderr",
          "text": [
            "\u001b[34m\u001b[1mwandb\u001b[0m:   1 of 1 files downloaded.  \n"
          ]
        },
        {
          "output_type": "stream",
          "name": "stdout",
          "text": [
            "Downloaded to: /content/artifacts/best_model_lyric-sweep-1:v10\n",
            "Found model file at: /content/artifacts/best_model_lyric-sweep-1:v10/best_model.pth\n"
          ]
        },
        {
          "output_type": "display_data",
          "data": {
            "text/plain": [
              "<IPython.core.display.HTML object>"
            ],
            "text/html": [
              "Changes to your `wandb` environment variables will be ignored because your `wandb` session has already started. For more information on how to modify your settings with `wandb.init()` arguments, please refer to <a href='https://wandb.me/wandb-init' target=\"_blank\">the W&B docs</a>."
            ]
          },
          "metadata": {}
        },
        {
          "output_type": "display_data",
          "data": {
            "text/plain": [
              "<IPython.core.display.HTML object>"
            ],
            "text/html": [
              "Ignoring project 'Facial_Expression_Recognition_5' when running a sweep."
            ]
          },
          "metadata": {}
        },
        {
          "output_type": "display_data",
          "data": {
            "text/plain": [
              "<IPython.core.display.HTML object>"
            ],
            "text/html": [
              "Tracking run with wandb version 0.19.11"
            ]
          },
          "metadata": {}
        },
        {
          "output_type": "display_data",
          "data": {
            "text/plain": [
              "<IPython.core.display.HTML object>"
            ],
            "text/html": [
              "Run data is saved locally in <code>/content/wandb/run-20250601_112633-a0bqej27</code>"
            ]
          },
          "metadata": {}
        },
        {
          "output_type": "display_data",
          "data": {
            "text/plain": [
              "<IPython.core.display.HTML object>"
            ],
            "text/html": [
              "Syncing run <strong><a href='https://wandb.ai/konstantine25b-free-university-of-tbilisi-/Facial_Expression_Recognition_5/runs/a0bqej27' target=\"_blank\">final_model_upload</a></strong> to <a href='https://wandb.ai/konstantine25b-free-university-of-tbilisi-/Facial_Expression_Recognition_5' target=\"_blank\">Weights & Biases</a> (<a href='https://wandb.me/developer-guide' target=\"_blank\">docs</a>)<br>Sweep page: <a href='https://wandb.ai/konstantine25b-free-university-of-tbilisi-/Facial_Expression_Recognition_5/sweeps/als3wxaz' target=\"_blank\">https://wandb.ai/konstantine25b-free-university-of-tbilisi-/Facial_Expression_Recognition_5/sweeps/als3wxaz</a>"
            ]
          },
          "metadata": {}
        },
        {
          "output_type": "display_data",
          "data": {
            "text/plain": [
              "<IPython.core.display.HTML object>"
            ],
            "text/html": [
              " View project at <a href='https://wandb.ai/konstantine25b-free-university-of-tbilisi-/Facial_Expression_Recognition_5' target=\"_blank\">https://wandb.ai/konstantine25b-free-university-of-tbilisi-/Facial_Expression_Recognition_5</a>"
            ]
          },
          "metadata": {}
        },
        {
          "output_type": "display_data",
          "data": {
            "text/plain": [
              "<IPython.core.display.HTML object>"
            ],
            "text/html": [
              " View sweep at <a href='https://wandb.ai/konstantine25b-free-university-of-tbilisi-/Facial_Expression_Recognition_5/sweeps/als3wxaz' target=\"_blank\">https://wandb.ai/konstantine25b-free-university-of-tbilisi-/Facial_Expression_Recognition_5/sweeps/als3wxaz</a>"
            ]
          },
          "metadata": {}
        },
        {
          "output_type": "display_data",
          "data": {
            "text/plain": [
              "<IPython.core.display.HTML object>"
            ],
            "text/html": [
              " View run at <a href='https://wandb.ai/konstantine25b-free-university-of-tbilisi-/Facial_Expression_Recognition_5/runs/a0bqej27' target=\"_blank\">https://wandb.ai/konstantine25b-free-university-of-tbilisi-/Facial_Expression_Recognition_5/runs/a0bqej27</a>"
            ]
          },
          "metadata": {}
        },
        {
          "output_type": "display_data",
          "data": {
            "text/plain": [
              "<IPython.core.display.HTML object>"
            ],
            "text/html": []
          },
          "metadata": {}
        },
        {
          "output_type": "display_data",
          "data": {
            "text/plain": [
              "<IPython.core.display.HTML object>"
            ],
            "text/html": [
              "<br>    <style><br>        .wandb-row {<br>            display: flex;<br>            flex-direction: row;<br>            flex-wrap: wrap;<br>            justify-content: flex-start;<br>            width: 100%;<br>        }<br>        .wandb-col {<br>            display: flex;<br>            flex-direction: column;<br>            flex-basis: 100%;<br>            flex: 1;<br>            padding: 10px;<br>        }<br>    </style><br><div class=\"wandb-row\"><div class=\"wandb-col\"><h3>Run history:</h3><br/><table class=\"wandb\"><tr><td>final_best_val_accuracy</td><td>▁</td></tr></table><br/></div><div class=\"wandb-col\"><h3>Run summary:</h3><br/><table class=\"wandb\"><tr><td>final_best_val_accuracy</td><td>57.64542</td></tr><tr><td>model_architecture</td><td>ResNet</td></tr><tr><td>ready_for_testing</td><td>True</td></tr></table><br/></div></div>"
            ]
          },
          "metadata": {}
        },
        {
          "output_type": "display_data",
          "data": {
            "text/plain": [
              "<IPython.core.display.HTML object>"
            ],
            "text/html": [
              " View run <strong style=\"color:#cdcd00\">final_model_upload</strong> at: <a href='https://wandb.ai/konstantine25b-free-university-of-tbilisi-/Facial_Expression_Recognition_5/runs/a0bqej27' target=\"_blank\">https://wandb.ai/konstantine25b-free-university-of-tbilisi-/Facial_Expression_Recognition_5/runs/a0bqej27</a><br> View project at: <a href='https://wandb.ai/konstantine25b-free-university-of-tbilisi-/Facial_Expression_Recognition_5' target=\"_blank\">https://wandb.ai/konstantine25b-free-university-of-tbilisi-/Facial_Expression_Recognition_5</a><br>Synced 5 W&B file(s), 0 media file(s), 2 artifact file(s) and 0 other file(s)"
            ]
          },
          "metadata": {}
        },
        {
          "output_type": "display_data",
          "data": {
            "text/plain": [
              "<IPython.core.display.HTML object>"
            ],
            "text/html": [
              "Find logs at: <code>./wandb/run-20250601_112633-a0bqej27/logs</code>"
            ]
          },
          "metadata": {}
        },
        {
          "output_type": "stream",
          "name": "stdout",
          "text": [
            "\n",
            "Final model uploaded to wandb as 'final_best_resnet_model'\n",
            "You can now load this model in the future for testing on any dataset!\n",
            "\n",
            "To test on a different dataset in the future, use:\n",
            "evaluate_model_on_testset('path_to_downloaded_model.pth', 'your_test_dataset.csv')\n"
          ]
        }
      ]
    }
  ],
  "metadata": {
    "kernelspec": {
      "display_name": "Python 3",
      "name": "python3"
    },
    "language_info": {
      "name": "python",
      "version": "3.12.10"
    },
    "colab": {
      "provenance": [],
      "gpuType": "T4"
    },
    "accelerator": "GPU"
  },
  "nbformat": 4,
  "nbformat_minor": 0
}